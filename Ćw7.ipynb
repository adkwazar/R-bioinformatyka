{
 "cells": [
  {
   "cell_type": "markdown",
   "id": "ead70a09",
   "metadata": {},
   "source": [
    "<h4> Regresja liniowa"
   ]
  },
  {
   "cell_type": "code",
   "execution_count": 3,
   "id": "248aca8f",
   "metadata": {},
   "outputs": [
    {
     "data": {
      "image/png": "[encoded data removed]",
      "text/plain": [
       "plot without title"
      ]
     },
     "metadata": {},
     "output_type": "display_data"
    }
   ],
   "source": [
    "x = c(18,19,20,21,22,23,24,25,26,27,28,29)\n",
    "y = c(76.1,77,78.1,78.2,78.8,79.7,79.9,81.1,81.2,81.8,82.8,83.5)\n",
    "\n",
    "options(repr.plot.width=4, repr.plot.height=4)\n",
    "plot(x,y)"
   ]
  },
  {
   "cell_type": "code",
   "execution_count": 4,
   "id": "e70d7a26",
   "metadata": {},
   "outputs": [
    {
     "data": {
      "text/html": [
       "0.994366098146598"
      ],
      "text/latex": [
       "0.994366098146598"
      ],
      "text/markdown": [
       "0.994366098146598"
      ],
      "text/plain": [
       "[1] 0.9943661"
      ]
     },
     "metadata": {},
     "output_type": "display_data"
    }
   ],
   "source": [
    "cor(x,y) #spolczynnik korealcji Pearsona"
   ]
  },
  {
   "cell_type": "code",
   "execution_count": 5,
   "id": "77111b0b",
   "metadata": {},
   "outputs": [
    {
     "name": "stdout",
     "output_type": "stream",
     "text": [
      "\n",
      "Call:\n",
      "lm(formula = y ~ x)\n",
      "\n",
      "Residuals:\n",
      "     Min       1Q   Median       3Q      Max \n",
      "-0.27238 -0.24248 -0.02762  0.16014  0.47238 \n",
      "\n",
      "Coefficients:\n",
      "            Estimate Std. Error t value Pr(>|t|)    \n",
      "(Intercept)  64.9283     0.5084  127.71  < 2e-16 ***\n",
      "x             0.6350     0.0214   29.66 4.43e-11 ***\n",
      "---\n",
      "Signif. codes:  0 '***' 0.001 '**' 0.01 '*' 0.05 '.' 0.1 ' ' 1\n",
      "\n",
      "Residual standard error: 0.256 on 10 degrees of freedom\n",
      "Multiple R-squared:  0.9888,\tAdjusted R-squared:  0.9876 \n",
      "F-statistic:   880 on 1 and 10 DF,  p-value: 4.428e-11\n",
      "\n"
     ]
    }
   ],
   "source": [
    "lm.r = lm(y ~ x) #budujemy model regresji liniowej y=ax+b\n",
    "print(summary(lm.r))"
   ]
  },
  {
   "cell_type": "code",
   "execution_count": 6,
   "id": "9364e0a9",
   "metadata": {},
   "outputs": [
    {
     "name": "stdout",
     "output_type": "stream",
     "text": [
      "(Intercept)           x \n",
      "  64.928322    0.634965 \n"
     ]
    }
   ],
   "source": [
    "print(coef(lm.r)) #same wspolczynniki"
   ]
  },
  {
   "cell_type": "code",
   "execution_count": 7,
   "id": "04233d73",
   "metadata": {},
   "outputs": [
    {
     "data": {
      "text/html": [
       "<table>\n",
       "<thead><tr><th></th><th scope=col>2.5 %</th><th scope=col>97.5 %</th></tr></thead>\n",
       "<tbody>\n",
       "\t<tr><th scope=row>(Intercept)</th><td>63.7955131</td><td>66.0611303</td></tr>\n",
       "\t<tr><th scope=row>x</th><td> 0.5872722</td><td> 0.6826578</td></tr>\n",
       "</tbody>\n",
       "</table>\n"
      ],
      "text/latex": [
       "\\begin{tabular}{r|ll}\n",
       "  & 2.5 \\% & 97.5 \\%\\\\\n",
       "\\hline\n",
       "\t(Intercept) & 63.7955131 & 66.0611303\\\\\n",
       "\tx &  0.5872722 &  0.6826578\\\\\n",
       "\\end{tabular}\n"
      ],
      "text/markdown": [
       "\n",
       "| <!--/--> | 2.5 % | 97.5 % |\n",
       "|---|---|---|\n",
       "| (Intercept) | 63.7955131 | 66.0611303 |\n",
       "| x |  0.5872722 |  0.6826578 |\n",
       "\n"
      ],
      "text/plain": [
       "            2.5 %      97.5 %    \n",
       "(Intercept) 63.7955131 66.0611303\n",
       "x            0.5872722  0.6826578"
      ]
     },
     "metadata": {},
     "output_type": "display_data"
    }
   ],
   "source": [
    "confint(lm.r, level = 0.95) #przedzial ufnosci dla parametrow modelu"
   ]
  },
  {
   "cell_type": "code",
   "execution_count": 8,
   "id": "be0a319e",
   "metadata": {},
   "outputs": [
    {
     "data": {
      "image/png": "[encoded data removed]",
      "text/plain": [
       "plot without title"
      ]
     },
     "metadata": {},
     "output_type": "display_data"
    }
   ],
   "source": [
    "plot(y, lm.r$residuals)\n",
    "abline(h = 0) #dodaje y=0; punkty powinny byc rozrzucone symetrycznie wzgledem tej prostej"
   ]
  },
  {
   "cell_type": "markdown",
   "id": "08188ec2",
   "metadata": {},
   "source": [
    "Diagnostyka modelu:"
   ]
  },
  {
   "cell_type": "code",
   "execution_count": 9,
   "id": "e7a562cb",
   "metadata": {},
   "outputs": [
    {
     "data": {
      "image/png": "[encoded data removed]",
      "text/plain": [
       "Plot with title \"\""
      ]
     },
     "metadata": {},
     "output_type": "display_data"
    }
   ],
   "source": [
    "options(repr.plot.width=10, repr.plot.height=5)\n",
    "\n",
    "par(mfrow = c(2, 2));\n",
    "plot(lm.r)"
   ]
  },
  {
   "cell_type": "markdown",
   "id": "1ee8ac63",
   "metadata": {},
   "source": [
    "Opis:\n",
    "\n",
    "- residuals vs fitted: na osi OX oszacowane y_pred; na osi OY: y - y_pred; powinno być w okolicach 0 (w miare symetrycznie)\n",
    "\n",
    "- normal QQ: na osi OY kwantyle empiryczne dla standaryzowanych reszt\n",
    "\n",
    "- scale location: na osi OX oszacowane y_pred; na osi OY: pierwiastki z modułów standarzyowanych reszt (powinny być równie rozłożone wokół czerwonej linii; ta nie powinna wykazywac zadnej tendencji --> stała wariancja)\n",
    "\n",
    "- residuals vs laverage: do wykrywania obserwacji nietypowych; na osi OY stanaryzowane reszty; na osi OX dźwignie $h_i$ (miara wpływu obserwacji na ocene współczynników). Interesują nas te przypadki, które wpadają poza czerwone wykreskowane linie. Im większa wartość, tym bardziej dana obserwacja wpływa na wartości współczynnika regresji."
   ]
  },
  {
   "cell_type": "code",
   "execution_count": 10,
   "id": "28cfc9a0",
   "metadata": {},
   "outputs": [
    {
     "data": {
      "text/html": [
       "<table>\n",
       "<thead><tr><th scope=col>fit</th><th scope=col>lwr</th><th scope=col>upr</th></tr></thead>\n",
       "<tbody>\n",
       "\t<tr><td>83.02483</td><td>82.73505</td><td>83.3146 </td></tr>\n",
       "</tbody>\n",
       "</table>\n"
      ],
      "text/latex": [
       "\\begin{tabular}{r|lll}\n",
       " fit & lwr & upr\\\\\n",
       "\\hline\n",
       "\t 83.02483 & 82.73505 & 83.3146 \\\\\n",
       "\\end{tabular}\n"
      ],
      "text/markdown": [
       "\n",
       "| fit | lwr | upr |\n",
       "|---|---|---|\n",
       "| 83.02483 | 82.73505 | 83.3146  |\n",
       "\n"
      ],
      "text/plain": [
       "  fit      lwr      upr    \n",
       "1 83.02483 82.73505 83.3146"
      ]
     },
     "metadata": {},
     "output_type": "display_data"
    }
   ],
   "source": [
    "#przewidywanie nowych wartosci\n",
    "predict(lm.r, data.frame(x = 28.5), level = 0.95, interval = \"confidence\")"
   ]
  },
  {
   "cell_type": "markdown",
   "id": "d2e05811",
   "metadata": {},
   "source": [
    "<h4> Zadanie1: Przeanalizuj dane $mass.txt$ zawierające informacje dotyczące masy ciała (trzecia kolumna) oraz masy mózgu (druga kolumna) dla pewnych ssaków.\n",
    "    \n",
    "- narysuj wykres zależności trzeciej kolumny od drugiej, zbuduj model regresji liniowej (szukamy zależności masy ciała w oparciu o masę mózgu)\n",
    "  \n",
    "- przekształć wartości drugiej i trzeciej kolumny przez logarytm a następnie wykonaj regresję liniową (szukamy zależności masy ciała w oparciu o masę mózgu),\n",
    "  \n",
    "- skomentuj otrzymane modele a następnie dokonaj ich diagnostyki,\n",
    "    \n",
    "- jaka by była masa ciała ssaka, którego masa mózgu wynosi 62 (wg obu modeli)?"
   ]
  },
  {
   "cell_type": "markdown",
   "id": "991c0f60",
   "metadata": {},
   "source": [
    "<h4> Zadanie2: Rozważ dane dotyczące wczasowiczów spędzających czas nad morzem w miejscowości $X$. Pierwsza kolumna określa dzienną liczbę incydentów (takie jak wypadki/utonięcia), druga zawiera informacje o liczbie sprzedanych lodów w ciągu kolejnych dni. Zbuduj odpowiedni model liniowy a następnie skomentuj otrzymane wyniki. Czy dostrzegasz pewne niebezpieczeństwo?"
   ]
  },
  {
   "cell_type": "code",
   "execution_count": 9,
   "id": "16511d16",
   "metadata": {},
   "outputs": [
    {
     "data": {
      "text/html": [
       "<table>\n",
       "<thead><tr><th scope=col>x</th><th scope=col>y</th></tr></thead>\n",
       "<tbody>\n",
       "\t<tr><td> 56</td><td>267</td></tr>\n",
       "\t<tr><td> 87</td><td>406</td></tr>\n",
       "\t<tr><td> 92</td><td>485</td></tr>\n",
       "\t<tr><td> 45</td><td>279</td></tr>\n",
       "\t<tr><td> 87</td><td>417</td></tr>\n",
       "\t<tr><td> 12</td><td>109</td></tr>\n",
       "\t<tr><td>102</td><td>538</td></tr>\n",
       "\t<tr><td> 88</td><td>410</td></tr>\n",
       "\t<tr><td> 17</td><td> 58</td></tr>\n",
       "\t<tr><td> 10</td><td> 31</td></tr>\n",
       "</tbody>\n",
       "</table>\n"
      ],
      "text/latex": [
       "\\begin{tabular}{r|ll}\n",
       " x & y\\\\\n",
       "\\hline\n",
       "\t  56 & 267\\\\\n",
       "\t  87 & 406\\\\\n",
       "\t  92 & 485\\\\\n",
       "\t  45 & 279\\\\\n",
       "\t  87 & 417\\\\\n",
       "\t  12 & 109\\\\\n",
       "\t 102 & 538\\\\\n",
       "\t  88 & 410\\\\\n",
       "\t  17 &  58\\\\\n",
       "\t  10 &  31\\\\\n",
       "\\end{tabular}\n"
      ],
      "text/markdown": [
       "\n",
       "| x | y |\n",
       "|---|---|\n",
       "|  56 | 267 |\n",
       "|  87 | 406 |\n",
       "|  92 | 485 |\n",
       "|  45 | 279 |\n",
       "|  87 | 417 |\n",
       "|  12 | 109 |\n",
       "| 102 | 538 |\n",
       "|  88 | 410 |\n",
       "|  17 |  58 |\n",
       "|  10 |  31 |\n",
       "\n"
      ],
      "text/plain": [
       "   x   y  \n",
       "1   56 267\n",
       "2   87 406\n",
       "3   92 485\n",
       "4   45 279\n",
       "5   87 417\n",
       "6   12 109\n",
       "7  102 538\n",
       "8   88 410\n",
       "9   17  58\n",
       "10  10  31"
      ]
     },
     "metadata": {},
     "output_type": "display_data"
    }
   ],
   "source": [
    "x = c(56, 87, 92, 45, 87, 12, 102, 88, 17, 10) #liczba incydentow\n",
    "y = c(267, 406, 485, 279, 417, 109, 538, 410, 58, 31) #liczba sprzedanych lodow\n",
    "    \n",
    "data.frame(x=x, y=y)"
   ]
  },
  {
   "cell_type": "markdown",
   "id": "f301f561",
   "metadata": {},
   "source": [
    "<h4> Regresja liniowa bez wyrazu wolnego"
   ]
  },
  {
   "cell_type": "code",
   "execution_count": 10,
   "id": "b73cad6e",
   "metadata": {},
   "outputs": [
    {
     "data": {
      "text/plain": [
       "\n",
       "Call:\n",
       "lm(formula = y ~ 0 + x)\n",
       "\n",
       "Residuals:\n",
       "   Min     1Q Median     3Q    Max \n",
       "-30.13 -25.02 -15.60  27.11  53.94 \n",
       "\n",
       "Coefficients:\n",
       "  Estimate Std. Error t value Pr(>|t|)    \n",
       "x   5.0014     0.1534    32.6 1.18e-10 ***\n",
       "---\n",
       "Signif. codes:  0 '***' 0.001 '**' 0.01 '*' 0.05 '.' 0.1 ' ' 1\n",
       "\n",
       "Residual standard error: 33.42 on 9 degrees of freedom\n",
       "Multiple R-squared:  0.9916,\tAdjusted R-squared:  0.9907 \n",
       "F-statistic:  1063 on 1 and 9 DF,  p-value: 1.183e-10\n"
      ]
     },
     "metadata": {},
     "output_type": "display_data"
    }
   ],
   "source": [
    "summary(lm(y ~ 0 + x )) #inna formula to x -1  (y = ax)"
   ]
  },
  {
   "cell_type": "markdown",
   "id": "d6d79e23",
   "metadata": {},
   "source": [
    "<h3> Uzupełnienie"
   ]
  },
  {
   "cell_type": "markdown",
   "id": "c7369bb3",
   "metadata": {},
   "source": [
    "<h4> Kwartet Anscombea"
   ]
  },
  {
   "cell_type": "code",
   "execution_count": 11,
   "id": "29d2a4d3",
   "metadata": {},
   "outputs": [
    {
     "data": {
      "text/html": [
       "<table>\n",
       "<thead><tr><th scope=col>x1</th><th scope=col>x2</th><th scope=col>x3</th><th scope=col>x4</th><th scope=col>y1</th><th scope=col>y2</th><th scope=col>y3</th><th scope=col>y4</th></tr></thead>\n",
       "<tbody>\n",
       "\t<tr><td>10   </td><td>10   </td><td>10   </td><td> 8   </td><td> 8.04</td><td>9.14 </td><td> 7.46</td><td> 6.58</td></tr>\n",
       "\t<tr><td> 8   </td><td> 8   </td><td> 8   </td><td> 8   </td><td> 6.95</td><td>8.14 </td><td> 6.77</td><td> 5.76</td></tr>\n",
       "\t<tr><td>13   </td><td>13   </td><td>13   </td><td> 8   </td><td> 7.58</td><td>8.74 </td><td>12.74</td><td> 7.71</td></tr>\n",
       "\t<tr><td> 9   </td><td> 9   </td><td> 9   </td><td> 8   </td><td> 8.81</td><td>8.77 </td><td> 7.11</td><td> 8.84</td></tr>\n",
       "\t<tr><td>11   </td><td>11   </td><td>11   </td><td> 8   </td><td> 8.33</td><td>9.26 </td><td> 7.81</td><td> 8.47</td></tr>\n",
       "\t<tr><td>14   </td><td>14   </td><td>14   </td><td> 8   </td><td> 9.96</td><td>8.10 </td><td> 8.84</td><td> 7.04</td></tr>\n",
       "\t<tr><td> 6   </td><td> 6   </td><td> 6   </td><td> 8   </td><td> 7.24</td><td>6.13 </td><td> 6.08</td><td> 5.25</td></tr>\n",
       "\t<tr><td> 4   </td><td> 4   </td><td> 4   </td><td>19   </td><td> 4.26</td><td>3.10 </td><td> 5.39</td><td>12.50</td></tr>\n",
       "\t<tr><td>12   </td><td>12   </td><td>12   </td><td> 8   </td><td>10.84</td><td>9.13 </td><td> 8.15</td><td> 5.56</td></tr>\n",
       "\t<tr><td> 7   </td><td> 7   </td><td> 7   </td><td> 8   </td><td> 4.82</td><td>7.26 </td><td> 6.42</td><td> 7.91</td></tr>\n",
       "\t<tr><td> 5   </td><td> 5   </td><td> 5   </td><td> 8   </td><td> 5.68</td><td>4.74 </td><td> 5.73</td><td> 6.89</td></tr>\n",
       "</tbody>\n",
       "</table>\n"
      ],
      "text/latex": [
       "\\begin{tabular}{r|llllllll}\n",
       " x1 & x2 & x3 & x4 & y1 & y2 & y3 & y4\\\\\n",
       "\\hline\n",
       "\t 10    & 10    & 10    &  8    &  8.04 & 9.14  &  7.46 &  6.58\\\\\n",
       "\t  8    &  8    &  8    &  8    &  6.95 & 8.14  &  6.77 &  5.76\\\\\n",
       "\t 13    & 13    & 13    &  8    &  7.58 & 8.74  & 12.74 &  7.71\\\\\n",
       "\t  9    &  9    &  9    &  8    &  8.81 & 8.77  &  7.11 &  8.84\\\\\n",
       "\t 11    & 11    & 11    &  8    &  8.33 & 9.26  &  7.81 &  8.47\\\\\n",
       "\t 14    & 14    & 14    &  8    &  9.96 & 8.10  &  8.84 &  7.04\\\\\n",
       "\t  6    &  6    &  6    &  8    &  7.24 & 6.13  &  6.08 &  5.25\\\\\n",
       "\t  4    &  4    &  4    & 19    &  4.26 & 3.10  &  5.39 & 12.50\\\\\n",
       "\t 12    & 12    & 12    &  8    & 10.84 & 9.13  &  8.15 &  5.56\\\\\n",
       "\t  7    &  7    &  7    &  8    &  4.82 & 7.26  &  6.42 &  7.91\\\\\n",
       "\t  5    &  5    &  5    &  8    &  5.68 & 4.74  &  5.73 &  6.89\\\\\n",
       "\\end{tabular}\n"
      ],
      "text/markdown": [
       "\n",
       "| x1 | x2 | x3 | x4 | y1 | y2 | y3 | y4 |\n",
       "|---|---|---|---|---|---|---|---|\n",
       "| 10    | 10    | 10    |  8    |  8.04 | 9.14  |  7.46 |  6.58 |\n",
       "|  8    |  8    |  8    |  8    |  6.95 | 8.14  |  6.77 |  5.76 |\n",
       "| 13    | 13    | 13    |  8    |  7.58 | 8.74  | 12.74 |  7.71 |\n",
       "|  9    |  9    |  9    |  8    |  8.81 | 8.77  |  7.11 |  8.84 |\n",
       "| 11    | 11    | 11    |  8    |  8.33 | 9.26  |  7.81 |  8.47 |\n",
       "| 14    | 14    | 14    |  8    |  9.96 | 8.10  |  8.84 |  7.04 |\n",
       "|  6    |  6    |  6    |  8    |  7.24 | 6.13  |  6.08 |  5.25 |\n",
       "|  4    |  4    |  4    | 19    |  4.26 | 3.10  |  5.39 | 12.50 |\n",
       "| 12    | 12    | 12    |  8    | 10.84 | 9.13  |  8.15 |  5.56 |\n",
       "|  7    |  7    |  7    |  8    |  4.82 | 7.26  |  6.42 |  7.91 |\n",
       "|  5    |  5    |  5    |  8    |  5.68 | 4.74  |  5.73 |  6.89 |\n",
       "\n"
      ],
      "text/plain": [
       "   x1 x2 x3 x4 y1    y2   y3    y4   \n",
       "1  10 10 10  8  8.04 9.14  7.46  6.58\n",
       "2   8  8  8  8  6.95 8.14  6.77  5.76\n",
       "3  13 13 13  8  7.58 8.74 12.74  7.71\n",
       "4   9  9  9  8  8.81 8.77  7.11  8.84\n",
       "5  11 11 11  8  8.33 9.26  7.81  8.47\n",
       "6  14 14 14  8  9.96 8.10  8.84  7.04\n",
       "7   6  6  6  8  7.24 6.13  6.08  5.25\n",
       "8   4  4  4 19  4.26 3.10  5.39 12.50\n",
       "9  12 12 12  8 10.84 9.13  8.15  5.56\n",
       "10  7  7  7  8  4.82 7.26  6.42  7.91\n",
       "11  5  5  5  8  5.68 4.74  5.73  6.89"
      ]
     },
     "metadata": {},
     "output_type": "display_data"
    }
   ],
   "source": [
    "library(datasets)\n",
    "datasets::anscombe"
   ]
  },
  {
   "cell_type": "code",
   "execution_count": 18,
   "id": "e2c5c555",
   "metadata": {},
   "outputs": [
    {
     "data": {
      "image/png": "[encoded data removed]",
      "text/plain": [
       "plot without title"
      ]
     },
     "metadata": {},
     "output_type": "display_data"
    }
   ],
   "source": [
    "#jak wygladają te dane? y1 od x1, y2 od x2 itd"
   ]
  },
  {
   "cell_type": "code",
   "execution_count": 13,
   "id": "9c9a76e7",
   "metadata": {},
   "outputs": [
    {
     "data": {
      "text/html": [
       "<ol class=list-inline>\n",
       "\t<li>9</li>\n",
       "\t<li>9</li>\n",
       "\t<li>9</li>\n",
       "\t<li>9</li>\n",
       "\t<li>7.50090909090909</li>\n",
       "\t<li>7.50090909090909</li>\n",
       "\t<li>7.5</li>\n",
       "\t<li>7.50090909090909</li>\n",
       "</ol>\n"
      ],
      "text/latex": [
       "\\begin{enumerate*}\n",
       "\\item 9\n",
       "\\item 9\n",
       "\\item 9\n",
       "\\item 9\n",
       "\\item 7.50090909090909\n",
       "\\item 7.50090909090909\n",
       "\\item 7.5\n",
       "\\item 7.50090909090909\n",
       "\\end{enumerate*}\n"
      ],
      "text/markdown": [
       "1. 9\n",
       "2. 9\n",
       "3. 9\n",
       "4. 9\n",
       "5. 7.50090909090909\n",
       "6. 7.50090909090909\n",
       "7. 7.5\n",
       "8. 7.50090909090909\n",
       "\n",
       "\n"
      ],
      "text/plain": [
       "[1] 9.000000 9.000000 9.000000 9.000000 7.500909 7.500909 7.500000 7.500909"
      ]
     },
     "metadata": {},
     "output_type": "display_data"
    }
   ],
   "source": [
    "sapply(1:8, function(x) mean(anscombe[ , x])) #srednia"
   ]
  },
  {
   "cell_type": "code",
   "execution_count": 14,
   "id": "72c75f09",
   "metadata": {},
   "outputs": [
    {
     "data": {
      "text/html": [
       "<ol class=list-inline>\n",
       "\t<li>11</li>\n",
       "\t<li>11</li>\n",
       "\t<li>11</li>\n",
       "\t<li>11</li>\n",
       "\t<li>4.12726909090909</li>\n",
       "\t<li>4.12762909090909</li>\n",
       "\t<li>4.12262</li>\n",
       "\t<li>4.12324909090909</li>\n",
       "</ol>\n"
      ],
      "text/latex": [
       "\\begin{enumerate*}\n",
       "\\item 11\n",
       "\\item 11\n",
       "\\item 11\n",
       "\\item 11\n",
       "\\item 4.12726909090909\n",
       "\\item 4.12762909090909\n",
       "\\item 4.12262\n",
       "\\item 4.12324909090909\n",
       "\\end{enumerate*}\n"
      ],
      "text/markdown": [
       "1. 11\n",
       "2. 11\n",
       "3. 11\n",
       "4. 11\n",
       "5. 4.12726909090909\n",
       "6. 4.12762909090909\n",
       "7. 4.12262\n",
       "8. 4.12324909090909\n",
       "\n",
       "\n"
      ],
      "text/plain": [
       "[1] 11.000000 11.000000 11.000000 11.000000  4.127269  4.127629  4.122620\n",
       "[8]  4.123249"
      ]
     },
     "metadata": {},
     "output_type": "display_data"
    }
   ],
   "source": [
    "sapply(1:8, function(x) var(anscombe[ , x])) #wariancja"
   ]
  },
  {
   "cell_type": "code",
   "execution_count": 15,
   "id": "74a1a3e2",
   "metadata": {},
   "outputs": [
    {
     "data": {
      "text/html": [
       "<ol class=list-inline>\n",
       "\t<li>0.81642051634484</li>\n",
       "\t<li>0.816236506000243</li>\n",
       "\t<li>0.816286739489598</li>\n",
       "\t<li>0.816521436888503</li>\n",
       "</ol>\n"
      ],
      "text/latex": [
       "\\begin{enumerate*}\n",
       "\\item 0.81642051634484\n",
       "\\item 0.816236506000243\n",
       "\\item 0.816286739489598\n",
       "\\item 0.816521436888503\n",
       "\\end{enumerate*}\n"
      ],
      "text/markdown": [
       "1. 0.81642051634484\n",
       "2. 0.816236506000243\n",
       "3. 0.816286739489598\n",
       "4. 0.816521436888503\n",
       "\n",
       "\n"
      ],
      "text/plain": [
       "[1] 0.8164205 0.8162365 0.8162867 0.8165214"
      ]
     },
     "metadata": {},
     "output_type": "display_data"
    }
   ],
   "source": [
    "sapply(1:4, function(x) cor(anscombe[ , x], anscombe[ , x+4])) #wsp korelacji"
   ]
  },
  {
   "cell_type": "code",
   "execution_count": 16,
   "id": "91e988c6",
   "metadata": {},
   "outputs": [
    {
     "data": {
      "text/plain": [
       "[[1]]\n",
       "\n",
       "Call:\n",
       "lm(formula = anscombe[, x + 4] ~ anscombe[, x])\n",
       "\n",
       "Residuals:\n",
       "     Min       1Q   Median       3Q      Max \n",
       "-1.92127 -0.45577 -0.04136  0.70941  1.83882 \n",
       "\n",
       "Coefficients:\n",
       "              Estimate Std. Error t value Pr(>|t|)   \n",
       "(Intercept)     3.0001     1.1247   2.667  0.02573 * \n",
       "anscombe[, x]   0.5001     0.1179   4.241  0.00217 **\n",
       "---\n",
       "Signif. codes:  0 '***' 0.001 '**' 0.01 '*' 0.05 '.' 0.1 ' ' 1\n",
       "\n",
       "Residual standard error: 1.237 on 9 degrees of freedom\n",
       "Multiple R-squared:  0.6665,\tAdjusted R-squared:  0.6295 \n",
       "F-statistic: 17.99 on 1 and 9 DF,  p-value: 0.00217\n",
       "\n",
       "\n",
       "[[2]]\n",
       "\n",
       "Call:\n",
       "lm(formula = anscombe[, x + 4] ~ anscombe[, x])\n",
       "\n",
       "Residuals:\n",
       "    Min      1Q  Median      3Q     Max \n",
       "-1.9009 -0.7609  0.1291  0.9491  1.2691 \n",
       "\n",
       "Coefficients:\n",
       "              Estimate Std. Error t value Pr(>|t|)   \n",
       "(Intercept)      3.001      1.125   2.667  0.02576 * \n",
       "anscombe[, x]    0.500      0.118   4.239  0.00218 **\n",
       "---\n",
       "Signif. codes:  0 '***' 0.001 '**' 0.01 '*' 0.05 '.' 0.1 ' ' 1\n",
       "\n",
       "Residual standard error: 1.237 on 9 degrees of freedom\n",
       "Multiple R-squared:  0.6662,\tAdjusted R-squared:  0.6292 \n",
       "F-statistic: 17.97 on 1 and 9 DF,  p-value: 0.002179\n",
       "\n",
       "\n",
       "[[3]]\n",
       "\n",
       "Call:\n",
       "lm(formula = anscombe[, x + 4] ~ anscombe[, x])\n",
       "\n",
       "Residuals:\n",
       "    Min      1Q  Median      3Q     Max \n",
       "-1.1586 -0.6146 -0.2303  0.1540  3.2411 \n",
       "\n",
       "Coefficients:\n",
       "              Estimate Std. Error t value Pr(>|t|)   \n",
       "(Intercept)     3.0025     1.1245   2.670  0.02562 * \n",
       "anscombe[, x]   0.4997     0.1179   4.239  0.00218 **\n",
       "---\n",
       "Signif. codes:  0 '***' 0.001 '**' 0.01 '*' 0.05 '.' 0.1 ' ' 1\n",
       "\n",
       "Residual standard error: 1.236 on 9 degrees of freedom\n",
       "Multiple R-squared:  0.6663,\tAdjusted R-squared:  0.6292 \n",
       "F-statistic: 17.97 on 1 and 9 DF,  p-value: 0.002176\n",
       "\n",
       "\n",
       "[[4]]\n",
       "\n",
       "Call:\n",
       "lm(formula = anscombe[, x + 4] ~ anscombe[, x])\n",
       "\n",
       "Residuals:\n",
       "   Min     1Q Median     3Q    Max \n",
       "-1.751 -0.831  0.000  0.809  1.839 \n",
       "\n",
       "Coefficients:\n",
       "              Estimate Std. Error t value Pr(>|t|)   \n",
       "(Intercept)     3.0017     1.1239   2.671  0.02559 * \n",
       "anscombe[, x]   0.4999     0.1178   4.243  0.00216 **\n",
       "---\n",
       "Signif. codes:  0 '***' 0.001 '**' 0.01 '*' 0.05 '.' 0.1 ' ' 1\n",
       "\n",
       "Residual standard error: 1.236 on 9 degrees of freedom\n",
       "Multiple R-squared:  0.6667,\tAdjusted R-squared:  0.6297 \n",
       "F-statistic:    18 on 1 and 9 DF,  p-value: 0.002165\n",
       "\n"
      ]
     },
     "metadata": {},
     "output_type": "display_data"
    }
   ],
   "source": [
    "lapply(1:4, function(x) summary(lm(anscombe[ , x+4]~anscombe[ , x]))) #wsp korelacji"
   ]
  },
  {
   "cell_type": "code",
   "execution_count": 17,
   "id": "5bdab891",
   "metadata": {},
   "outputs": [
    {
     "data": {
      "image/png": "[encoded data removed]",
      "text/plain": [
       "plot without title"
      ]
     },
     "metadata": {},
     "output_type": "display_data"
    }
   ],
   "source": [
    "#nalozone regresje liniowe"
   ]
  }
 ],
 "metadata": {
  "kernelspec": {
   "display_name": "R",
   "language": "R",
   "name": "ir"
  },
  "language_info": {
   "codemirror_mode": "r",
   "file_extension": ".r",
   "mimetype": "text/x-r-source",
   "name": "R",
   "pygments_lexer": "r",
   "version": "3.6.1"
  }
 },
 "nbformat": 4,
 "nbformat_minor": 5
}
