{
 "cells": [
  {
   "cell_type": "markdown",
   "id": "25b2a9d8",
   "metadata": {},
   "source": [
    "<h4> Zagadnienia: \n",
    "</h4>\n",
    "\n",
    "\n",
    "- Podstawowe miary statystyczne - średnia, mediana, kwantyl, dominantna, odchylenie, kurtoza, skośność.\n",
    "- Pojęcie zmiennej losowej, wartości oczekiwanej, wariancji.\n",
    "- Pojęcia gęstości prawdopodobieństwa i dystrybuanty oraz ich interpretacja.\n",
    "- Znajomość podstawowych rozkładów (w szczególności jednostajny, normalny, wykładniczy, Poissona, dwupunktowy).\n",
    "- Metody estymacji parametrów rozkładu (metoda momentów, metoda największej wiarygodności).\n",
    "- Prawa wielkich liczb, centralne twierdzenie graniczne.\n",
    "- Istota testów statystycznych, znaczenie p_value.\n",
    "- Wybrane testy statystyczne (w szczególności: shapiro, t-test, ANOVA).\n",
    "- Regresja liniowa jednej i wielu zmiennych (w tym budowa modelu, diagnostyka, ocena jakości, predykcja, wyznaczanie wartości odstających/wpływowych).\n",
    "- Porównywanie modeli (F test, AIC).\n",
    "- Transformacje danych nieliniowych (w szczególności Box-Cox).\n",
    "- Zmienne numeryczne a kategoryczne (specyfika budowy modeli w obu przypadkach).\n",
    "- Uogólnione modele liniowe (regresja logistyczna i poissonowska)\n",
    " "
   ]
  },
  {
   "cell_type": "markdown",
   "id": "91349cb9",
   "metadata": {},
   "source": [
    "<h4> Przykładowe zadania"
   ]
  },
  {
   "cell_type": "markdown",
   "id": "7ef4dc17",
   "metadata": {},
   "source": [
    "Zadanie1: Zbudowano model $Y=5X+3+\\epsilon$, gdzie $\\epsilon \\sim N(0,1)$. Wyznacz:\n",
    "\n",
    "- E(Y|X = 2)\n",
    "\n",
    "- P(Y>12|X=2)\n",
    "\n",
    "- takie $a$, że $P(13-a \\leq Y|X=2 \\leq 13+a) \\approx 0.95$ (Wskazówka: można skorzystać z reguły dwóch sigm).\n",
    "\n",
    "Jak zmieni się wartość $Y$ jeżeli wartość cechy $X$ wzrośnie o 1?\n",
    "\n",
    "\n",
    "Zadanie2: Rozważamy rozkłady $Unif([1,3])$ oraz $N(2,1)$. Losujemy jedną wartość z jednego z tych rozkładów. Czy można stwierdzić z którego rozkładu było losowanie? Odpowiedź uzasadnij.\n",
    "\n",
    "- 2.871\n",
    "\n",
    "- 3.014\n",
    "\n",
    "\n",
    "Zadanie3: Dwanaście osób (ponumerowanych od 1 do 12, po kolei) siedzi wokół ogniska. Osoba z numerem 12 posiada worek z cukierkami. Wybiera w sposób losowy najbliższego sąsiada i przekazuje mu worek aby się poczęstował. Proces powtarza się do momentu kiedy każda z osób otrzyma cukierka.\n",
    "\n",
    "- Czy jest osoba, która jest pokrzywdzona w tej grze (ma największe szanse być ostatnia)? Jeżeli tak, to z jakim numerem występuje ta osoba?\n",
    "- Jaka jest oczekiwana wartość zjedzonych cukierków? \n",
    "\n",
    "Powyższe zadanie można zrealizować poprzez symulację lub na kartce.\n",
    "\n",
    "Zadanie4: Kierując się kryterium wartości oczekiwanej, ile byłbyś w stanie zainwestować aby zagrać w następującą grę:\n",
    "\n",
    "Zaczynasz od 1 zł. Rzucamy monetą aż do momentu pojawienia się orła. Każda kolejna reszka to podwajanie twojej wygranej.\n",
    "\n",
    "Zadanie5: Plik tekstowy zawiera cztery kolumny x1, x2, x3 oraz y.\n",
    "\n",
    "Objaśnij następujące modele:\n",
    "\n",
    "- lm(y~x1)\n",
    "- lm(y~0+x1)\n",
    "- lm(y~x1+x2)\n",
    "- lm(y~x1*x2)\n",
    "- lm(y~x1+factor(x2))\n",
    "- lm(y~I(x1^2)+x2)\n",
    "- lm(y~.)\n",
    "- lm(y~1)\n",
    "\n",
    "Ile parametrów zawiera każdy z modeli?\n",
    "\n",
    "Zadanie6: Oceń prawdziwość bądź fałszywość poniższych sformułowań. Uzasadnij odpowiedź.\n",
    "\n",
    "- Jeżeli buduje 2 modele liniowe na tym samym zbiorze danych, to kierując się $R^2$ ten model będzie lepszy, który będzie posiadał większą wartosć $R^2$.\n",
    "\n",
    "- Jeżeli buduje 2 modele liniowe na tym samym zbiorze danych, to kierując się $AIC$ ten model będzie lepszy, który będzie posiadał większą wartosć $AIC$.\n",
    "\n",
    "- Jeżeli współczynnik korelacji między zmienną $x1$ a $y$ ma wartość bliska zero, to zmienna $x1$ nie powinna być uwzględniana przy budowie modelu.\n",
    "\n",
    "Zadanie7:\n",
    "\n",
    "Dane składają się z 2 kolumn oraz 10 wierszy: pierwsza (x) zawiera informacje odnośnie kategorii (A, B lub C), druga (y) zawiera pewne wartości numeryczne. Wyznaczono średnią dla drugiej kolumny względem kategorii, otrzymano $x_A = 4$, $x_B = -2$, $x_C =1$. Zbudowano model $y\\sim x$. Uzupełnij pola z ???? (obliczenia powinny być krótkie/w zasadzie przy użyciu kalkulatora). Czy Adjusted R-squared będzie większe czy mniejsze niż 9.2?."
   ]
  },
  {
   "cell_type": "code",
   "execution_count": null,
   "id": "0ff01d18",
   "metadata": {},
   "outputs": [],
   "source": [
    "Call:\n",
    "lm(formula = y ~ x)\n",
    "\n",
    "Residuals:\n",
    "   Min     1Q Median     3Q    Max \n",
    " -1.00  -0.75   0.00   0.75   1.00 \n",
    "\n",
    "Coefficients:\n",
    "            Estimate Std. Error t value Pr(>|t|)    \n",
    "(Intercept)    ????      0.4629    ???? 5.55e-05 ***\n",
    "xB             ????      0.7071    ???? 6.25e-05 ***\n",
    "xC             ????      0.7071    ????  0.00383 ** \n",
    "---\n",
    "Signif. codes:  0 '***' 0.001 '**' 0.01 '*' 0.05 '.' 0.1 ' ' 1\n",
    "\n",
    "Residual standard error: 0.9258 on 7 degrees of freedom\n",
    "Multiple R-squared:  0.9119,\tAdjusted R-squared: ____\n",
    "F-statistic: 36.23 on 2 and 7 DF,  p-value: 0.000203"
   ]
  },
  {
   "cell_type": "markdown",
   "id": "71d3f703",
   "metadata": {},
   "source": [
    "Zadanie8:\n",
    "\n",
    "Zmienną $Y|x_1,x_2$ można opisać rozkładem Poissona z parametrem $\\lambda = e^{2x_1-3x_2+1}$. Zaobserwowano, że $x_1 = 3$ a $x_2 = 1$. \n",
    "\n",
    "- Ile wynosi wartość oczekiwana $Y$?\n",
    "- Jakie jest prawdopobieństwo, że zmienna $Y$ przyjmie wartość większą niż 55?\n",
    "\n",
    "Jak zmieni się wartość oczekiwana $Y$ jeżeli wartość cechy $x_2$ wzrośnie o 1?"
   ]
  },
  {
   "cell_type": "code",
   "execution_count": 4,
   "id": "4e9f0a1b",
   "metadata": {},
   "outputs": [
    {
     "data": {
      "text/html": [
       "54.5981500331442"
      ],
      "text/latex": [
       "54.5981500331442"
      ],
      "text/markdown": [
       "54.5981500331442"
      ],
      "text/plain": [
       "[1] 54.59815"
      ]
     },
     "metadata": {},
     "output_type": "display_data"
    }
   ],
   "source": [
    "lambda = exp(2*3-3*1+1)\n",
    "lambda"
   ]
  },
  {
   "cell_type": "code",
   "execution_count": 5,
   "id": "bdfc17aa",
   "metadata": {},
   "outputs": [],
   "source": [
    "pos = function(k) lambda^(k) * exp(-lambda )/factorial(k)"
   ]
  },
  {
   "cell_type": "code",
   "execution_count": 22,
   "id": "5634c9cd",
   "metadata": {},
   "outputs": [
    {
     "data": {
      "text/html": [
       "0.265257451476269"
      ],
      "text/latex": [
       "0.265257451476269"
      ],
      "text/markdown": [
       "0.265257451476269"
      ],
      "text/plain": [
       "[1] 0.2652575"
      ]
     },
     "metadata": {},
     "output_type": "display_data"
    }
   ],
   "source": [
    "dpois(54, lambda)+dpois(53, lambda)+dpois(52, lambda)+dpois(55, lambda)+dpois(56, lambda)"
   ]
  },
  {
   "cell_type": "code",
   "execution_count": 20,
   "id": "366b7a06",
   "metadata": {},
   "outputs": [
    {
     "data": {
      "text/html": [
       "0.557352602680041"
      ],
      "text/latex": [
       "0.557352602680041"
      ],
      "text/markdown": [
       "0.557352602680041"
      ],
      "text/plain": [
       "[1] 0.5573526"
      ]
     },
     "metadata": {},
     "output_type": "display_data"
    }
   ],
   "source": [
    "ppois(60, lambda)-ppois(, lambda)"
   ]
  }
 ],
 "metadata": {
  "kernelspec": {
   "display_name": "R",
   "language": "R",
   "name": "ir"
  },
  "language_info": {
   "codemirror_mode": "r",
   "file_extension": ".r",
   "mimetype": "text/x-r-source",
   "name": "R",
   "pygments_lexer": "r",
   "version": "3.6.1"
  }
 },
 "nbformat": 4,
 "nbformat_minor": 5
}
