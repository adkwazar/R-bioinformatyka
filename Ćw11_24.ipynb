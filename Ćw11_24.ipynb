{
 "cells": [
  {
   "cell_type": "markdown",
   "id": "62209ad1",
   "metadata": {},
   "source": [
    "<h3> Liniowe modele mieszane (zarys)"
   ]
  },
  {
   "cell_type": "markdown",
   "id": "942ec4be",
   "metadata": {},
   "source": [
    "$y = X\\beta + Zu +\\epsilon$ (efekty stałe + efekty losowe + błąd)\n",
    "\n",
    "gdzie:\n",
    "\n",
    "- $u \\sim N(0,\\sigma_1)$, $\\epsilon \\sim N(0, \\sigma_0)$ (na ogół mogą to być wektory)\n",
    "\n",
    "- $Z$ - macierz eksperymentu (koduje poziomy zmiennych z użyciem zmiennych pustych)\n",
    "\n",
    "Po co i kiedy używać?\n",
    "- redukcja liczby parametrów (pewne efekty traktowane jako zmienne losowe)\n",
    "- możliwie, że nie obserwujemy wszystkich możliwych poziomów zmiennej objaśniającej (problem)\n",
    "- nie jesteśmy zainteresowani bezpośrednią oceną wartości efektów, a raczej zmiennością tych efeków w populacji.\n"
   ]
  },
  {
   "cell_type": "markdown",
   "id": "5ac4b151",
   "metadata": {},
   "source": [
    "Modele mieszane pozwalają uwzględnić tę hierarchiczną strukturę, stosując dwa poziomy modelowania: poziom grupy i poziom jednostkowy. Na poziomie grupy modeluje się ogólną relację między zmiennymi niezależnymi a zmienną zależną na poziomie całej populacji lub grupy. Następnie na poziomie jednostkowym modeluje się różnice między poszczególnymi jednostkami w obrębie grupy, uwzględniając skorelowanie wewnątrz grupy"
   ]
  },
  {
   "cell_type": "markdown",
   "id": "d6aa5063",
   "metadata": {},
   "source": [
    "Przenalizujmy dwa przykłady, które dostarczą nam pewnej intuicji."
   ]
  },
  {
   "cell_type": "markdown",
   "id": "c8d0ac02",
   "metadata": {},
   "source": [
    "<h4> Przykład 1"
   ]
  },
  {
   "cell_type": "code",
   "execution_count": 58,
   "id": "8d3a326c",
   "metadata": {},
   "outputs": [],
   "source": [
    "options(repr.plot.width=4, repr.plot.height=4)"
   ]
  },
  {
   "cell_type": "code",
   "execution_count": 59,
   "id": "46ce0371",
   "metadata": {},
   "outputs": [
    {
     "data": {
      "text/html": [
       "<table>\n",
       "<thead><tr><th scope=col>x</th><th scope=col>y</th><th scope=col>k</th></tr></thead>\n",
       "<tbody>\n",
       "\t<tr><td>1         </td><td> 25.202235</td><td>A         </td></tr>\n",
       "\t<tr><td>2         </td><td>-10.352253</td><td>B         </td></tr>\n",
       "\t<tr><td>3         </td><td> 34.220171</td><td>A         </td></tr>\n",
       "\t<tr><td>4         </td><td>  1.222643</td><td>B         </td></tr>\n",
       "\t<tr><td>5         </td><td> 46.071491</td><td>A         </td></tr>\n",
       "\t<tr><td>6         </td><td>  9.881276</td><td>B         </td></tr>\n",
       "</tbody>\n",
       "</table>\n"
      ],
      "text/latex": [
       "\\begin{tabular}{r|lll}\n",
       " x & y & k\\\\\n",
       "\\hline\n",
       "\t 1          &  25.202235 & A         \\\\\n",
       "\t 2          & -10.352253 & B         \\\\\n",
       "\t 3          &  34.220171 & A         \\\\\n",
       "\t 4          &   1.222643 & B         \\\\\n",
       "\t 5          &  46.071491 & A         \\\\\n",
       "\t 6          &   9.881276 & B         \\\\\n",
       "\\end{tabular}\n"
      ],
      "text/markdown": [
       "\n",
       "| x | y | k |\n",
       "|---|---|---|\n",
       "| 1          |  25.202235 | A          |\n",
       "| 2          | -10.352253 | B          |\n",
       "| 3          |  34.220171 | A          |\n",
       "| 4          |   1.222643 | B          |\n",
       "| 5          |  46.071491 | A          |\n",
       "| 6          |   9.881276 | B          |\n",
       "\n"
      ],
      "text/plain": [
       "  x y          k\n",
       "1 1  25.202235 A\n",
       "2 2 -10.352253 B\n",
       "3 3  34.220171 A\n",
       "4 4   1.222643 B\n",
       "5 5  46.071491 A\n",
       "6 6   9.881276 B"
      ]
     },
     "metadata": {},
     "output_type": "display_data"
    },
    {
     "data": {
      "image/png": "[encoded data removed]",
      "text/plain": [
       "plot without title"
      ]
     },
     "metadata": {},
     "output_type": "display_data"
    }
   ],
   "source": [
    "x = 1:20\n",
    "y = 5*x+ 20*rep(c(1,-1),10)+rnorm(20)\n",
    "k = rep(c(\"A\",\"B\"),10)\n",
    "dane = data.frame(x=x, y=y, k=k)\n",
    "head(dane)\n",
    "plot(dane$x, dane$y)"
   ]
  },
  {
   "cell_type": "code",
   "execution_count": 3,
   "id": "b18b8310",
   "metadata": {},
   "outputs": [
    {
     "data": {
      "text/plain": [
       "\n",
       "Call:\n",
       "lm(formula = dane$y ~ dane$x)\n",
       "\n",
       "Residuals:\n",
       "     Min       1Q   Median       3Q      Max \n",
       "-22.1134 -19.8315  -0.4317  20.2901  23.2925 \n",
       "\n",
       "Coefficients:\n",
       "            Estimate Std. Error t value Pr(>|t|)    \n",
       "(Intercept)   3.4594     9.8480   0.351    0.729    \n",
       "dane$x        4.6755     0.8221   5.687 2.15e-05 ***\n",
       "---\n",
       "Signif. codes:  0 '***' 0.001 '**' 0.01 '*' 0.05 '.' 0.1 ' ' 1\n",
       "\n",
       "Residual standard error: 21.2 on 18 degrees of freedom\n",
       "Multiple R-squared:  0.6425,\tAdjusted R-squared:  0.6226 \n",
       "F-statistic: 32.35 on 1 and 18 DF,  p-value: 2.152e-05\n"
      ]
     },
     "metadata": {},
     "output_type": "display_data"
    }
   ],
   "source": [
    "summary(m <- lm(dane$y~dane$x))"
   ]
  },
  {
   "cell_type": "code",
   "execution_count": 5,
   "id": "8a2b61d1",
   "metadata": {},
   "outputs": [
    {
     "data": {
      "text/plain": [
       "Linear mixed model fit by REML ['lmerMod']\n",
       "Formula: dane$y ~ x + (1 | k)\n",
       "   Data: dane\n",
       "\n",
       "REML criterion at convergence: 73.8\n",
       "\n",
       "Scaled residuals: \n",
       "    Min      1Q  Median      3Q     Max \n",
       "-1.5399 -0.7382  0.1104  0.5065  1.8220 \n",
       "\n",
       "Random effects:\n",
       " Groups   Name        Variance Std.Dev.\n",
       " k        (Intercept) 812.788  28.509  \n",
       " Residual               1.284   1.133  \n",
       "Number of obs: 20, groups:  k, 2\n",
       "\n",
       "Fixed effects:\n",
       "            Estimate Std. Error t value\n",
       "(Intercept)   0.2766    20.1661   0.014\n",
       "x             4.9787     0.0441 112.882\n",
       "\n",
       "Correlation of Fixed Effects:\n",
       "  (Intr)\n",
       "x -0.023"
      ]
     },
     "metadata": {},
     "output_type": "display_data"
    }
   ],
   "source": [
    "library(lme4)\n",
    "summary(m <- lmer(y ~ x + (1|k), data = dane))"
   ]
  },
  {
   "cell_type": "code",
   "execution_count": 6,
   "id": "ae9bf5e8",
   "metadata": {},
   "outputs": [
    {
     "data": {
      "text/html": [
       "<dl class=dl-horizontal>\n",
       "\t<dt>(Intercept)</dt>\n",
       "\t\t<dd>0.276610095707289</dd>\n",
       "\t<dt>x</dt>\n",
       "\t\t<dd>4.97865272943175</dd>\n",
       "</dl>\n"
      ],
      "text/latex": [
       "\\begin{description*}\n",
       "\\item[(Intercept)] 0.276610095707289\n",
       "\\item[x] 4.97865272943175\n",
       "\\end{description*}\n"
      ],
      "text/markdown": [
       "(Intercept)\n",
       ":   0.276610095707289x\n",
       ":   4.97865272943175\n",
       "\n"
      ],
      "text/plain": [
       "(Intercept)           x \n",
       "  0.2766101   4.9786527 "
      ]
     },
     "metadata": {},
     "output_type": "display_data"
    },
    {
     "data": {
      "text/plain": [
       "$k\n",
       "  (Intercept)\n",
       "A    20.15762\n",
       "B   -20.15762\n",
       "\n",
       "with conditional variances for \"k\" "
      ]
     },
     "metadata": {},
     "output_type": "display_data"
    }
   ],
   "source": [
    "fixef(m); ranef(m) #efekty stale i efekty losowe"
   ]
  },
  {
   "cell_type": "markdown",
   "id": "9af604c5",
   "metadata": {},
   "source": [
    "<h4> Przykład 2"
   ]
  },
  {
   "cell_type": "code",
   "execution_count": 7,
   "id": "e0f2d4a5",
   "metadata": {},
   "outputs": [
    {
     "data": {
      "image/png": "[encoded data removed]",
      "text/plain": [
       "plot without title"
      ]
     },
     "metadata": {},
     "output_type": "display_data"
    }
   ],
   "source": [
    "x = 1:20\n",
    "y = 5*x*rep(c(1,-1),10)+20+ rnorm(20)\n",
    "k = rep(c(\"A\",\"B\"),10)\n",
    "dane = data.frame(x=x, y=y, k=k)\n",
    "plot(dane$x, dane$y)"
   ]
  },
  {
   "cell_type": "code",
   "execution_count": 8,
   "id": "2cceb4f5",
   "metadata": {},
   "outputs": [
    {
     "data": {
      "text/plain": [
       "Linear mixed model fit by REML ['lmerMod']\n",
       "Formula: dane$y ~ x + (x | k)\n",
       "   Data: dane\n",
       "\n",
       "REML criterion at convergence: 68.4\n",
       "\n",
       "Scaled residuals: \n",
       "     Min       1Q   Median       3Q      Max \n",
       "-2.19706 -0.76876  0.01999  0.72558  1.39948 \n",
       "\n",
       "Random effects:\n",
       " Groups   Name        Variance  Std.Dev. Corr\n",
       " k        (Intercept) 9.652e-06 0.003107     \n",
       "          x           4.991e+01 7.065029 0.99\n",
       " Residual             8.235e-01 0.907449     \n",
       "Number of obs: 20, groups:  k, 2\n",
       "\n",
       "Fixed effects:\n",
       "            Estimate Std. Error t value\n",
       "(Intercept) 19.59241    0.42200  46.427\n",
       "x            0.06569    4.99585   0.013\n",
       "\n",
       "Correlation of Fixed Effects:\n",
       "  (Intr)\n",
       "x -0.001"
      ]
     },
     "metadata": {},
     "output_type": "display_data"
    }
   ],
   "source": [
    "summary(m <- lmer(y~ x +(x|k), data = dane))"
   ]
  },
  {
   "cell_type": "code",
   "execution_count": 9,
   "id": "48140c09",
   "metadata": {},
   "outputs": [
    {
     "data": {
      "text/html": [
       "<dl class=dl-horizontal>\n",
       "\t<dt>(Intercept)</dt>\n",
       "\t\t<dd>19.5924054364166</dd>\n",
       "\t<dt>x</dt>\n",
       "\t\t<dd>0.0656939059099489</dd>\n",
       "</dl>\n"
      ],
      "text/latex": [
       "\\begin{description*}\n",
       "\\item[(Intercept)] 19.5924054364166\n",
       "\\item[x] 0.0656939059099489\n",
       "\\end{description*}\n"
      ],
      "text/markdown": [
       "(Intercept)\n",
       ":   19.5924054364166x\n",
       ":   0.0656939059099489\n",
       "\n"
      ],
      "text/plain": [
       "(Intercept)           x \n",
       "19.59240544  0.06569391 "
      ]
     },
     "metadata": {},
     "output_type": "display_data"
    },
    {
     "data": {
      "text/plain": [
       "$k\n",
       "  (Intercept)         x\n",
       "A  0.00217126  4.995574\n",
       "B -0.00217126 -4.995574\n",
       "\n",
       "with conditional variances for \"k\" "
      ]
     },
     "metadata": {},
     "output_type": "display_data"
    }
   ],
   "source": [
    "fixef(m); ranef(m) #efekty stale i losowe"
   ]
  },
  {
   "cell_type": "markdown",
   "id": "2a012e56",
   "metadata": {},
   "source": [
    "Teraz spójrzmy na dwa przykłady praktyczne."
   ]
  },
  {
   "cell_type": "markdown",
   "id": "aae5d921",
   "metadata": {},
   "source": [
    "<h4> Przykład 3"
   ]
  },
  {
   "cell_type": "code",
   "execution_count": 11,
   "id": "e501b9f4",
   "metadata": {},
   "outputs": [],
   "source": [
    "library(PBImisc)"
   ]
  },
  {
   "cell_type": "code",
   "execution_count": 12,
   "id": "eefa79e5",
   "metadata": {},
   "outputs": [
    {
     "data": {
      "text/html": [
       "<table>\n",
       "<thead><tr><th scope=col>cow</th><th scope=col>milk.amount</th></tr></thead>\n",
       "<tbody>\n",
       "\t<tr><td>cow A</td><td>21.4 </td></tr>\n",
       "\t<tr><td>cow A</td><td>27.2 </td></tr>\n",
       "\t<tr><td>cow A</td><td>25.1 </td></tr>\n",
       "\t<tr><td>cow A</td><td>24.5 </td></tr>\n",
       "\t<tr><td>cow B</td><td>26.8 </td></tr>\n",
       "\t<tr><td>cow B</td><td>22.2 </td></tr>\n",
       "</tbody>\n",
       "</table>\n"
      ],
      "text/latex": [
       "\\begin{tabular}{r|ll}\n",
       " cow & milk.amount\\\\\n",
       "\\hline\n",
       "\t cow A & 21.4 \\\\\n",
       "\t cow A & 27.2 \\\\\n",
       "\t cow A & 25.1 \\\\\n",
       "\t cow A & 24.5 \\\\\n",
       "\t cow B & 26.8 \\\\\n",
       "\t cow B & 22.2 \\\\\n",
       "\\end{tabular}\n"
      ],
      "text/markdown": [
       "\n",
       "| cow | milk.amount |\n",
       "|---|---|\n",
       "| cow A | 21.4  |\n",
       "| cow A | 27.2  |\n",
       "| cow A | 25.1  |\n",
       "| cow A | 24.5  |\n",
       "| cow B | 26.8  |\n",
       "| cow B | 22.2  |\n",
       "\n"
      ],
      "text/plain": [
       "  cow   milk.amount\n",
       "1 cow A 21.4       \n",
       "2 cow A 27.2       \n",
       "3 cow A 25.1       \n",
       "4 cow A 24.5       \n",
       "5 cow B 26.8       \n",
       "6 cow B 22.2       "
      ]
     },
     "metadata": {},
     "output_type": "display_data"
    }
   ],
   "source": [
    "data(milk)\n",
    "head(milk) #rozwazaono 10 krów, dla kazdej krowy pomiar 4-krotny"
   ]
  },
  {
   "cell_type": "code",
   "execution_count": 13,
   "id": "727cd3cb",
   "metadata": {},
   "outputs": [
    {
     "data": {
      "text/html": [
       "<ol class=list-inline>\n",
       "\t<li>40</li>\n",
       "\t<li>2</li>\n",
       "</ol>\n"
      ],
      "text/latex": [
       "\\begin{enumerate*}\n",
       "\\item 40\n",
       "\\item 2\n",
       "\\end{enumerate*}\n"
      ],
      "text/markdown": [
       "1. 40\n",
       "2. 2\n",
       "\n",
       "\n"
      ],
      "text/plain": [
       "[1] 40  2"
      ]
     },
     "metadata": {},
     "output_type": "display_data"
    }
   ],
   "source": [
    "dim(milk)"
   ]
  },
  {
   "cell_type": "code",
   "execution_count": 14,
   "id": "23cee1d1",
   "metadata": {},
   "outputs": [
    {
     "data": {
      "text/plain": [
       "      cow      milk.amount   \n",
       " cow A  : 4   Min.   :19.40  \n",
       " cow B  : 4   1st Qu.:24.65  \n",
       " cow C  : 4   Median :27.30  \n",
       " cow D  : 4   Mean   :27.02  \n",
       " cow E  : 4   3rd Qu.:29.95  \n",
       " cow F  : 4   Max.   :32.00  \n",
       " (Other):16                  "
      ]
     },
     "metadata": {},
     "output_type": "display_data"
    }
   ],
   "source": [
    "summary(milk)"
   ]
  },
  {
   "cell_type": "code",
   "execution_count": 15,
   "id": "fc3db964",
   "metadata": {
    "scrolled": true
   },
   "outputs": [
    {
     "data": {
      "text/html": [
       "27.015"
      ],
      "text/latex": [
       "27.015"
      ],
      "text/markdown": [
       "27.015"
      ],
      "text/plain": [
       "[1] 27.015"
      ]
     },
     "metadata": {},
     "output_type": "display_data"
    },
    {
     "data": {
      "text/html": [
       "10.0043846153846"
      ],
      "text/latex": [
       "10.0043846153846"
      ],
      "text/markdown": [
       "10.0043846153846"
      ],
      "text/plain": [
       "[1] 10.00438"
      ]
     },
     "metadata": {},
     "output_type": "display_data"
    }
   ],
   "source": [
    "mean(milk$milk.amount); var(milk$milk.amount) #wysoka wariancja? Tak, ale z punktu widzenia wszystkich danych"
   ]
  },
  {
   "cell_type": "code",
   "execution_count": 16,
   "id": "d3a70ab9",
   "metadata": {},
   "outputs": [
    {
     "data": {
      "text/html": [
       "<dl class=dl-horizontal>\n",
       "\t<dt>cow A</dt>\n",
       "\t\t<dd>24.55</dd>\n",
       "\t<dt>cow B</dt>\n",
       "\t\t<dd>24.9</dd>\n",
       "\t<dt>cow C</dt>\n",
       "\t\t<dd>28.55</dd>\n",
       "\t<dt>cow D</dt>\n",
       "\t\t<dd>26.175</dd>\n",
       "\t<dt>cow E</dt>\n",
       "\t\t<dd>22.45</dd>\n",
       "\t<dt>cow F</dt>\n",
       "\t\t<dd>24.725</dd>\n",
       "\t<dt>cow G</dt>\n",
       "\t\t<dd>27.55</dd>\n",
       "\t<dt>cow H</dt>\n",
       "\t\t<dd>30.15</dd>\n",
       "\t<dt>cow I</dt>\n",
       "\t\t<dd>30.9</dd>\n",
       "\t<dt>cow J</dt>\n",
       "\t\t<dd>30.2</dd>\n",
       "</dl>\n"
      ],
      "text/latex": [
       "\\begin{description*}\n",
       "\\item[cow A] 24.55\n",
       "\\item[cow B] 24.9\n",
       "\\item[cow C] 28.55\n",
       "\\item[cow D] 26.175\n",
       "\\item[cow E] 22.45\n",
       "\\item[cow F] 24.725\n",
       "\\item[cow G] 27.55\n",
       "\\item[cow H] 30.15\n",
       "\\item[cow I] 30.9\n",
       "\\item[cow J] 30.2\n",
       "\\end{description*}\n"
      ],
      "text/markdown": [
       "cow A\n",
       ":   24.55cow B\n",
       ":   24.9cow C\n",
       ":   28.55cow D\n",
       ":   26.175cow E\n",
       ":   22.45cow F\n",
       ":   24.725cow G\n",
       ":   27.55cow H\n",
       ":   30.15cow I\n",
       ":   30.9cow J\n",
       ":   30.2\n",
       "\n"
      ],
      "text/plain": [
       " cow A  cow B  cow C  cow D  cow E  cow F  cow G  cow H  cow I  cow J \n",
       "24.550 24.900 28.550 26.175 22.450 24.725 27.550 30.150 30.900 30.200 "
      ]
     },
     "metadata": {},
     "output_type": "display_data"
    }
   ],
   "source": [
    "srednie = tapply(milk$milk.amount, milk$cow, mean) #mozna tez tak: with(milk, tapply(milk.amount, cow, mean))\n",
    "srednie"
   ]
  },
  {
   "cell_type": "code",
   "execution_count": 17,
   "id": "850ef3ae",
   "metadata": {},
   "outputs": [
    {
     "data": {
      "text/html": [
       "2.9995"
      ],
      "text/latex": [
       "2.9995"
      ],
      "text/markdown": [
       "2.9995"
      ],
      "text/plain": [
       "[1] 2.9995"
      ]
     },
     "metadata": {},
     "output_type": "display_data"
    }
   ],
   "source": [
    "mean(tapply(milk$milk.amount, milk$cow, var)) #srednia wariancji w obrębie grup"
   ]
  },
  {
   "cell_type": "code",
   "execution_count": 18,
   "id": "45938981",
   "metadata": {},
   "outputs": [
    {
     "data": {
      "image/png": "[encoded data removed]",
      "text/plain": [
       "plot without title"
      ]
     },
     "metadata": {},
     "output_type": "display_data"
    }
   ],
   "source": [
    "library(lattice)\n",
    "dotplot(cow~milk.amount, data=milk, xlab=\"mlecznosc [kg/dzien]\")"
   ]
  },
  {
   "cell_type": "markdown",
   "id": "5fa536e7",
   "metadata": {},
   "source": [
    "$y = \\mu +Zu + \\epsilon$"
   ]
  },
  {
   "cell_type": "code",
   "execution_count": 19,
   "id": "ad35542e",
   "metadata": {},
   "outputs": [],
   "source": [
    "model1 = lmer(milk.amount~(1|cow), data = milk)  #(1|cow) oznacza ze będziemy uwzgledniac poziomy zmiennej 'cow' jako efekty losowe"
   ]
  },
  {
   "cell_type": "code",
   "execution_count": 20,
   "id": "89ea20a0",
   "metadata": {},
   "outputs": [
    {
     "data": {
      "text/plain": [
       "Linear mixed model fit by REML ['lmerMod']\n",
       "Formula: milk.amount ~ (1 | cow)\n",
       "   Data: milk\n",
       "\n",
       "REML criterion at convergence: 178.9\n",
       "\n",
       "Scaled residuals: \n",
       "    Min      1Q  Median      3Q     Max \n",
       "-1.9981 -0.4136  0.1775  0.6561  1.4021 \n",
       "\n",
       "Random effects:\n",
       " Groups   Name        Variance Std.Dev.\n",
       " cow      (Intercept) 7.589    2.755   \n",
       " Residual             2.999    1.732   \n",
       "Number of obs: 40, groups:  cow, 10\n",
       "\n",
       "Fixed effects:\n",
       "            Estimate Std. Error t value\n",
       "(Intercept)  27.0150     0.9132   29.58"
      ]
     },
     "metadata": {},
     "output_type": "display_data"
    }
   ],
   "source": [
    "summary(model1)"
   ]
  },
  {
   "cell_type": "markdown",
   "id": "33d7d4e4",
   "metadata": {},
   "source": [
    "- $\\mu = 27.0150$ (efekt stały średniej),\n",
    "\n",
    "- $\\sigma_{1}^{2} = 7.589$ (wariancja efektów losowych) \n",
    "\n",
    "- $\\sigma_{0}^{2} = 2.999$ (wariancja zakłócenia losowego)"
   ]
  },
  {
   "cell_type": "code",
   "execution_count": 21,
   "id": "1218a76c",
   "metadata": {},
   "outputs": [
    {
     "data": {
      "text/html": [
       "<strong>(Intercept):</strong> 27.0150000000001"
      ],
      "text/latex": [
       "\\textbf{(Intercept):} 27.0150000000001"
      ],
      "text/markdown": [
       "**(Intercept):** 27.0150000000001"
      ],
      "text/plain": [
       "(Intercept) \n",
       "     27.015 "
      ]
     },
     "metadata": {},
     "output_type": "display_data"
    },
    {
     "data": {
      "text/plain": [
       "$cow\n",
       "      (Intercept)\n",
       "cow A  -2.2433244\n",
       "cow B  -1.9247997\n",
       "cow C   1.3969586\n",
       "cow D  -0.7644594\n",
       "cow E  -4.1544730\n",
       "cow F  -2.0840620\n",
       "cow G   0.4868879\n",
       "cow H   2.8530718\n",
       "cow I   3.5356249\n",
       "cow J   2.8985754\n",
       "\n",
       "with conditional variances for \"cow\" "
      ]
     },
     "metadata": {},
     "output_type": "display_data"
    }
   ],
   "source": [
    "fixef(model1); ranef(model1) #porownac z wynikiem tapply wyzej, np 27.015-2.243 = 24.772 ~ 24.55"
   ]
  },
  {
   "cell_type": "code",
   "execution_count": 22,
   "id": "83f0fc78",
   "metadata": {},
   "outputs": [
    {
     "data": {
      "text/plain": [
       "\n",
       "Call:\n",
       "lm(formula = milk.amount ~ cow, data = milk)\n",
       "\n",
       "Residuals:\n",
       "   Min     1Q Median     3Q    Max \n",
       "-3.175 -1.000  0.150  1.006  2.650 \n",
       "\n",
       "Coefficients:\n",
       "            Estimate Std. Error t value Pr(>|t|)    \n",
       "(Intercept)   24.550      0.866  28.350  < 2e-16 ***\n",
       "cowcow B       0.350      1.225   0.286  0.77700    \n",
       "cowcow C       4.000      1.225   3.266  0.00273 ** \n",
       "cowcow D       1.625      1.225   1.327  0.19455    \n",
       "cowcow E      -2.100      1.225  -1.715  0.09670 .  \n",
       "cowcow F       0.175      1.225   0.143  0.88733    \n",
       "cowcow G       3.000      1.225   2.450  0.02035 *  \n",
       "cowcow H       5.600      1.225   4.573 7.76e-05 ***\n",
       "cowcow I       6.350      1.225   5.185 1.38e-05 ***\n",
       "cowcow J       5.650      1.225   4.614 6.92e-05 ***\n",
       "---\n",
       "Signif. codes:  0 '***' 0.001 '**' 0.01 '*' 0.05 '.' 0.1 ' ' 1\n",
       "\n",
       "Residual standard error: 1.732 on 30 degrees of freedom\n",
       "Multiple R-squared:  0.7694,\tAdjusted R-squared:  0.7002 \n",
       "F-statistic: 11.12 on 9 and 30 DF,  p-value: 2.161e-07\n"
      ]
     },
     "metadata": {},
     "output_type": "display_data"
    }
   ],
   "source": [
    "model2 = lm(milk.amount~cow, data=milk) #model ze stalym efektem krowy\n",
    "summary(model2)"
   ]
  },
  {
   "cell_type": "code",
   "execution_count": 23,
   "id": "2d22986a",
   "metadata": {},
   "outputs": [
    {
     "data": {
      "text/html": [
       "<dl class=dl-horizontal>\n",
       "\t<dt>(Intercept)</dt>\n",
       "\t\t<dd>24.55</dd>\n",
       "\t<dt>cowcow B</dt>\n",
       "\t\t<dd>0.349999999999992</dd>\n",
       "\t<dt>cowcow C</dt>\n",
       "\t\t<dd>3.99999999999999</dd>\n",
       "\t<dt>cowcow D</dt>\n",
       "\t\t<dd>1.62499999999999</dd>\n",
       "\t<dt>cowcow E</dt>\n",
       "\t\t<dd>-2.10000000000001</dd>\n",
       "\t<dt>cowcow F</dt>\n",
       "\t\t<dd>0.174999999999992</dd>\n",
       "\t<dt>cowcow G</dt>\n",
       "\t\t<dd>2.99999999999999</dd>\n",
       "\t<dt>cowcow H</dt>\n",
       "\t\t<dd>5.59999999999999</dd>\n",
       "\t<dt>cowcow I</dt>\n",
       "\t\t<dd>6.34999999999999</dd>\n",
       "\t<dt>cowcow J</dt>\n",
       "\t\t<dd>5.64999999999999</dd>\n",
       "</dl>\n"
      ],
      "text/latex": [
       "\\begin{description*}\n",
       "\\item[(Intercept)] 24.55\n",
       "\\item[cowcow B] 0.349999999999992\n",
       "\\item[cowcow C] 3.99999999999999\n",
       "\\item[cowcow D] 1.62499999999999\n",
       "\\item[cowcow E] -2.10000000000001\n",
       "\\item[cowcow F] 0.174999999999992\n",
       "\\item[cowcow G] 2.99999999999999\n",
       "\\item[cowcow H] 5.59999999999999\n",
       "\\item[cowcow I] 6.34999999999999\n",
       "\\item[cowcow J] 5.64999999999999\n",
       "\\end{description*}\n"
      ],
      "text/markdown": [
       "(Intercept)\n",
       ":   24.55cowcow B\n",
       ":   0.349999999999992cowcow C\n",
       ":   3.99999999999999cowcow D\n",
       ":   1.62499999999999cowcow E\n",
       ":   -2.10000000000001cowcow F\n",
       ":   0.174999999999992cowcow G\n",
       ":   2.99999999999999cowcow H\n",
       ":   5.59999999999999cowcow I\n",
       ":   6.34999999999999cowcow J\n",
       ":   5.64999999999999\n",
       "\n"
      ],
      "text/plain": [
       "(Intercept)    cowcow B    cowcow C    cowcow D    cowcow E    cowcow F \n",
       "     24.550       0.350       4.000       1.625      -2.100       0.175 \n",
       "   cowcow G    cowcow H    cowcow I    cowcow J \n",
       "      3.000       5.600       6.350       5.650 "
      ]
     },
     "metadata": {},
     "output_type": "display_data"
    }
   ],
   "source": [
    "model2$coef"
   ]
  },
  {
   "cell_type": "code",
   "execution_count": 24,
   "id": "20bc6fc3",
   "metadata": {},
   "outputs": [
    {
     "data": {
      "text/html": [
       "<table>\n",
       "<thead><tr><th></th><th scope=col>srednie</th><th scope=col>ocena_m2</th><th scope=col>ocena_m1</th></tr></thead>\n",
       "<tbody>\n",
       "\t<tr><th scope=row>cow A</th><td>24.550  </td><td>24.550  </td><td>24.77168</td></tr>\n",
       "\t<tr><th scope=row>cow B</th><td>24.900  </td><td>24.900  </td><td>25.09020</td></tr>\n",
       "\t<tr><th scope=row>cow C</th><td>28.550  </td><td>28.550  </td><td>28.41196</td></tr>\n",
       "\t<tr><th scope=row>cow D</th><td>26.175  </td><td>26.175  </td><td>26.25054</td></tr>\n",
       "\t<tr><th scope=row>cow E</th><td>22.450  </td><td>22.450  </td><td>22.86053</td></tr>\n",
       "\t<tr><th scope=row>cow F</th><td>24.725  </td><td>24.725  </td><td>24.93094</td></tr>\n",
       "\t<tr><th scope=row>cow G</th><td>27.550  </td><td>27.550  </td><td>27.50189</td></tr>\n",
       "\t<tr><th scope=row>cow H</th><td>30.150  </td><td>30.150  </td><td>29.86807</td></tr>\n",
       "\t<tr><th scope=row>cow I</th><td>30.900  </td><td>30.900  </td><td>30.55062</td></tr>\n",
       "\t<tr><th scope=row>cow J</th><td>30.200  </td><td>30.200  </td><td>29.91358</td></tr>\n",
       "</tbody>\n",
       "</table>\n"
      ],
      "text/latex": [
       "\\begin{tabular}{r|lll}\n",
       "  & srednie & ocena\\_m2 & ocena\\_m1\\\\\n",
       "\\hline\n",
       "\tcow A & 24.550   & 24.550   & 24.77168\\\\\n",
       "\tcow B & 24.900   & 24.900   & 25.09020\\\\\n",
       "\tcow C & 28.550   & 28.550   & 28.41196\\\\\n",
       "\tcow D & 26.175   & 26.175   & 26.25054\\\\\n",
       "\tcow E & 22.450   & 22.450   & 22.86053\\\\\n",
       "\tcow F & 24.725   & 24.725   & 24.93094\\\\\n",
       "\tcow G & 27.550   & 27.550   & 27.50189\\\\\n",
       "\tcow H & 30.150   & 30.150   & 29.86807\\\\\n",
       "\tcow I & 30.900   & 30.900   & 30.55062\\\\\n",
       "\tcow J & 30.200   & 30.200   & 29.91358\\\\\n",
       "\\end{tabular}\n"
      ],
      "text/markdown": [
       "\n",
       "| <!--/--> | srednie | ocena_m2 | ocena_m1 |\n",
       "|---|---|---|---|\n",
       "| cow A | 24.550   | 24.550   | 24.77168 |\n",
       "| cow B | 24.900   | 24.900   | 25.09020 |\n",
       "| cow C | 28.550   | 28.550   | 28.41196 |\n",
       "| cow D | 26.175   | 26.175   | 26.25054 |\n",
       "| cow E | 22.450   | 22.450   | 22.86053 |\n",
       "| cow F | 24.725   | 24.725   | 24.93094 |\n",
       "| cow G | 27.550   | 27.550   | 27.50189 |\n",
       "| cow H | 30.150   | 30.150   | 29.86807 |\n",
       "| cow I | 30.900   | 30.900   | 30.55062 |\n",
       "| cow J | 30.200   | 30.200   | 29.91358 |\n",
       "\n"
      ],
      "text/plain": [
       "      srednie ocena_m2 ocena_m1\n",
       "cow A 24.550  24.550   24.77168\n",
       "cow B 24.900  24.900   25.09020\n",
       "cow C 28.550  28.550   28.41196\n",
       "cow D 26.175  26.175   26.25054\n",
       "cow E 22.450  22.450   22.86053\n",
       "cow F 24.725  24.725   24.93094\n",
       "cow G 27.550  27.550   27.50189\n",
       "cow H 30.150  30.150   29.86807\n",
       "cow I 30.900  30.900   30.55062\n",
       "cow J 30.200  30.200   29.91358"
      ]
     },
     "metadata": {},
     "output_type": "display_data"
    }
   ],
   "source": [
    "ocena_m1 = unlist(ranef(model1))+unlist(fixef(model1))\n",
    "ocena_m2 = c(0, model2$coef[-1])+model2$coef[1]\n",
    "\n",
    "cbind(srednie, ocena_m2, ocena_m1) #w modelu stalym srednie są identyczne, w modelu mieszanym nieco sciągniete w strone sredniej (27)"
   ]
  },
  {
   "cell_type": "markdown",
   "id": "e8e95bad",
   "metadata": {},
   "source": [
    "Efekty losowe z przedziałami ufności"
   ]
  },
  {
   "cell_type": "code",
   "execution_count": 25,
   "id": "ae839d17",
   "metadata": {},
   "outputs": [
    {
     "data": {
      "text/plain": [
       "$cow\n"
      ]
     },
     "metadata": {},
     "output_type": "display_data"
    },
    {
     "data": {
      "image/png": "[encoded data removed]",
      "text/plain": [
       "plot without title"
      ]
     },
     "metadata": {},
     "output_type": "display_data"
    }
   ],
   "source": [
    "u = ranef(model1, condVar = TRUE)\n",
    "library(lattice)\n",
    "dotplot(u) #predykcje efektow losowych z przedzialami ufnosci"
   ]
  },
  {
   "cell_type": "markdown",
   "id": "57519adf",
   "metadata": {},
   "source": [
    "<h4> Przykład 4"
   ]
  },
  {
   "cell_type": "code",
   "execution_count": 26,
   "id": "63456775",
   "metadata": {},
   "outputs": [
    {
     "data": {
      "text/html": [
       "<table>\n",
       "<thead><tr><th scope=col>cow.id</th><th scope=col>btn3a1</th><th scope=col>lactation</th><th scope=col>milk</th><th scope=col>fat</th></tr></thead>\n",
       "<tbody>\n",
       "\t<tr><td>1   </td><td>1   </td><td>1   </td><td>7770</td><td>358 </td></tr>\n",
       "\t<tr><td>2   </td><td>1   </td><td>1   </td><td>7341</td><td>376 </td></tr>\n",
       "\t<tr><td>3   </td><td>1   </td><td>1   </td><td>6998</td><td>294 </td></tr>\n",
       "\t<tr><td>3   </td><td>1   </td><td>2   </td><td>8564</td><td>331 </td></tr>\n",
       "\t<tr><td>3   </td><td>1   </td><td>3   </td><td>8621</td><td>330 </td></tr>\n",
       "\t<tr><td>4   </td><td>1   </td><td>1   </td><td>9536</td><td>365 </td></tr>\n",
       "</tbody>\n",
       "</table>\n"
      ],
      "text/latex": [
       "\\begin{tabular}{r|lllll}\n",
       " cow.id & btn3a1 & lactation & milk & fat\\\\\n",
       "\\hline\n",
       "\t 1    & 1    & 1    & 7770 & 358 \\\\\n",
       "\t 2    & 1    & 1    & 7341 & 376 \\\\\n",
       "\t 3    & 1    & 1    & 6998 & 294 \\\\\n",
       "\t 3    & 1    & 2    & 8564 & 331 \\\\\n",
       "\t 3    & 1    & 3    & 8621 & 330 \\\\\n",
       "\t 4    & 1    & 1    & 9536 & 365 \\\\\n",
       "\\end{tabular}\n"
      ],
      "text/markdown": [
       "\n",
       "| cow.id | btn3a1 | lactation | milk | fat |\n",
       "|---|---|---|---|---|\n",
       "| 1    | 1    | 1    | 7770 | 358  |\n",
       "| 2    | 1    | 1    | 7341 | 376  |\n",
       "| 3    | 1    | 1    | 6998 | 294  |\n",
       "| 3    | 1    | 2    | 8564 | 331  |\n",
       "| 3    | 1    | 3    | 8621 | 330  |\n",
       "| 4    | 1    | 1    | 9536 | 365  |\n",
       "\n"
      ],
      "text/plain": [
       "  cow.id btn3a1 lactation milk fat\n",
       "1 1      1      1         7770 358\n",
       "2 2      1      1         7341 376\n",
       "3 3      1      1         6998 294\n",
       "4 3      1      2         8564 331\n",
       "5 3      1      3         8621 330\n",
       "6 4      1      1         9536 365"
      ]
     },
     "metadata": {},
     "output_type": "display_data"
    }
   ],
   "source": [
    "library(PBImisc)\n",
    "data(milkgene)\n",
    "head(milkgene) #gen btn3a1 wystepuje w wersjach 1 i 2"
   ]
  },
  {
   "cell_type": "code",
   "execution_count": 27,
   "id": "b96f89de",
   "metadata": {},
   "outputs": [
    {
     "name": "stdout",
     "output_type": "stream",
     "text": [
      "'data.frame':\t1000 obs. of  5 variables:\n",
      " $ cow.id   : int  1 2 3 3 3 4 4 4 5 5 ...\n",
      " $ btn3a1   : Factor w/ 2 levels \"1\",\"2\": 1 1 1 1 1 1 1 1 1 1 ...\n",
      " $ lactation: Factor w/ 4 levels \"1\",\"2\",\"3\",\"4\": 1 1 1 2 3 1 2 3 1 2 ...\n",
      " $ milk     : int  7770 7341 6998 8564 8621 9536 7950 8570 9453 11004 ...\n",
      " $ fat      : int  358 376 294 331 330 365 331 322 339 407 ...\n"
     ]
    }
   ],
   "source": [
    "str(milkgene)"
   ]
  },
  {
   "cell_type": "code",
   "execution_count": 28,
   "id": "1ba4d830",
   "metadata": {},
   "outputs": [
    {
     "data": {
      "text/plain": [
       "     cow.id      btn3a1  lactation      milk            fat       \n",
       " Min.   :  1.0   1:915   1:409     Min.   : 1708   Min.   : 85.0  \n",
       " 1st Qu.: 83.0   2: 85   2:334     1st Qu.: 6320   1st Qu.:262.0  \n",
       " Median :206.5           3:202     Median : 7379   Median :298.5  \n",
       " Mean   :216.1           4: 55     Mean   : 7525   Mean   :300.3  \n",
       " 3rd Qu.:341.2                     3rd Qu.: 8653   3rd Qu.:338.0  \n",
       " Max.   :465.0                     Max.   :13442   Max.   :713.0  "
      ]
     },
     "metadata": {},
     "output_type": "display_data"
    }
   ],
   "source": [
    "summary(milkgene)"
   ]
  },
  {
   "cell_type": "code",
   "execution_count": 29,
   "id": "9831f106",
   "metadata": {},
   "outputs": [
    {
     "data": {
      "text/html": [
       "<dl class=dl-horizontal>\n",
       "\t<dt>1</dt>\n",
       "\t\t<dd>7542.51693989071</dd>\n",
       "\t<dt>2</dt>\n",
       "\t\t<dd>7336.08235294118</dd>\n",
       "</dl>\n"
      ],
      "text/latex": [
       "\\begin{description*}\n",
       "\\item[1] 7542.51693989071\n",
       "\\item[2] 7336.08235294118\n",
       "\\end{description*}\n"
      ],
      "text/markdown": [
       "1\n",
       ":   7542.516939890712\n",
       ":   7336.08235294118\n",
       "\n"
      ],
      "text/plain": [
       "       1        2 \n",
       "7542.517 7336.082 "
      ]
     },
     "metadata": {},
     "output_type": "display_data"
    }
   ],
   "source": [
    "tapply(milkgene$milk, milkgene$btn3a1, mean) #krowy z wersją 1 i 2 genu BTN3A1 "
   ]
  },
  {
   "cell_type": "code",
   "execution_count": 30,
   "id": "b6f2916b",
   "metadata": {},
   "outputs": [
    {
     "data": {
      "text/html": [
       "206.43458694953"
      ],
      "text/latex": [
       "206.43458694953"
      ],
      "text/markdown": [
       "206.43458694953"
      ],
      "text/plain": [
       "[1] 206.4346"
      ]
     },
     "metadata": {},
     "output_type": "display_data"
    }
   ],
   "source": [
    "7542.51693989071-7336.08235294118"
   ]
  },
  {
   "cell_type": "markdown",
   "id": "a6534c27",
   "metadata": {},
   "source": [
    "<h4> Zadanie1: Czy możemy zastosować tutaj test t-studenta aby porównać mutacje genu BTN3A1? Uzasadnij odpowiedź."
   ]
  },
  {
   "cell_type": "code",
   "execution_count": 31,
   "id": "63a60425",
   "metadata": {},
   "outputs": [
    {
     "name": "stdout",
     "output_type": "stream",
     "text": [
      "Linear mixed model fit by maximum likelihood  ['lmerMod']\n",
      "Formula: milk ~ btn3a1 + lactation + (1 | cow.id)\n",
      "   Data: milkgene\n",
      "\n",
      "     AIC      BIC   logLik deviance df.resid \n",
      " 17374.3  17408.7  -8680.2  17360.3      993 \n",
      "\n",
      "Scaled residuals: \n",
      "    Min      1Q  Median      3Q     Max \n",
      "-2.6389 -0.5390  0.0281  0.5518  3.2189 \n",
      "\n",
      "Random effects:\n",
      " Groups   Name        Variance Std.Dev.\n",
      " cow.id   (Intercept) 1233594  1111    \n",
      " Residual             1246884  1117    \n",
      "Number of obs: 1000, groups:  cow.id, 409\n",
      "\n",
      "Fixed effects:\n",
      "            Estimate Std. Error t value\n",
      "(Intercept)  6699.44      80.87  82.846\n",
      "btn3a12      -244.05     234.50  -1.041\n",
      "lactation2   1307.06      84.43  15.481\n",
      "lactation3   1800.51     101.85  17.677\n",
      "lactation4   1669.17     176.02   9.483\n",
      "\n",
      "Correlation of Fixed Effects:\n",
      "           (Intr) btn312 lcttn2 lcttn3\n",
      "btn3a12    -0.269                     \n",
      "lactation2 -0.454  0.029              \n",
      "lactation3 -0.374  0.015  0.395       \n",
      "lactation4 -0.214  0.000  0.228  0.234\n"
     ]
    }
   ],
   "source": [
    "model1 = lmer(milk~btn3a1+lactation+(1|cow.id), data=milkgene, REML = F)\n",
    "print(summary(model1))"
   ]
  },
  {
   "cell_type": "markdown",
   "id": "33cc87f8",
   "metadata": {},
   "source": [
    "<h4> Zadanie2: Efekt genu BTN3A1 został oceniony na -244.05. Czy ten efekt można uznać za istotny? Pomocne może też być zbudowanie alternatywnego modelu i użycie anova."
   ]
  },
  {
   "cell_type": "markdown",
   "id": "7bfbbc33",
   "metadata": {},
   "source": [
    "Szybka diangostyka"
   ]
  },
  {
   "cell_type": "code",
   "execution_count": 32,
   "id": "1d3dabd4",
   "metadata": {},
   "outputs": [
    {
     "data": {
      "text/plain": [
       "$cow.id\n"
      ]
     },
     "metadata": {},
     "output_type": "display_data"
    },
    {
     "data": {
      "image/png": "[encoded data removed]",
      "text/plain": [
       "plot without title"
      ]
     },
     "metadata": {},
     "output_type": "display_data"
    }
   ],
   "source": [
    "u = ranef(model1, condVar = TRUE)\n",
    "library(lattice)\n",
    "dotplot(u) #predykcje efektow losowych z przedzialami ufnosci"
   ]
  },
  {
   "cell_type": "code",
   "execution_count": 33,
   "id": "729e6428",
   "metadata": {},
   "outputs": [
    {
     "data": {
      "image/png": "[encoded data removed]",
      "text/plain": [
       "Plot with title \"Normal Q-Q Plot\""
      ]
     },
     "metadata": {},
     "output_type": "display_data"
    }
   ],
   "source": [
    "e = residuals(model1) #roznice miedzy predykcją a wartoscią\n",
    "qqnorm(e, pch=16)\n",
    "qqline(e)"
   ]
  },
  {
   "cell_type": "code",
   "execution_count": 34,
   "id": "184d057e",
   "metadata": {},
   "outputs": [
    {
     "data": {
      "text/html": [
       "<table>\n",
       "<thead><tr><th scope=col>factor(cow.id)1</th><th scope=col>factor(cow.id)2</th><th scope=col>factor(cow.id)3</th><th scope=col>factor(cow.id)4</th><th scope=col>factor(cow.id)5</th><th scope=col>factor(cow.id)6</th><th scope=col>factor(cow.id)7</th><th scope=col>factor(cow.id)8</th><th scope=col>factor(cow.id)9</th><th scope=col>factor(cow.id)10</th><th scope=col>...</th><th scope=col>factor(cow.id)456</th><th scope=col>factor(cow.id)457</th><th scope=col>factor(cow.id)458</th><th scope=col>factor(cow.id)459</th><th scope=col>factor(cow.id)460</th><th scope=col>factor(cow.id)461</th><th scope=col>factor(cow.id)462</th><th scope=col>factor(cow.id)463</th><th scope=col>factor(cow.id)464</th><th scope=col>factor(cow.id)465</th></tr></thead>\n",
       "<tbody>\n",
       "\t<tr><td>1  </td><td>0  </td><td>0  </td><td>0  </td><td>0  </td><td>0  </td><td>0  </td><td>0  </td><td>0  </td><td>0  </td><td>...</td><td>0  </td><td>0  </td><td>0  </td><td>0  </td><td>0  </td><td>0  </td><td>0  </td><td>0  </td><td>0  </td><td>0  </td></tr>\n",
       "\t<tr><td>0  </td><td>1  </td><td>0  </td><td>0  </td><td>0  </td><td>0  </td><td>0  </td><td>0  </td><td>0  </td><td>0  </td><td>...</td><td>0  </td><td>0  </td><td>0  </td><td>0  </td><td>0  </td><td>0  </td><td>0  </td><td>0  </td><td>0  </td><td>0  </td></tr>\n",
       "\t<tr><td>0  </td><td>0  </td><td>1  </td><td>0  </td><td>0  </td><td>0  </td><td>0  </td><td>0  </td><td>0  </td><td>0  </td><td>...</td><td>0  </td><td>0  </td><td>0  </td><td>0  </td><td>0  </td><td>0  </td><td>0  </td><td>0  </td><td>0  </td><td>0  </td></tr>\n",
       "\t<tr><td>0  </td><td>0  </td><td>1  </td><td>0  </td><td>0  </td><td>0  </td><td>0  </td><td>0  </td><td>0  </td><td>0  </td><td>...</td><td>0  </td><td>0  </td><td>0  </td><td>0  </td><td>0  </td><td>0  </td><td>0  </td><td>0  </td><td>0  </td><td>0  </td></tr>\n",
       "\t<tr><td>0  </td><td>0  </td><td>1  </td><td>0  </td><td>0  </td><td>0  </td><td>0  </td><td>0  </td><td>0  </td><td>0  </td><td>...</td><td>0  </td><td>0  </td><td>0  </td><td>0  </td><td>0  </td><td>0  </td><td>0  </td><td>0  </td><td>0  </td><td>0  </td></tr>\n",
       "\t<tr><td>0  </td><td>0  </td><td>0  </td><td>1  </td><td>0  </td><td>0  </td><td>0  </td><td>0  </td><td>0  </td><td>0  </td><td>...</td><td>0  </td><td>0  </td><td>0  </td><td>0  </td><td>0  </td><td>0  </td><td>0  </td><td>0  </td><td>0  </td><td>0  </td></tr>\n",
       "</tbody>\n",
       "</table>\n"
      ],
      "text/latex": [
       "\\begin{tabular}{r|lllllllllllllllllllllllllllllllllllllllllllllllllllllllllllllllllllllllllllllllllllllllllllllllllllllllllllllllllllllllllllllllllllllllllllllllllllllllllllllllllllllllllllllllllllllllllllllllllllllllllllllllllllllllllllllllllllllllllllllllllllllllllllllllllllllllllllllllllllllllllllllllllllllllllllllllllllllllllllllllllllllllllllllllllllllllllllllllllllllllllllllllllllllllllllllllllllllllllllllllllllllllll}\n",
       " factor(cow.id)1 & factor(cow.id)2 & factor(cow.id)3 & factor(cow.id)4 & factor(cow.id)5 & factor(cow.id)6 & factor(cow.id)7 & factor(cow.id)8 & factor(cow.id)9 & factor(cow.id)10 & ... & factor(cow.id)456 & factor(cow.id)457 & factor(cow.id)458 & factor(cow.id)459 & factor(cow.id)460 & factor(cow.id)461 & factor(cow.id)462 & factor(cow.id)463 & factor(cow.id)464 & factor(cow.id)465\\\\\n",
       "\\hline\n",
       "\t 1   & 0   & 0   & 0   & 0   & 0   & 0   & 0   & 0   & 0   & ... & 0   & 0   & 0   & 0   & 0   & 0   & 0   & 0   & 0   & 0  \\\\\n",
       "\t 0   & 1   & 0   & 0   & 0   & 0   & 0   & 0   & 0   & 0   & ... & 0   & 0   & 0   & 0   & 0   & 0   & 0   & 0   & 0   & 0  \\\\\n",
       "\t 0   & 0   & 1   & 0   & 0   & 0   & 0   & 0   & 0   & 0   & ... & 0   & 0   & 0   & 0   & 0   & 0   & 0   & 0   & 0   & 0  \\\\\n",
       "\t 0   & 0   & 1   & 0   & 0   & 0   & 0   & 0   & 0   & 0   & ... & 0   & 0   & 0   & 0   & 0   & 0   & 0   & 0   & 0   & 0  \\\\\n",
       "\t 0   & 0   & 1   & 0   & 0   & 0   & 0   & 0   & 0   & 0   & ... & 0   & 0   & 0   & 0   & 0   & 0   & 0   & 0   & 0   & 0  \\\\\n",
       "\t 0   & 0   & 0   & 1   & 0   & 0   & 0   & 0   & 0   & 0   & ... & 0   & 0   & 0   & 0   & 0   & 0   & 0   & 0   & 0   & 0  \\\\\n",
       "\\end{tabular}\n"
      ],
      "text/markdown": [
       "\n",
       "| factor(cow.id)1 | factor(cow.id)2 | factor(cow.id)3 | factor(cow.id)4 | factor(cow.id)5 | factor(cow.id)6 | factor(cow.id)7 | factor(cow.id)8 | factor(cow.id)9 | factor(cow.id)10 | ... | factor(cow.id)456 | factor(cow.id)457 | factor(cow.id)458 | factor(cow.id)459 | factor(cow.id)460 | factor(cow.id)461 | factor(cow.id)462 | factor(cow.id)463 | factor(cow.id)464 | factor(cow.id)465 |\n",
       "|---|---|---|---|---|---|---|---|---|---|---|---|---|---|---|---|---|---|---|---|---|\n",
       "| 1   | 0   | 0   | 0   | 0   | 0   | 0   | 0   | 0   | 0   | ... | 0   | 0   | 0   | 0   | 0   | 0   | 0   | 0   | 0   | 0   |\n",
       "| 0   | 1   | 0   | 0   | 0   | 0   | 0   | 0   | 0   | 0   | ... | 0   | 0   | 0   | 0   | 0   | 0   | 0   | 0   | 0   | 0   |\n",
       "| 0   | 0   | 1   | 0   | 0   | 0   | 0   | 0   | 0   | 0   | ... | 0   | 0   | 0   | 0   | 0   | 0   | 0   | 0   | 0   | 0   |\n",
       "| 0   | 0   | 1   | 0   | 0   | 0   | 0   | 0   | 0   | 0   | ... | 0   | 0   | 0   | 0   | 0   | 0   | 0   | 0   | 0   | 0   |\n",
       "| 0   | 0   | 1   | 0   | 0   | 0   | 0   | 0   | 0   | 0   | ... | 0   | 0   | 0   | 0   | 0   | 0   | 0   | 0   | 0   | 0   |\n",
       "| 0   | 0   | 0   | 1   | 0   | 0   | 0   | 0   | 0   | 0   | ... | 0   | 0   | 0   | 0   | 0   | 0   | 0   | 0   | 0   | 0   |\n",
       "\n"
      ],
      "text/plain": [
       "  factor(cow.id)1 factor(cow.id)2 factor(cow.id)3 factor(cow.id)4\n",
       "1 1               0               0               0              \n",
       "2 0               1               0               0              \n",
       "3 0               0               1               0              \n",
       "4 0               0               1               0              \n",
       "5 0               0               1               0              \n",
       "6 0               0               0               1              \n",
       "  factor(cow.id)5 factor(cow.id)6 factor(cow.id)7 factor(cow.id)8\n",
       "1 0               0               0               0              \n",
       "2 0               0               0               0              \n",
       "3 0               0               0               0              \n",
       "4 0               0               0               0              \n",
       "5 0               0               0               0              \n",
       "6 0               0               0               0              \n",
       "  factor(cow.id)9 factor(cow.id)10 ... factor(cow.id)456 factor(cow.id)457\n",
       "1 0               0                ... 0                 0                \n",
       "2 0               0                ... 0                 0                \n",
       "3 0               0                ... 0                 0                \n",
       "4 0               0                ... 0                 0                \n",
       "5 0               0                ... 0                 0                \n",
       "6 0               0                ... 0                 0                \n",
       "  factor(cow.id)458 factor(cow.id)459 factor(cow.id)460 factor(cow.id)461\n",
       "1 0                 0                 0                 0                \n",
       "2 0                 0                 0                 0                \n",
       "3 0                 0                 0                 0                \n",
       "4 0                 0                 0                 0                \n",
       "5 0                 0                 0                 0                \n",
       "6 0                 0                 0                 0                \n",
       "  factor(cow.id)462 factor(cow.id)463 factor(cow.id)464 factor(cow.id)465\n",
       "1 0                 0                 0                 0                \n",
       "2 0                 0                 0                 0                \n",
       "3 0                 0                 0                 0                \n",
       "4 0                 0                 0                 0                \n",
       "5 0                 0                 0                 0                \n",
       "6 0                 0                 0                 0                "
      ]
     },
     "metadata": {},
     "output_type": "display_data"
    }
   ],
   "source": [
    "Z = model.matrix(~factor(cow.id)-1, milkgene)\n",
    "head(Z)"
   ]
  },
  {
   "cell_type": "code",
   "execution_count": 35,
   "id": "6e2e7fc0",
   "metadata": {},
   "outputs": [
    {
     "data": {
      "image/png": "[encoded data removed]",
      "text/plain": [
       "Plot with title \"Normal Q-Q Plot\""
      ]
     },
     "metadata": {},
     "output_type": "display_data"
    }
   ],
   "source": [
    "ue = Z %*%u[[1]][[1]] #efekty losowe dla kazdej obserwacji\n",
    "qqnorm(ue, pch=16)\n",
    "qqline(ue)"
   ]
  },
  {
   "cell_type": "code",
   "execution_count": 36,
   "id": "02300891",
   "metadata": {},
   "outputs": [
    {
     "data": {
      "image/png": "[encoded data removed]",
      "text/plain": [
       "plot without title"
      ]
     },
     "metadata": {},
     "output_type": "display_data"
    }
   ],
   "source": [
    "xyplot(e~ue, type = c(\"p\", \"smooth\"))"
   ]
  },
  {
   "cell_type": "code",
   "execution_count": 37,
   "id": "02ee9b64",
   "metadata": {},
   "outputs": [
    {
     "data": {
      "text/html": [
       "<table>\n",
       "<tbody>\n",
       "\t<tr><td>0.3925</td></tr>\n",
       "</tbody>\n",
       "</table>\n"
      ],
      "text/latex": [
       "\\begin{tabular}{l}\n",
       "\t 0.3925\\\\\n",
       "\\end{tabular}\n"
      ],
      "text/markdown": [
       "\n",
       "| 0.3925 |\n",
       "\n"
      ],
      "text/plain": [
       "     [,1]  \n",
       "[1,] 0.3925"
      ]
     },
     "metadata": {},
     "output_type": "display_data"
    }
   ],
   "source": [
    "cor(e, ue) #predykcje efektu losowego są nieznacznie skorelowane z wartosciami reszt (powinny byc niezalezne)"
   ]
  }
 ],
 "metadata": {
  "kernelspec": {
   "display_name": "R",
   "language": "R",
   "name": "ir"
  },
  "language_info": {
   "codemirror_mode": "r",
   "file_extension": ".r",
   "mimetype": "text/x-r-source",
   "name": "R",
   "pygments_lexer": "r",
   "version": "3.6.1"
  }
 },
 "nbformat": 4,
 "nbformat_minor": 5
}
