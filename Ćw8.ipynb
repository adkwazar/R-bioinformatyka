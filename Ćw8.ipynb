{
 "cells": [
  {
   "cell_type": "markdown",
   "id": "779fc840",
   "metadata": {},
   "source": [
    "<h3> Regresja liniowa - ciąg dalszy"
   ]
  },
  {
   "cell_type": "code",
   "execution_count": 9,
   "id": "35cb3174",
   "metadata": {},
   "outputs": [
    {
     "data": {
      "image/png": "[encoded data removed]",
      "text/plain": [
       "plot without title"
      ]
     },
     "metadata": {},
     "output_type": "display_data"
    }
   ],
   "source": [
    "x = seq(-1,1,by=0.1)\n",
    "y = 3*x+5+rnorm(length(x), 0, 0.5)\n",
    "\n",
    "options(repr.plot.width=4, repr.plot.height=3)\n",
    "plot(x,y)"
   ]
  },
  {
   "cell_type": "code",
   "execution_count": 10,
   "id": "105e14c4",
   "metadata": {},
   "outputs": [
    {
     "data": {
      "text/html": [
       "21"
      ],
      "text/latex": [
       "21"
      ],
      "text/markdown": [
       "21"
      ],
      "text/plain": [
       "[1] 21"
      ]
     },
     "metadata": {},
     "output_type": "display_data"
    }
   ],
   "source": [
    "n = length(x) #liczba danych\n",
    "n"
   ]
  },
  {
   "cell_type": "markdown",
   "id": "fef1594a",
   "metadata": {},
   "source": [
    "Cel: znalezienie zależności $y = ax+b$"
   ]
  },
  {
   "cell_type": "code",
   "execution_count": 11,
   "id": "dab4d895",
   "metadata": {},
   "outputs": [
    {
     "data": {
      "text/html": [
       "3.03890504483319"
      ],
      "text/latex": [
       "3.03890504483319"
      ],
      "text/markdown": [
       "3.03890504483319"
      ],
      "text/plain": [
       "[1] 3.038905"
      ]
     },
     "metadata": {},
     "output_type": "display_data"
    },
    {
     "data": {
      "text/html": [
       "5.14445413529325"
      ],
      "text/latex": [
       "5.14445413529325"
      ],
      "text/markdown": [
       "5.14445413529325"
      ],
      "text/plain": [
       "[1] 5.144454"
      ]
     },
     "metadata": {},
     "output_type": "display_data"
    }
   ],
   "source": [
    "#Jak znaleźć współczynniki a i b?\n",
    "a = cor(x,y)*sd(y)/sd(x)\n",
    "b = mean(y - a*x)\n",
    "a; b"
   ]
  },
  {
   "cell_type": "code",
   "execution_count": 12,
   "id": "88122504",
   "metadata": {},
   "outputs": [
    {
     "data": {
      "text/html": [
       "0.920912658369154"
      ],
      "text/latex": [
       "0.920912658369154"
      ],
      "text/markdown": [
       "0.920912658369154"
      ],
      "text/plain": [
       "[1] 0.9209127"
      ]
     },
     "metadata": {},
     "output_type": "display_data"
    }
   ],
   "source": [
    "#R^2 - czyli wspolczynnik oceny stworzonego modelu\n",
    "\n",
    "y_pred = a*x+b #przewidywane y\n",
    "SSR = sum((y_pred-mean(y))^2)\n",
    "SST = sum((y-mean(y))^2)\n",
    "R2 = SSR/SST\n",
    "R2"
   ]
  },
  {
   "cell_type": "markdown",
   "id": "51991049",
   "metadata": {},
   "source": [
    "W R wystarczy wykonać komendę: "
   ]
  },
  {
   "cell_type": "code",
   "execution_count": 13,
   "id": "01bcf817",
   "metadata": {},
   "outputs": [
    {
     "data": {
      "text/plain": [
       "\n",
       "Call:\n",
       "lm(formula = y ~ x)\n",
       "\n",
       "Residuals:\n",
       "     Min       1Q   Median       3Q      Max \n",
       "-1.30397 -0.27850 -0.02208  0.26988  1.33151 \n",
       "\n",
       "Coefficients:\n",
       "            Estimate Std. Error t value Pr(>|t|)    \n",
       "(Intercept)   5.1445     0.1237   41.58  < 2e-16 ***\n",
       "x             3.0389     0.2043   14.87 6.38e-12 ***\n",
       "---\n",
       "Signif. codes:  0 '***' 0.001 '**' 0.01 '*' 0.05 '.' 0.1 ' ' 1\n",
       "\n",
       "Residual standard error: 0.5669 on 19 degrees of freedom\n",
       "Multiple R-squared:  0.9209,\tAdjusted R-squared:  0.9168 \n",
       "F-statistic: 221.2 on 1 and 19 DF,  p-value: 6.383e-12\n"
      ]
     },
     "metadata": {},
     "output_type": "display_data"
    }
   ],
   "source": [
    "model = lm(y~x) \n",
    "summary(model)"
   ]
  },
  {
   "cell_type": "markdown",
   "id": "19838d45",
   "metadata": {},
   "source": [
    "Pytanie: Czy wartości $y_{pred}$ z modelu przypominają rzeczywsite $y$? Liczymy $y-y_{pred} =: \\epsilon$"
   ]
  },
  {
   "cell_type": "code",
   "execution_count": 14,
   "id": "ab373831",
   "metadata": {},
   "outputs": [],
   "source": [
    "ei = y - y_pred #wartosci resztowe (rezidua); powinny mieć średnią 0 i pochodzić z rozkładu normalnego (wtedy można stosować różnego rodzjau testy)"
   ]
  },
  {
   "cell_type": "code",
   "execution_count": 15,
   "id": "e3269372",
   "metadata": {},
   "outputs": [
    {
     "data": {
      "text/html": [
       "3.80647894157197e-16"
      ],
      "text/latex": [
       "3.80647894157197e-16"
      ],
      "text/markdown": [
       "3.80647894157197e-16"
      ],
      "text/plain": [
       "[1] 3.806479e-16"
      ]
     },
     "metadata": {},
     "output_type": "display_data"
    }
   ],
   "source": [
    "mean(ei)"
   ]
  },
  {
   "cell_type": "markdown",
   "id": "ebc274b8",
   "metadata": {},
   "source": [
    "<h4> Zadanie1: Dlaczego w modelu $y=ax+b + \\epsilon$ możemy założyć, że $\\epsilon$ ma wartość oczekiwaną 0?"
   ]
  },
  {
   "cell_type": "code",
   "execution_count": 16,
   "id": "53ea4086",
   "metadata": {},
   "outputs": [
    {
     "data": {
      "image/png": "[encoded data removed]",
      "text/plain": [
       "plot without title"
      ]
     },
     "metadata": {},
     "output_type": "display_data"
    }
   ],
   "source": [
    "options(repr.plot.width=6, repr.plot.height=3)\n",
    "plot(y_pred, ei) #zaleznosc reszt od warrtosci przewidzianych"
   ]
  },
  {
   "cell_type": "code",
   "execution_count": 17,
   "id": "247b5d6d",
   "metadata": {},
   "outputs": [
    {
     "data": {
      "text/plain": [
       "\n",
       "\tShapiro-Wilk normality test\n",
       "\n",
       "data:  ei\n",
       "W = 0.97306, p-value = 0.7994\n"
      ]
     },
     "metadata": {},
     "output_type": "display_data"
    }
   ],
   "source": [
    "shapiro.test(ei)"
   ]
  },
  {
   "cell_type": "code",
   "execution_count": 18,
   "id": "f479e6ea",
   "metadata": {},
   "outputs": [
    {
     "data": {
      "image/png": "[encoded data removed]",
      "text/plain": [
       "Plot with title \"Normal Q-Q Plot\""
      ]
     },
     "metadata": {},
     "output_type": "display_data"
    }
   ],
   "source": [
    "qqnorm(ei, pch = 1, frame = FALSE)"
   ]
  },
  {
   "cell_type": "code",
   "execution_count": 19,
   "id": "db21738e",
   "metadata": {},
   "outputs": [
    {
     "name": "stdout",
     "output_type": "stream",
     "text": [
      "[1] 0.5669307\n"
     ]
    }
   ],
   "source": [
    "Su = sqrt(sum(ei^2)/(n-2)) #odchylenie standardowe składnika resztowego (Residual standard error)\n",
    "print(Su)"
   ]
  },
  {
   "cell_type": "markdown",
   "id": "cf297493",
   "metadata": {},
   "source": [
    "Dźwignia: $h_i = \\frac{1}{n}+\\frac{(x_i-\\overline{x})^2}{\\sum_j (x_j-\\overline{x})^2}$"
   ]
  },
  {
   "cell_type": "code",
   "execution_count": 20,
   "id": "4502a36b",
   "metadata": {},
   "outputs": [],
   "source": [
    "dzwignia = 1/n + (x-mean(x))^2/sum((x-mean(x))^2)"
   ]
  },
  {
   "cell_type": "code",
   "execution_count": 21,
   "id": "9f8f6f5f",
   "metadata": {},
   "outputs": [],
   "source": [
    "Sei = Su*sqrt(1 - (dzwignia)) #blędy standardowe kolejnych reziduum"
   ]
  },
  {
   "cell_type": "code",
   "execution_count": 22,
   "id": "b5b0f328",
   "metadata": {},
   "outputs": [],
   "source": [
    "ri = ei/Sei #standaryzowane reszty"
   ]
  },
  {
   "cell_type": "code",
   "execution_count": 23,
   "id": "e96fb71f",
   "metadata": {},
   "outputs": [
    {
     "data": {
      "image/png": "[encoded data removed]",
      "text/plain": [
       "plot without title"
      ]
     },
     "metadata": {},
     "output_type": "display_data"
    }
   ],
   "source": [
    "plot(y_pred, sqrt(abs(ri))) #zaleznosc pieriwastkow ze standarzyowanych reszt od y_pred"
   ]
  },
  {
   "cell_type": "code",
   "execution_count": 24,
   "id": "80480658",
   "metadata": {},
   "outputs": [
    {
     "data": {
      "image/png": "[encoded data removed]",
      "text/plain": [
       "plot without title"
      ]
     },
     "metadata": {},
     "output_type": "display_data"
    }
   ],
   "source": [
    "plot(dzwignia, ri)"
   ]
  },
  {
   "cell_type": "code",
   "execution_count": 25,
   "id": "77e1e888",
   "metadata": {},
   "outputs": [
    {
     "data": {
      "image/png": "[encoded data removed]",
      "text/plain": [
       "Plot with title \"\""
      ]
     },
     "metadata": {},
     "output_type": "display_data"
    }
   ],
   "source": [
    "options(repr.plot.width=10, repr.plot.height=5)\n",
    "\n",
    "par(mfrow = c(2, 2));\n",
    "plot(model) #wsystkie wykresy co wyzej mozna zrealizowac za pomocą komendy"
   ]
  },
  {
   "cell_type": "markdown",
   "id": "f9154279",
   "metadata": {},
   "source": [
    "<h4> Obserwacje odstające i wpływowe"
   ]
  },
  {
   "cell_type": "markdown",
   "id": "3f0872ee",
   "metadata": {},
   "source": [
    "- obserwacje odstające - te które mają duże reszty,\n",
    "- obserwacje wpływowe - te, których usunięcie prowadzi do znacząco różnych oszacowanych parametrów\n",
    "\n",
    "Chociaż często używamy tych pojęć zamiennie, należy zwrócić uwagę że nie są one tożsame!"
   ]
  },
  {
   "cell_type": "code",
   "execution_count": 26,
   "id": "ce6b07aa",
   "metadata": {},
   "outputs": [
    {
     "data": {
      "image/png": "[encoded data removed]",
      "text/plain": [
       "plot without title"
      ]
     },
     "metadata": {},
     "output_type": "display_data"
    }
   ],
   "source": [
    "x = c(18,19,20,21,22,23,24,25,26,27,28,29,30)\n",
    "y = c(76.1,77,78.1,78.2,78.8,79.7,79.9,81.1,81.2,81.8,82.8,83.5,80)\n",
    "\n",
    "options(repr.plot.width=4, repr.plot.height=4)\n",
    "plot(x,y)"
   ]
  },
  {
   "cell_type": "code",
   "execution_count": 27,
   "id": "7975a4a6",
   "metadata": {},
   "outputs": [
    {
     "data": {
      "text/html": [
       "0.889989309257203"
      ],
      "text/latex": [
       "0.889989309257203"
      ],
      "text/markdown": [
       "0.889989309257203"
      ],
      "text/plain": [
       "[1] 0.8899893"
      ]
     },
     "metadata": {},
     "output_type": "display_data"
    }
   ],
   "source": [
    "cor(x,y)"
   ]
  },
  {
   "cell_type": "code",
   "execution_count": 28,
   "id": "a40e5306",
   "metadata": {},
   "outputs": [
    {
     "data": {
      "image/png": "[encoded data removed]",
      "text/plain": [
       "plot without title"
      ]
     },
     "metadata": {},
     "output_type": "display_data"
    }
   ],
   "source": [
    "model = lm(y~x)\n",
    "plot(x,y)\n",
    "abline(model)"
   ]
  },
  {
   "cell_type": "code",
   "execution_count": 29,
   "id": "868c9aa3",
   "metadata": {},
   "outputs": [
    {
     "data": {
      "text/plain": [
       "\n",
       "Call:\n",
       "lm(formula = y ~ x)\n",
       "\n",
       "Residuals:\n",
       "    Min      1Q  Median      3Q     Max \n",
       "-2.8846 -0.1500  0.2539  0.4269  1.1192 \n",
       "\n",
       "Coefficients:\n",
       "            Estimate Std. Error t value Pr(>|t|)    \n",
       "(Intercept) 67.76923    1.89056  35.846 9.58e-13 ***\n",
       "x            0.50385    0.07783   6.473 4.59e-05 ***\n",
       "---\n",
       "Signif. codes:  0 '***' 0.001 '**' 0.01 '*' 0.05 '.' 0.1 ' ' 1\n",
       "\n",
       "Residual standard error: 1.05 on 11 degrees of freedom\n",
       "Multiple R-squared:  0.7921,\tAdjusted R-squared:  0.7732 \n",
       "F-statistic: 41.91 on 1 and 11 DF,  p-value: 4.592e-05\n"
      ]
     },
     "metadata": {},
     "output_type": "display_data"
    }
   ],
   "source": [
    "summary(model)"
   ]
  },
  {
   "cell_type": "code",
   "execution_count": 30,
   "id": "e145e5bd",
   "metadata": {},
   "outputs": [
    {
     "data": {
      "image/png": "[encoded data removed]",
      "text/plain": [
       "Plot with title \"\""
      ]
     },
     "metadata": {},
     "output_type": "display_data"
    }
   ],
   "source": [
    "options(repr.plot.width=10, repr.plot.height=5)\n",
    "\n",
    "par(mfrow = c(2, 2));\n",
    "plot(model)"
   ]
  },
  {
   "cell_type": "code",
   "execution_count": 31,
   "id": "a19daab3",
   "metadata": {},
   "outputs": [],
   "source": [
    "n = length(x)\n",
    "y_pred = 0.50385*x+67.76923\n",
    "ei = y - y_pred \n",
    "Su = sqrt(sum(ei^2)/(n-2))\n",
    "dzwignia = 1/n + (x-mean(x))^2/sum((x-mean(x))^2)\n",
    "Sei = Su*sqrt(1 - (dzwignia))\n",
    "ri = ei/Sei"
   ]
  },
  {
   "cell_type": "code",
   "execution_count": 32,
   "id": "fa16ecee",
   "metadata": {},
   "outputs": [
    {
     "data": {
      "image/png": "[encoded data removed]",
      "text/plain": [
       "plot without title"
      ]
     },
     "metadata": {},
     "output_type": "display_data"
    }
   ],
   "source": [
    "plot(ri) #wykres standaryzowanych reszt"
   ]
  },
  {
   "cell_type": "markdown",
   "id": "65c9bb36",
   "metadata": {},
   "source": [
    "Metoda 1"
   ]
  },
  {
   "cell_type": "code",
   "execution_count": 33,
   "id": "a4f277ab",
   "metadata": {},
   "outputs": [
    {
     "data": {
      "text/html": [
       "<ol class=list-inline>\n",
       "\t<li>-0.813057262339024</li>\n",
       "\t<li>-0.352913202351776</li>\n",
       "\t<li>0.252954973631059</li>\n",
       "\t<li>-0.145957389858538</li>\n",
       "\t<li>-0.051594809618313</li>\n",
       "\t<li>0.326125082412121</li>\n",
       "\t<li>0.0362664826885261</li>\n",
       "\t<li>0.713799671639414</li>\n",
       "\t<li>0.317904102335149</li>\n",
       "\t<li>0.41826543442219</li>\n",
       "\t<li>0.958257378758099</li>\n",
       "\t<li>1.23011613138153</li>\n",
       "\t<li>-13.2427338545457</li>\n",
       "</ol>\n"
      ],
      "text/latex": [
       "\\begin{enumerate*}\n",
       "\\item -0.813057262339024\n",
       "\\item -0.352913202351776\n",
       "\\item 0.252954973631059\n",
       "\\item -0.145957389858538\n",
       "\\item -0.051594809618313\n",
       "\\item 0.326125082412121\n",
       "\\item 0.0362664826885261\n",
       "\\item 0.713799671639414\n",
       "\\item 0.317904102335149\n",
       "\\item 0.41826543442219\n",
       "\\item 0.958257378758099\n",
       "\\item 1.23011613138153\n",
       "\\item -13.2427338545457\n",
       "\\end{enumerate*}\n"
      ],
      "text/markdown": [
       "1. -0.813057262339024\n",
       "2. -0.352913202351776\n",
       "3. 0.252954973631059\n",
       "4. -0.145957389858538\n",
       "5. -0.051594809618313\n",
       "6. 0.326125082412121\n",
       "7. 0.0362664826885261\n",
       "8. 0.713799671639414\n",
       "9. 0.317904102335149\n",
       "10. 0.41826543442219\n",
       "11. 0.958257378758099\n",
       "12. 1.23011613138153\n",
       "13. -13.2427338545457\n",
       "\n",
       "\n"
      ],
      "text/plain": [
       " [1]  -0.81305726  -0.35291320   0.25295497  -0.14595739  -0.05159481\n",
       " [6]   0.32612508   0.03626648   0.71379967   0.31790410   0.41826543\n",
       "[11]   0.95825738   1.23011613 -13.24273385"
      ]
     },
     "metadata": {},
     "output_type": "display_data"
    }
   ],
   "source": [
    "#bezposrednio\n",
    "t = ri*sqrt((n-1-2)/(n-1-1-ri^2)) #studentyzowana reszta; ma rozkład t-studenta (same standaryzowane reszty nie mają \"ladnego rozkladu\")\n",
    "t"
   ]
  },
  {
   "cell_type": "code",
   "execution_count": 34,
   "id": "4c6c552f",
   "metadata": {},
   "outputs": [
    {
     "data": {
      "text/html": [
       "<dl class=dl-horizontal>\n",
       "\t<dt>1</dt>\n",
       "\t\t<dd>-0.812976914431727</dd>\n",
       "\t<dt>2</dt>\n",
       "\t\t<dd>-0.352837743798149</dd>\n",
       "\t<dt>3</dt>\n",
       "\t\t<dd>0.253031370002533</dd>\n",
       "\t<dt>4</dt>\n",
       "\t\t<dd>-0.145879422470543</dd>\n",
       "\t<dt>5</dt>\n",
       "\t\t<dd>-0.0515145729695018</dd>\n",
       "\t<dt>6</dt>\n",
       "\t\t<dd>0.326209541142884</dd>\n",
       "\t<dt>7</dt>\n",
       "\t\t<dd>0.0363530144229707</dd>\n",
       "\t<dt>8</dt>\n",
       "\t\t<dd>0.713897092782298</dd>\n",
       "\t<dt>9</dt>\n",
       "\t\t<dd>0.318000468242094</dd>\n",
       "\t<dt>10</dt>\n",
       "\t\t<dd>0.418368215176914</dd>\n",
       "\t<dt>11</dt>\n",
       "\t\t<dd>0.958378590178264</dd>\n",
       "\t<dt>12</dt>\n",
       "\t\t<dd>1.23025632041994</dd>\n",
       "\t<dt>13</dt>\n",
       "\t\t<dd>-13.2329917904419</dd>\n",
       "</dl>\n"
      ],
      "text/latex": [
       "\\begin{description*}\n",
       "\\item[1] -0.812976914431727\n",
       "\\item[2] -0.352837743798149\n",
       "\\item[3] 0.253031370002533\n",
       "\\item[4] -0.145879422470543\n",
       "\\item[5] -0.0515145729695018\n",
       "\\item[6] 0.326209541142884\n",
       "\\item[7] 0.0363530144229707\n",
       "\\item[8] 0.713897092782298\n",
       "\\item[9] 0.318000468242094\n",
       "\\item[10] 0.418368215176914\n",
       "\\item[11] 0.958378590178264\n",
       "\\item[12] 1.23025632041994\n",
       "\\item[13] -13.2329917904419\n",
       "\\end{description*}\n"
      ],
      "text/markdown": [
       "1\n",
       ":   -0.8129769144317272\n",
       ":   -0.3528377437981493\n",
       ":   0.2530313700025334\n",
       ":   -0.1458794224705435\n",
       ":   -0.05151457296950186\n",
       ":   0.3262095411428847\n",
       ":   0.03635301442297078\n",
       ":   0.7138970927822989\n",
       ":   0.31800046824209410\n",
       ":   0.41836821517691411\n",
       ":   0.95837859017826412\n",
       ":   1.2302563204199413\n",
       ":   -13.2329917904419\n",
       "\n"
      ],
      "text/plain": [
       "           1            2            3            4            5            6 \n",
       " -0.81297691  -0.35283774   0.25303137  -0.14587942  -0.05151457   0.32620954 \n",
       "           7            8            9           10           11           12 \n",
       "  0.03635301   0.71389709   0.31800047   0.41836822   0.95837859   1.23025632 \n",
       "          13 \n",
       "-13.23299179 "
      ]
     },
     "metadata": {},
     "output_type": "display_data"
    }
   ],
   "source": [
    "#zaimplementowana w R\n",
    "jack = rstudent(model) #pozwala znajdywac obserwacje odstajace\n",
    "jack"
   ]
  },
  {
   "cell_type": "code",
   "execution_count": 35,
   "id": "30015412",
   "metadata": {},
   "outputs": [
    {
     "data": {
      "text/html": [
       "<strong>13:</strong> -13.2329917904419"
      ],
      "text/latex": [
       "\\textbf{13:} -13.2329917904419"
      ],
      "text/markdown": [
       "**13:** -13.2329917904419"
      ],
      "text/plain": [
       "       13 \n",
       "-13.23299 "
      ]
     },
     "metadata": {},
     "output_type": "display_data"
    }
   ],
   "source": [
    "jack[which.max(abs(jack))] #gdzie najwieksza wartosc?"
   ]
  },
  {
   "cell_type": "code",
   "execution_count": 37,
   "id": "dc56108b",
   "metadata": {},
   "outputs": [
    {
     "data": {
      "text/plain": [
       "    rstudent unadjusted p-value Bonferroni p\n",
       "13 -13.23299         1.1586e-07   1.5062e-06"
      ]
     },
     "metadata": {},
     "output_type": "display_data"
    }
   ],
   "source": [
    "library(car)\n",
    "outlierTest(model)"
   ]
  },
  {
   "cell_type": "code",
   "execution_count": 38,
   "id": "4f3ab513",
   "metadata": {},
   "outputs": [
    {
     "data": {
      "image/png": "[encoded data removed]",
      "text/plain": [
       "Plot with title \"Jacknife Residuals\""
      ]
     },
     "metadata": {},
     "output_type": "display_data"
    }
   ],
   "source": [
    "plot(jack, ylab=\"Jacknife Residuals\", main=\"Jacknife Residuals\")"
   ]
  },
  {
   "cell_type": "markdown",
   "id": "f34eebe7",
   "metadata": {},
   "source": [
    "Metoda 2"
   ]
  },
  {
   "cell_type": "code",
   "execution_count": 39,
   "id": "227e0c45",
   "metadata": {},
   "outputs": [
    {
     "name": "stdout",
     "output_type": "stream",
     "text": [
      "[1] 0.4444444\n"
     ]
    }
   ],
   "source": [
    "cutoff = 4/(n-length(model$coefficients)-2) #graniczny poziom  4/(n-k-2)\n",
    "\n",
    "print(cutoff)"
   ]
  },
  {
   "cell_type": "code",
   "execution_count": 40,
   "id": "d72721a4",
   "metadata": {},
   "outputs": [
    {
     "data": {
      "image/png": "[encoded data removed]",
      "text/plain": [
       "Plot with title \"\""
      ]
     },
     "metadata": {},
     "output_type": "display_data"
    }
   ],
   "source": [
    "plot(model, which=4, cook.levels=cutoff) #odleglosc cooka, mierzy jak usunięcie danej obserwacji wplywa na wspolczynniki modelu (dokladniej na y_pred), jest proporcjonalna do (y_predALL - y_pred)^2, jak wysoka to obserwacja jest wplywowa"
   ]
  },
  {
   "cell_type": "code",
   "execution_count": 41,
   "id": "46abb404",
   "metadata": {},
   "outputs": [
    {
     "data": {
      "text/html": [
       "<table>\n",
       "<thead><tr><th></th><th scope=col>StudRes</th><th scope=col>Hat</th><th scope=col>CookD</th></tr></thead>\n",
       "<tbody>\n",
       "\t<tr><th scope=row>1</th><td> -0.8129769</td><td>0.2747253  </td><td>0.1291576  </td></tr>\n",
       "\t<tr><th scope=row>12</th><td>  1.2302563</td><td>0.2142857  </td><td>0.1971850  </td></tr>\n",
       "\t<tr><th scope=row>13</th><td>-13.2329918</td><td>0.2747253  </td><td>1.9707889  </td></tr>\n",
       "</tbody>\n",
       "</table>\n"
      ],
      "text/latex": [
       "\\begin{tabular}{r|lll}\n",
       "  & StudRes & Hat & CookD\\\\\n",
       "\\hline\n",
       "\t1 &  -0.8129769 & 0.2747253   & 0.1291576  \\\\\n",
       "\t12 &   1.2302563 & 0.2142857   & 0.1971850  \\\\\n",
       "\t13 & -13.2329918 & 0.2747253   & 1.9707889  \\\\\n",
       "\\end{tabular}\n"
      ],
      "text/markdown": [
       "\n",
       "| <!--/--> | StudRes | Hat | CookD |\n",
       "|---|---|---|---|\n",
       "| 1 |  -0.8129769 | 0.2747253   | 0.1291576   |\n",
       "| 12 |   1.2302563 | 0.2142857   | 0.1971850   |\n",
       "| 13 | -13.2329918 | 0.2747253   | 1.9707889   |\n",
       "\n"
      ],
      "text/plain": [
       "   StudRes     Hat       CookD    \n",
       "1   -0.8129769 0.2747253 0.1291576\n",
       "12   1.2302563 0.2142857 0.1971850\n",
       "13 -13.2329918 0.2747253 1.9707889"
      ]
     },
     "metadata": {},
     "output_type": "display_data"
    },
    {
     "data": {
      "image/png": "[encoded data removed]",
      "text/plain": [
       "Plot with title \"Influence Plot\""
      ]
     },
     "metadata": {},
     "output_type": "display_data"
    }
   ],
   "source": [
    "influencePlot(model, main=\"Influence Plot\",sub=\"Circle size is proportial to Cook's Distance\") #wymaga \"car\""
   ]
  },
  {
   "cell_type": "markdown",
   "id": "a38b8378",
   "metadata": {},
   "source": [
    "Metoda 3"
   ]
  },
  {
   "cell_type": "code",
   "execution_count": 42,
   "id": "14b6ce63",
   "metadata": {},
   "outputs": [
    {
     "data": {
      "text/plain": [
       "Influence measures of\n",
       "\t lm(formula = y ~ x) :\n",
       "\n",
       "     dfb.1_    dfb.x   dffit   cov.r   cook.d    hat inf\n",
       "1  -0.46028  0.42456 -0.5004 1.46789 1.29e-01 0.2747    \n",
       "2  -0.16277  0.14753 -0.1843 1.50236 1.84e-02 0.2143    \n",
       "3   0.09294 -0.08209  0.1124 1.43044 6.91e-03 0.1648    \n",
       "4  -0.04096  0.03471 -0.0555 1.37916 1.69e-03 0.1264    \n",
       "5  -0.01027  0.00805 -0.0171 1.34209 1.60e-04 0.0989    \n",
       "6   0.03949 -0.02524  0.0978 1.29106 5.20e-03 0.0824    \n",
       "7   0.00162  0.00000  0.0105 1.31049 6.06e-05 0.0769    \n",
       "8  -0.02274  0.05524  0.2140 1.19389 2.40e-02 0.0824    \n",
       "9  -0.03476  0.04966  0.1054 1.31605 6.04e-03 0.0989    \n",
       "10 -0.07922  0.09954  0.1591 1.33779 1.37e-02 0.1264    \n",
       "11 -0.26242  0.31094  0.4258 1.21531 9.13e-02 0.1648    \n",
       "12 -0.44896  0.51440  0.6425 1.16173 1.97e-01 0.2143    \n",
       "13  6.16437 -6.91070 -8.1443 0.00487 1.97e+00 0.2747   *"
      ]
     },
     "metadata": {},
     "output_type": "display_data"
    }
   ],
   "source": [
    "influence.measures(model) #to co wczesniej + pare innych rzeczy"
   ]
  },
  {
   "cell_type": "code",
   "execution_count": 43,
   "id": "df7a8722",
   "metadata": {},
   "outputs": [
    {
     "data": {
      "text/html": [
       "<dl>\n",
       "\t<dt>$hat</dt>\n",
       "\t\t<dd><dl class=dl-horizontal>\n",
       "\t<dt>1</dt>\n",
       "\t\t<dd>0.274725274725275</dd>\n",
       "\t<dt>2</dt>\n",
       "\t\t<dd>0.214285714285714</dd>\n",
       "\t<dt>3</dt>\n",
       "\t\t<dd>0.164835164835165</dd>\n",
       "\t<dt>4</dt>\n",
       "\t\t<dd>0.126373626373626</dd>\n",
       "\t<dt>5</dt>\n",
       "\t\t<dd>0.0989010989010989</dd>\n",
       "\t<dt>6</dt>\n",
       "\t\t<dd>0.0824175824175824</dd>\n",
       "\t<dt>7</dt>\n",
       "\t\t<dd>0.0769230769230769</dd>\n",
       "\t<dt>8</dt>\n",
       "\t\t<dd>0.0824175824175824</dd>\n",
       "\t<dt>9</dt>\n",
       "\t\t<dd>0.0989010989010989</dd>\n",
       "\t<dt>10</dt>\n",
       "\t\t<dd>0.126373626373626</dd>\n",
       "\t<dt>11</dt>\n",
       "\t\t<dd>0.164835164835165</dd>\n",
       "\t<dt>12</dt>\n",
       "\t\t<dd>0.214285714285714</dd>\n",
       "\t<dt>13</dt>\n",
       "\t\t<dd>0.274725274725275</dd>\n",
       "</dl>\n",
       "</dd>\n",
       "\t<dt>$coefficients</dt>\n",
       "\t\t<dd><table>\n",
       "<thead><tr><th scope=col>(Intercept)</th><th scope=col>x</th></tr></thead>\n",
       "<tbody>\n",
       "\t<tr><td>-0.883916084 </td><td> 3.356643e-02</td></tr>\n",
       "\t<tr><td>-0.320763852 </td><td> 1.196880e-02</td></tr>\n",
       "\t<tr><td> 0.183704453 </td><td>-6.680162e-03</td></tr>\n",
       "\t<tr><td>-0.081132075 </td><td> 2.830189e-03</td></tr>\n",
       "\t<tr><td>-0.020356473 </td><td> 6.566604e-04</td></tr>\n",
       "\t<tr><td> 0.077890373 </td><td>-2.049747e-03</td></tr>\n",
       "\t<tr><td> 0.003205128 </td><td> 1.285863e-19</td></tr>\n",
       "\t<tr><td>-0.043988945 </td><td> 4.398895e-03</td></tr>\n",
       "\t<tr><td>-0.068574109 </td><td> 4.033771e-03</td></tr>\n",
       "\t<tr><td>-0.155732946 </td><td> 8.055152e-03</td></tr>\n",
       "\t<tr><td>-0.497975709 </td><td> 2.429150e-02</td></tr>\n",
       "\t<tr><td>-0.829639591 </td><td> 3.913394e-02</td></tr>\n",
       "\t<tr><td> 2.840909091 </td><td>-1.311189e-01</td></tr>\n",
       "</tbody>\n",
       "</table>\n",
       "</dd>\n",
       "\t<dt>$sigma</dt>\n",
       "\t\t<dd><dl class=dl-horizontal>\n",
       "\t<dt>1</dt>\n",
       "\t\t<dd>1.06659218125715</dd>\n",
       "\t<dt>2</dt>\n",
       "\t\t<dd>1.09448369881488</dd>\n",
       "\t<dt>3</dt>\n",
       "\t\t<dd>1.09776687200114</dd>\n",
       "\t<dt>4</dt>\n",
       "\t\t<dd>1.10010554975856</dd>\n",
       "\t<dt>5</dt>\n",
       "\t\t<dd>1.101129387813</dd>\n",
       "\t<dt>6</dt>\n",
       "\t\t<dd>1.0954623547218</dd>\n",
       "\t<dt>7</dt>\n",
       "\t\t<dd>1.10120272243463</dd>\n",
       "\t<dt>8</dt>\n",
       "\t\t<dd>1.07424134746028</dd>\n",
       "\t<dt>9</dt>\n",
       "\t\t<dd>1.0957490776979</dd>\n",
       "\t<dt>10</dt>\n",
       "\t\t<dd>1.09176226698179</dd>\n",
       "\t<dt>11</dt>\n",
       "\t\t<dd>1.05393709528117</dd>\n",
       "\t<dt>12</dt>\n",
       "\t\t<dd>1.02634107810551</dd>\n",
       "\t<dt>13</dt>\n",
       "\t\t<dd>0.255963830486814</dd>\n",
       "</dl>\n",
       "</dd>\n",
       "\t<dt>$wt.res</dt>\n",
       "\t\t<dd><dl class=dl-horizontal>\n",
       "\t<dt>1</dt>\n",
       "\t\t<dd>-0.738461538461555</dd>\n",
       "\t<dt>2</dt>\n",
       "\t\t<dd>-0.342307692307687</dd>\n",
       "\t<dt>3</dt>\n",
       "\t\t<dd>0.253846153846154</dd>\n",
       "\t<dt>4</dt>\n",
       "\t\t<dd>-0.149999999999992</dd>\n",
       "\t<dt>5</dt>\n",
       "\t\t<dd>-0.0538461538461524</dd>\n",
       "\t<dt>6</dt>\n",
       "\t\t<dd>0.342307692307699</dd>\n",
       "\t<dt>7</dt>\n",
       "\t\t<dd>0.0384615384615466</dd>\n",
       "\t<dt>8</dt>\n",
       "\t\t<dd>0.734615384615381</dd>\n",
       "\t<dt>9</dt>\n",
       "\t\t<dd>0.330769230769234</dd>\n",
       "\t<dt>10</dt>\n",
       "\t\t<dd>0.426923076923074</dd>\n",
       "\t<dt>11</dt>\n",
       "\t\t<dd>0.923076923076919</dd>\n",
       "\t<dt>12</dt>\n",
       "\t\t<dd>1.11923076923077</dd>\n",
       "\t<dt>13</dt>\n",
       "\t\t<dd>-2.88461538461539</dd>\n",
       "</dl>\n",
       "</dd>\n",
       "</dl>\n"
      ],
      "text/latex": [
       "\\begin{description}\n",
       "\\item[\\$hat] \\begin{description*}\n",
       "\\item[1] 0.274725274725275\n",
       "\\item[2] 0.214285714285714\n",
       "\\item[3] 0.164835164835165\n",
       "\\item[4] 0.126373626373626\n",
       "\\item[5] 0.0989010989010989\n",
       "\\item[6] 0.0824175824175824\n",
       "\\item[7] 0.0769230769230769\n",
       "\\item[8] 0.0824175824175824\n",
       "\\item[9] 0.0989010989010989\n",
       "\\item[10] 0.126373626373626\n",
       "\\item[11] 0.164835164835165\n",
       "\\item[12] 0.214285714285714\n",
       "\\item[13] 0.274725274725275\n",
       "\\end{description*}\n",
       "\n",
       "\\item[\\$coefficients] \\begin{tabular}{r|ll}\n",
       " (Intercept) & x\\\\\n",
       "\\hline\n",
       "\t -0.883916084  &  3.356643e-02\\\\\n",
       "\t -0.320763852  &  1.196880e-02\\\\\n",
       "\t  0.183704453  & -6.680162e-03\\\\\n",
       "\t -0.081132075  &  2.830189e-03\\\\\n",
       "\t -0.020356473  &  6.566604e-04\\\\\n",
       "\t  0.077890373  & -2.049747e-03\\\\\n",
       "\t  0.003205128  &  1.285863e-19\\\\\n",
       "\t -0.043988945  &  4.398895e-03\\\\\n",
       "\t -0.068574109  &  4.033771e-03\\\\\n",
       "\t -0.155732946  &  8.055152e-03\\\\\n",
       "\t -0.497975709  &  2.429150e-02\\\\\n",
       "\t -0.829639591  &  3.913394e-02\\\\\n",
       "\t  2.840909091  & -1.311189e-01\\\\\n",
       "\\end{tabular}\n",
       "\n",
       "\\item[\\$sigma] \\begin{description*}\n",
       "\\item[1] 1.06659218125715\n",
       "\\item[2] 1.09448369881488\n",
       "\\item[3] 1.09776687200114\n",
       "\\item[4] 1.10010554975856\n",
       "\\item[5] 1.101129387813\n",
       "\\item[6] 1.0954623547218\n",
       "\\item[7] 1.10120272243463\n",
       "\\item[8] 1.07424134746028\n",
       "\\item[9] 1.0957490776979\n",
       "\\item[10] 1.09176226698179\n",
       "\\item[11] 1.05393709528117\n",
       "\\item[12] 1.02634107810551\n",
       "\\item[13] 0.255963830486814\n",
       "\\end{description*}\n",
       "\n",
       "\\item[\\$wt.res] \\begin{description*}\n",
       "\\item[1] -0.738461538461555\n",
       "\\item[2] -0.342307692307687\n",
       "\\item[3] 0.253846153846154\n",
       "\\item[4] -0.149999999999992\n",
       "\\item[5] -0.0538461538461524\n",
       "\\item[6] 0.342307692307699\n",
       "\\item[7] 0.0384615384615466\n",
       "\\item[8] 0.734615384615381\n",
       "\\item[9] 0.330769230769234\n",
       "\\item[10] 0.426923076923074\n",
       "\\item[11] 0.923076923076919\n",
       "\\item[12] 1.11923076923077\n",
       "\\item[13] -2.88461538461539\n",
       "\\end{description*}\n",
       "\n",
       "\\end{description}\n"
      ],
      "text/markdown": [
       "$hat\n",
       ":   1\n",
       ":   0.2747252747252752\n",
       ":   0.2142857142857143\n",
       ":   0.1648351648351654\n",
       ":   0.1263736263736265\n",
       ":   0.09890109890109896\n",
       ":   0.08241758241758247\n",
       ":   0.07692307692307698\n",
       ":   0.08241758241758249\n",
       ":   0.098901098901098910\n",
       ":   0.12637362637362611\n",
       ":   0.16483516483516512\n",
       ":   0.21428571428571413\n",
       ":   0.274725274725275\n",
       "\n",
       "\n",
       "$coefficients\n",
       ":   \n",
       "| (Intercept) | x |\n",
       "|---|---|\n",
       "| -0.883916084  |  3.356643e-02 |\n",
       "| -0.320763852  |  1.196880e-02 |\n",
       "|  0.183704453  | -6.680162e-03 |\n",
       "| -0.081132075  |  2.830189e-03 |\n",
       "| -0.020356473  |  6.566604e-04 |\n",
       "|  0.077890373  | -2.049747e-03 |\n",
       "|  0.003205128  |  1.285863e-19 |\n",
       "| -0.043988945  |  4.398895e-03 |\n",
       "| -0.068574109  |  4.033771e-03 |\n",
       "| -0.155732946  |  8.055152e-03 |\n",
       "| -0.497975709  |  2.429150e-02 |\n",
       "| -0.829639591  |  3.913394e-02 |\n",
       "|  2.840909091  | -1.311189e-01 |\n",
       "\n",
       "\n",
       "$sigma\n",
       ":   1\n",
       ":   1.066592181257152\n",
       ":   1.094483698814883\n",
       ":   1.097766872001144\n",
       ":   1.100105549758565\n",
       ":   1.1011293878136\n",
       ":   1.09546235472187\n",
       ":   1.101202722434638\n",
       ":   1.074241347460289\n",
       ":   1.095749077697910\n",
       ":   1.0917622669817911\n",
       ":   1.0539370952811712\n",
       ":   1.0263410781055113\n",
       ":   0.255963830486814\n",
       "\n",
       "\n",
       "$wt.res\n",
       ":   1\n",
       ":   -0.7384615384615552\n",
       ":   -0.3423076923076873\n",
       ":   0.2538461538461544\n",
       ":   -0.1499999999999925\n",
       ":   -0.05384615384615246\n",
       ":   0.3423076923076997\n",
       ":   0.03846153846154668\n",
       ":   0.7346153846153819\n",
       ":   0.33076923076923410\n",
       ":   0.42692307692307411\n",
       ":   0.92307692307691912\n",
       ":   1.1192307692307713\n",
       ":   -2.88461538461539\n",
       "\n",
       "\n",
       "\n",
       "\n"
      ],
      "text/plain": [
       "$hat\n",
       "         1          2          3          4          5          6          7 \n",
       "0.27472527 0.21428571 0.16483516 0.12637363 0.09890110 0.08241758 0.07692308 \n",
       "         8          9         10         11         12         13 \n",
       "0.08241758 0.09890110 0.12637363 0.16483516 0.21428571 0.27472527 \n",
       "\n",
       "$coefficients\n",
       "    (Intercept)             x\n",
       "1  -0.883916084  3.356643e-02\n",
       "2  -0.320763852  1.196880e-02\n",
       "3   0.183704453 -6.680162e-03\n",
       "4  -0.081132075  2.830189e-03\n",
       "5  -0.020356473  6.566604e-04\n",
       "6   0.077890373 -2.049747e-03\n",
       "7   0.003205128  1.285863e-19\n",
       "8  -0.043988945  4.398895e-03\n",
       "9  -0.068574109  4.033771e-03\n",
       "10 -0.155732946  8.055152e-03\n",
       "11 -0.497975709  2.429150e-02\n",
       "12 -0.829639591  3.913394e-02\n",
       "13  2.840909091 -1.311189e-01\n",
       "\n",
       "$sigma\n",
       "        1         2         3         4         5         6         7         8 \n",
       "1.0665922 1.0944837 1.0977669 1.1001055 1.1011294 1.0954624 1.1012027 1.0742413 \n",
       "        9        10        11        12        13 \n",
       "1.0957491 1.0917623 1.0539371 1.0263411 0.2559638 \n",
       "\n",
       "$wt.res\n",
       "          1           2           3           4           5           6 \n",
       "-0.73846154 -0.34230769  0.25384615 -0.15000000 -0.05384615  0.34230769 \n",
       "          7           8           9          10          11          12 \n",
       " 0.03846154  0.73461538  0.33076923  0.42692308  0.92307692  1.11923077 \n",
       "         13 \n",
       "-2.88461538 \n"
      ]
     },
     "metadata": {},
     "output_type": "display_data"
    }
   ],
   "source": [
    "lm.influence(lm(model)) #mozna poczytac wiecej tutaj: https://docs.tibco.com/pub/enterprise-runtime-for-R/4.3.0/doc/html/Language_Reference/stats/lm.influence.html"
   ]
  },
  {
   "cell_type": "markdown",
   "id": "543c98c0",
   "metadata": {},
   "source": [
    "<h4> Robust LM"
   ]
  },
  {
   "cell_type": "code",
   "execution_count": 44,
   "id": "8e416806",
   "metadata": {},
   "outputs": [
    {
     "data": {
      "text/plain": [
       "\n",
       "Call: rlm(formula = y ~ x)\n",
       "Residuals:\n",
       "     Min       1Q   Median       3Q      Max \n",
       "-3.81423 -0.16761 -0.07439  0.21685  0.44115 \n",
       "\n",
       "Coefficients:\n",
       "            Value    Std. Error t value \n",
       "(Intercept)  65.3481   0.6286   103.9525\n",
       "x             0.6155   0.0259    23.7839\n",
       "\n",
       "Residual standard error: 0.3214 on 11 degrees of freedom"
      ]
     },
     "metadata": {},
     "output_type": "display_data"
    }
   ],
   "source": [
    "library(MASS)\n",
    "summary(rr.huber <- rlm(y ~ x )) #porownac wsp ze standardową regresją "
   ]
  },
  {
   "cell_type": "markdown",
   "id": "87ece6d2",
   "metadata": {},
   "source": [
    "<h4> Zadanie2: Zbuduj model regresji liniowej. Poszukujemy zależności wartości odżywczych płatków (rating) od zawartości cukrów (sugars). Dodatkowo:\n",
    "\n",
    "- oblicz i zinterpretuj współczynnik korelacji,\n",
    "- zbuduj model liniowy, skomentuj otrzymane parametry oraz dokonaj wstępęj diagnostyki modelu,\n",
    "- jaka będzie przewidywana wartość płatków z zerową wartością odżywczą?\n",
    "- o ile wzrośnie lub zmaleje wartość odżywcza płatków jeżeli zawartość cukrów wzrośnie o 1 gram?\n",
    "- wyznacz obserwacje nietypowe"
   ]
  },
  {
   "cell_type": "code",
   "execution_count": 2,
   "id": "4bd5d74c",
   "metadata": {},
   "outputs": [
    {
     "data": {
      "text/html": [
       "<table>\n",
       "<thead><tr><th scope=col>name</th><th scope=col>manuf</th><th scope=col>type</th><th scope=col>calories</th><th scope=col>protein</th><th scope=col>fat</th><th scope=col>sodium</th><th scope=col>fiber</th><th scope=col>carbo</th><th scope=col>sugars</th><th scope=col>potass</th><th scope=col>vitamins</th><th scope=col>shelf</th><th scope=col>weight</th><th scope=col>cups</th><th scope=col>rating</th></tr></thead>\n",
       "<tbody>\n",
       "\t<tr><td>100% Bran                </td><td>N                        </td><td>cold                     </td><td> 70                      </td><td>4                        </td><td>1                        </td><td>130                      </td><td>10.0                     </td><td> 5.0                     </td><td> 6                       </td><td>280                      </td><td>25                       </td><td>3                        </td><td>1                        </td><td>0.33                     </td><td>68.40297                 </td></tr>\n",
       "\t<tr><td>100% Natural Bran        </td><td>Q                        </td><td>cold                     </td><td>120                      </td><td>3                        </td><td>5                        </td><td> 15                      </td><td> 2.0                     </td><td> 8.0                     </td><td> 8                       </td><td>135                      </td><td> 0                       </td><td>3                        </td><td>1                        </td><td>1.00                     </td><td>33.98368                 </td></tr>\n",
       "\t<tr><td>All-Bran                 </td><td>K                        </td><td>cold                     </td><td> 70                      </td><td>4                        </td><td>1                        </td><td>260                      </td><td> 9.0                     </td><td> 7.0                     </td><td> 5                       </td><td>320                      </td><td>25                       </td><td>3                        </td><td>1                        </td><td>0.33                     </td><td>59.42551                 </td></tr>\n",
       "\t<tr><td>All-Bran with Extra Fiber</td><td>K                        </td><td>cold                     </td><td> 50                      </td><td>4                        </td><td>0                        </td><td>140                      </td><td>14.0                     </td><td> 8.0                     </td><td> 0                       </td><td>330                      </td><td>25                       </td><td>3                        </td><td>1                        </td><td>0.50                     </td><td>93.70491                 </td></tr>\n",
       "\t<tr><td>Almond Delight           </td><td>R                        </td><td>cold                     </td><td>110                      </td><td>2                        </td><td>2                        </td><td>200                      </td><td> 1.0                     </td><td>14.0                     </td><td> 8                       </td><td> -1                      </td><td>25                       </td><td>3                        </td><td>1                        </td><td>0.75                     </td><td>34.38484                 </td></tr>\n",
       "\t<tr><td>Apple Cinnamon Cheerios  </td><td>G                        </td><td>cold                     </td><td>110                      </td><td>2                        </td><td>2                        </td><td>180                      </td><td> 1.5                     </td><td>10.5                     </td><td>10                       </td><td> 70                      </td><td>25                       </td><td>1                        </td><td>1                        </td><td>0.75                     </td><td>29.50954                 </td></tr>\n",
       "</tbody>\n",
       "</table>\n"
      ],
      "text/latex": [
       "\\begin{tabular}{r|llllllllllllllll}\n",
       " name & manuf & type & calories & protein & fat & sodium & fiber & carbo & sugars & potass & vitamins & shelf & weight & cups & rating\\\\\n",
       "\\hline\n",
       "\t 100\\% Bran                 & N                           & cold                        &  70                         & 4                           & 1                           & 130                         & 10.0                        &  5.0                        &  6                          & 280                         & 25                          & 3                           & 1                           & 0.33                        & 68.40297                   \\\\\n",
       "\t 100\\% Natural Bran         & Q                           & cold                        & 120                         & 3                           & 5                           &  15                         &  2.0                        &  8.0                        &  8                          & 135                         &  0                          & 3                           & 1                           & 1.00                        & 33.98368                   \\\\\n",
       "\t All-Bran                  & K                         & cold                      &  70                       & 4                         & 1                         & 260                       &  9.0                      &  7.0                      &  5                        & 320                       & 25                        & 3                         & 1                         & 0.33                      & 59.42551                 \\\\\n",
       "\t All-Bran with Extra Fiber & K                         & cold                      &  50                       & 4                         & 0                         & 140                       & 14.0                      &  8.0                      &  0                        & 330                       & 25                        & 3                         & 1                         & 0.50                      & 93.70491                 \\\\\n",
       "\t Almond Delight            & R                         & cold                      & 110                       & 2                         & 2                         & 200                       &  1.0                      & 14.0                      &  8                        &  -1                       & 25                        & 3                         & 1                         & 0.75                      & 34.38484                 \\\\\n",
       "\t Apple Cinnamon Cheerios   & G                         & cold                      & 110                       & 2                         & 2                         & 180                       &  1.5                      & 10.5                      & 10                        &  70                       & 25                        & 1                         & 1                         & 0.75                      & 29.50954                 \\\\\n",
       "\\end{tabular}\n"
      ],
      "text/markdown": [
       "\n",
       "| name | manuf | type | calories | protein | fat | sodium | fiber | carbo | sugars | potass | vitamins | shelf | weight | cups | rating |\n",
       "|---|---|---|---|---|---|---|---|---|---|---|---|---|---|---|---|\n",
       "| 100% Bran                 | N                         | cold                      |  70                       | 4                         | 1                         | 130                       | 10.0                      |  5.0                      |  6                        | 280                       | 25                        | 3                         | 1                         | 0.33                      | 68.40297                  |\n",
       "| 100% Natural Bran         | Q                         | cold                      | 120                       | 3                         | 5                         |  15                       |  2.0                      |  8.0                      |  8                        | 135                       |  0                        | 3                         | 1                         | 1.00                      | 33.98368                  |\n",
       "| All-Bran                  | K                         | cold                      |  70                       | 4                         | 1                         | 260                       |  9.0                      |  7.0                      |  5                        | 320                       | 25                        | 3                         | 1                         | 0.33                      | 59.42551                  |\n",
       "| All-Bran with Extra Fiber | K                         | cold                      |  50                       | 4                         | 0                         | 140                       | 14.0                      |  8.0                      |  0                        | 330                       | 25                        | 3                         | 1                         | 0.50                      | 93.70491                  |\n",
       "| Almond Delight            | R                         | cold                      | 110                       | 2                         | 2                         | 200                       |  1.0                      | 14.0                      |  8                        |  -1                       | 25                        | 3                         | 1                         | 0.75                      | 34.38484                  |\n",
       "| Apple Cinnamon Cheerios   | G                         | cold                      | 110                       | 2                         | 2                         | 180                       |  1.5                      | 10.5                      | 10                        |  70                       | 25                        | 1                         | 1                         | 0.75                      | 29.50954                  |\n",
       "\n"
      ],
      "text/plain": [
       "  name                      manuf type calories protein fat sodium fiber carbo\n",
       "1 100% Bran                 N     cold  70      4       1   130    10.0   5.0 \n",
       "2 100% Natural Bran         Q     cold 120      3       5    15     2.0   8.0 \n",
       "3 All-Bran                  K     cold  70      4       1   260     9.0   7.0 \n",
       "4 All-Bran with Extra Fiber K     cold  50      4       0   140    14.0   8.0 \n",
       "5 Almond Delight            R     cold 110      2       2   200     1.0  14.0 \n",
       "6 Apple Cinnamon Cheerios   G     cold 110      2       2   180     1.5  10.5 \n",
       "  sugars potass vitamins shelf weight cups rating  \n",
       "1  6     280    25       3     1      0.33 68.40297\n",
       "2  8     135     0       3     1      1.00 33.98368\n",
       "3  5     320    25       3     1      0.33 59.42551\n",
       "4  0     330    25       3     1      0.50 93.70491\n",
       "5  8      -1    25       3     1      0.75 34.38484\n",
       "6 10      70    25       1     1      0.75 29.50954"
      ]
     },
     "metadata": {},
     "output_type": "display_data"
    }
   ],
   "source": [
    "library(liver)\n",
    "data(cereal)\n",
    "head(cereal)"
   ]
  },
  {
   "cell_type": "markdown",
   "id": "882402b1",
   "metadata": {},
   "source": [
    "<h4> Nieliniowe zależności"
   ]
  },
  {
   "cell_type": "markdown",
   "id": "7c8efe2f",
   "metadata": {},
   "source": [
    "<h4> Zadanie3: Na poprzednich zajęciach rozmawialiśmy o transformacjach danych (m.in. logarytm czy pierwiastek). Zapoznaj się z szerszą klasą takich przekształceń (https://core.ac.uk/download/pdf/239584602.pdf); w szczególności strony 1-4. Jakie cechy mają te transformacje? Sporządź zwięzłą notatkę na ten temat."
   ]
  },
  {
   "cell_type": "code",
   "execution_count": 83,
   "id": "066f04dd",
   "metadata": {},
   "outputs": [
    {
     "data": {
      "text/plain": [
       "\n",
       "Call:\n",
       "lm(formula = y ~ x)\n",
       "\n",
       "Residuals:\n",
       "   Min     1Q Median     3Q    Max \n",
       "-36682 -29267  -8247  23608  84749 \n",
       "\n",
       "Coefficients:\n",
       "            Estimate Std. Error t value Pr(>|t|)    \n",
       "(Intercept) -83749.9    12787.4  -6.549 1.01e-07 ***\n",
       "x            11346.2      913.7  12.418 6.00e-15 ***\n",
       "---\n",
       "Signif. codes:  0 '***' 0.001 '**' 0.01 '*' 0.05 '.' 0.1 ' ' 1\n",
       "\n",
       "Residual standard error: 33350 on 38 degrees of freedom\n",
       "Multiple R-squared:  0.8023,\tAdjusted R-squared:  0.7971 \n",
       "F-statistic: 154.2 on 1 and 38 DF,  p-value: 6.004e-15\n"
      ]
     },
     "metadata": {},
     "output_type": "display_data"
    },
    {
     "data": {
      "image/png": "[encoded data removed]",
      "text/plain": [
       "Plot with title \"\""
      ]
     },
     "metadata": {},
     "output_type": "display_data"
    },
    {
     "data": {
      "image/png": "[encoded data removed]",
      "text/plain": [
       "Plot with title \"\""
      ]
     },
     "metadata": {},
     "output_type": "display_data"
    },
    {
     "data": {
      "image/png": "[encoded data removed]",
      "text/plain": [
       "Plot with title \"\""
      ]
     },
     "metadata": {},
     "output_type": "display_data"
    },
    {
     "data": {
      "image/png": "[encoded data removed]",
      "text/plain": [
       "Plot with title \"\""
      ]
     },
     "metadata": {},
     "output_type": "display_data"
    },
    {
     "data": {
      "text/html": [
       "0.262626262626263"
      ],
      "text/latex": [
       "0.262626262626263"
      ],
      "text/markdown": [
       "0.262626262626263"
      ],
      "text/plain": [
       "[1] 0.2626263"
      ]
     },
     "metadata": {},
     "output_type": "display_data"
    },
    {
     "data": {
      "text/plain": [
       "\n",
       "Call:\n",
       "lm(formula = ((y^lambda - 1)/lambda) ~ x)\n",
       "\n",
       "Residuals:\n",
       "     Min       1Q   Median       3Q      Max \n",
       "-0.32883 -0.26789 -0.08546  0.21448  0.73256 \n",
       "\n",
       "Coefficients:\n",
       "             Estimate Std. Error t value Pr(>|t|)    \n",
       "(Intercept) -6.072444   0.118179  -51.38   <2e-16 ***\n",
       "x            4.532953   0.008444  536.82   <2e-16 ***\n",
       "---\n",
       "Signif. codes:  0 '***' 0.001 '**' 0.01 '*' 0.05 '.' 0.1 ' ' 1\n",
       "\n",
       "Residual standard error: 0.3082 on 38 degrees of freedom\n",
       "Multiple R-squared:  0.9999,\tAdjusted R-squared:  0.9999 \n",
       "F-statistic: 2.882e+05 on 1 and 38 DF,  p-value: < 2.2e-16\n"
      ]
     },
     "metadata": {},
     "output_type": "display_data"
    },
    {
     "data": {
      "image/png": "[encoded data removed]",
      "text/plain": [
       "plot without title"
      ]
     },
     "metadata": {},
     "output_type": "display_data"
    }
   ],
   "source": [
    "library(MASS)\n",
    "\n",
    "x = seq(3, 22.5, by = 0.5)\n",
    "y = x^4 + rnorm(40) \n",
    "\n",
    "model <- lm(y~x) #buduje model liniowy\n",
    "summary(model)\n",
    "plot(model)\n",
    "\n",
    "#szukam odpowiedniej transformacji (potęgi)\n",
    "bc <- boxcox(y ~ x)\n",
    "(lambda <- bc$x[which.max(bc$y)])\n",
    "\n",
    "new_model <- lm(((y^lambda-1)/lambda) ~ x)\n",
    "summary(new_model)"
   ]
  },
  {
   "cell_type": "markdown",
   "id": "e9aa7ce5",
   "metadata": {},
   "source": [
    "<h4> Zamiast dokonywać transformacji można też tak:"
   ]
  },
  {
   "cell_type": "code",
   "execution_count": 86,
   "id": "7a788265",
   "metadata": {},
   "outputs": [
    {
     "data": {
      "image/png": "[encoded data removed]",
      "text/plain": [
       "plot without title"
      ]
     },
     "metadata": {},
     "output_type": "display_data"
    }
   ],
   "source": [
    "x = seq(-3, 3, by=0.2)\n",
    "y = -3*x^2 + 4+ rnorm(length(x))\n",
    "\n",
    "options(repr.plot.width=4, repr.plot.height=3)\n",
    "plot(x,y)"
   ]
  },
  {
   "cell_type": "code",
   "execution_count": 30,
   "id": "0d3c565b",
   "metadata": {},
   "outputs": [
    {
     "data": {
      "image/png": "[encoded data removed]",
      "text/plain": [
       "Plot with title \"\""
      ]
     },
     "metadata": {},
     "output_type": "display_data"
    }
   ],
   "source": [
    "options(repr.plot.width=10, repr.plot.height=5)\n",
    "par(mfrow = c(2, 2));\n",
    "plot(lm(y~x))"
   ]
  },
  {
   "cell_type": "code",
   "execution_count": 31,
   "id": "b4a3c8a0",
   "metadata": {},
   "outputs": [
    {
     "data": {
      "text/plain": [
       "\n",
       "Call:\n",
       "lm(formula = y ~ I(x^2))\n",
       "\n",
       "Residuals:\n",
       "    Min      1Q  Median      3Q     Max \n",
       "-2.8756 -0.8381  0.2377  0.8102  2.3787 \n",
       "\n",
       "Coefficients:\n",
       "            Estimate Std. Error t value Pr(>|t|)    \n",
       "(Intercept)  3.90384    0.32704   11.94 1.03e-12 ***\n",
       "I(x^2)      -3.02052    0.07623  -39.62  < 2e-16 ***\n",
       "---\n",
       "Signif. codes:  0 '***' 0.001 '**' 0.01 '*' 0.05 '.' 0.1 ' ' 1\n",
       "\n",
       "Residual standard error: 1.213 on 29 degrees of freedom\n",
       "Multiple R-squared:  0.9819,\tAdjusted R-squared:  0.9812 \n",
       "F-statistic:  1570 on 1 and 29 DF,  p-value: < 2.2e-16\n"
      ]
     },
     "metadata": {},
     "output_type": "display_data"
    }
   ],
   "source": [
    "summary(lm(y~I(x^2)))"
   ]
  },
  {
   "cell_type": "code",
   "execution_count": 32,
   "id": "e9c6c91b",
   "metadata": {},
   "outputs": [
    {
     "data": {
      "image/png": "[encoded data removed]",
      "text/plain": [
       "Plot with title \"\""
      ]
     },
     "metadata": {},
     "output_type": "display_data"
    }
   ],
   "source": [
    "options(repr.plot.width=10, repr.plot.height=5)\n",
    "\n",
    "par(mfrow = c(2, 2));\n",
    "plot(lm(y~I(x^2)))"
   ]
  }
 ],
 "metadata": {
  "kernelspec": {
   "display_name": "R",
   "language": "R",
   "name": "ir"
  },
  "language_info": {
   "codemirror_mode": "r",
   "file_extension": ".r",
   "mimetype": "text/x-r-source",
   "name": "R",
   "pygments_lexer": "r",
   "version": "3.6.1"
  }
 },
 "nbformat": 4,
 "nbformat_minor": 5
}
