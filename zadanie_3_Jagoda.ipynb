{
 "cells": [
  {
   "cell_type": "code",
   "execution_count": null,
   "id": "f1ac2945-eca0-4333-9ea2-f7139040edac",
   "metadata": {},
   "outputs": [],
   "source": [
    "#zadanie 3 \n",
    "import pandas as pd\n",
    "import matplotlib.pyplot as plt\n",
    "from sklearn.model_selection import train_test_split\n",
    "\n",
    "df = pd.read_csv(\"diabetes.csv\", sep =\",\")\n",
    "\n",
    "#Is the dataset balanced?\n",
    "class_counts = df['Diabetes_binary'].value_counts()\n",
    "print(class_counts) #nie jest zbilansowany, duża różnica między ilością\n",
    "\n",
    "#Split the data into training and test sets (8:2).\n",
    "X = df.drop(columns=['Diabetes_binary'])\n",
    "y = df['Diabetes_binary']\n",
    "X_train, X_test, y_train, y_test = train_test_split(X, y, test_size=0.2, random_state=42, stratify=y)\n",
    "\n",
    "#Tune the hyperparameters using GridSearch and Cross-validation.\n",
    "pipe_svc = Pipeline([\n",
    "    ('scl', StandardScaler()),\n",
    "    ('clf', SVC(random_state=1, class_weight='balanced'))])\n",
    "param_range = [0.01, 0.1, 1.0] \n",
    "\n",
    "param_grid = [{'clf__C':param_range, 'clf__kernel':['linear']},\n",
    "              {'clf__C':param_range, 'clf__kernel':['rbf'], 'clf__gamma':param_range}]\n",
    "\n",
    "gs = GridSearchCV(estimator=pipe_svc, param_grid=param_grid, scoring='accuracy', cv=5, n_jobs=-1)\n",
    "gs.fit(X_train, y_train)\n",
    "print(gs.best_score_, gs.best_params_, gs.score(X_test, y_test))\n",
    "\n",
    "#Print the confusion matrix and classification report for the test set.\n",
    "y_pred = gs.predict(X_test)\n",
    "cm = confusion_matrix(y_test, y_pred)\n",
    "print(\"Macierz pomyłek:\")\n",
    "print(cm)\n",
    "\n",
    "print(\"\\nRaport klasyfikacji:\")\n",
    "print(classification_report(y_test, y_pred, digits=3))\n"
   ]
  }
 ],
 "metadata": {
  "kernelspec": {
   "display_name": "Python [conda env:base] *",
   "language": "python",
   "name": "conda-base-py"
  },
  "language_info": {
   "codemirror_mode": {
    "name": "ipython",
    "version": 3
   },
   "file_extension": ".py",
   "mimetype": "text/x-python",
   "name": "python",
   "nbconvert_exporter": "python",
   "pygments_lexer": "ipython3",
   "version": "3.12.7"
  }
 },
 "nbformat": 4,
 "nbformat_minor": 5
}
