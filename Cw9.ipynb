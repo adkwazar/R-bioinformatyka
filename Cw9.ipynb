{
 "cells": [
  {
   "cell_type": "markdown",
   "id": "cf5a5c69",
   "metadata": {},
   "source": [
    "<h4> Regresja wielu zmiennych"
   ]
  },
  {
   "cell_type": "code",
   "execution_count": 48,
   "id": "f60d7fbb",
   "metadata": {},
   "outputs": [],
   "source": [
    "#dane dotyczą samochodow\n",
    "autompg = read.table(\"http://archive.ics.uci.edu/ml/machine-learning-databases/auto-mpg/auto-mpg.data\",\n",
    "                     quote = \"\\\"\",\n",
    "                     comment.char = \"\",\n",
    "                     stringsAsFactors = FALSE)"
   ]
  },
  {
   "cell_type": "code",
   "execution_count": 49,
   "id": "e0d96a4d",
   "metadata": {},
   "outputs": [
    {
     "data": {
      "text/html": [
       "<table>\n",
       "<thead><tr><th scope=col>V1</th><th scope=col>V2</th><th scope=col>V3</th><th scope=col>V4</th><th scope=col>V5</th><th scope=col>V6</th><th scope=col>V7</th><th scope=col>V8</th><th scope=col>V9</th></tr></thead>\n",
       "<tbody>\n",
       "\t<tr><td>18                       </td><td>8                        </td><td>307                      </td><td>130.0                    </td><td>3504                     </td><td>12.0                     </td><td>70                       </td><td>1                        </td><td>chevrolet chevelle malibu</td></tr>\n",
       "\t<tr><td>15                       </td><td>8                        </td><td>350                      </td><td>165.0                    </td><td>3693                     </td><td>11.5                     </td><td>70                       </td><td>1                        </td><td>buick skylark 320        </td></tr>\n",
       "\t<tr><td>18                       </td><td>8                        </td><td>318                      </td><td>150.0                    </td><td>3436                     </td><td>11.0                     </td><td>70                       </td><td>1                        </td><td>plymouth satellite       </td></tr>\n",
       "\t<tr><td>16                       </td><td>8                        </td><td>304                      </td><td>150.0                    </td><td>3433                     </td><td>12.0                     </td><td>70                       </td><td>1                        </td><td>amc rebel sst            </td></tr>\n",
       "\t<tr><td>17                       </td><td>8                        </td><td>302                      </td><td>140.0                    </td><td>3449                     </td><td>10.5                     </td><td>70                       </td><td>1                        </td><td>ford torino              </td></tr>\n",
       "\t<tr><td>15                       </td><td>8                        </td><td>429                      </td><td>198.0                    </td><td>4341                     </td><td>10.0                     </td><td>70                       </td><td>1                        </td><td>ford galaxie 500         </td></tr>\n",
       "</tbody>\n",
       "</table>\n"
      ],
      "text/latex": [
       "\\begin{tabular}{r|lllllllll}\n",
       " V1 & V2 & V3 & V4 & V5 & V6 & V7 & V8 & V9\\\\\n",
       "\\hline\n",
       "\t 18                        & 8                         & 307                       & 130.0                     & 3504                      & 12.0                      & 70                        & 1                         & chevrolet chevelle malibu\\\\\n",
       "\t 15                        & 8                         & 350                       & 165.0                     & 3693                      & 11.5                      & 70                        & 1                         & buick skylark 320        \\\\\n",
       "\t 18                        & 8                         & 318                       & 150.0                     & 3436                      & 11.0                      & 70                        & 1                         & plymouth satellite       \\\\\n",
       "\t 16                        & 8                         & 304                       & 150.0                     & 3433                      & 12.0                      & 70                        & 1                         & amc rebel sst            \\\\\n",
       "\t 17                        & 8                         & 302                       & 140.0                     & 3449                      & 10.5                      & 70                        & 1                         & ford torino              \\\\\n",
       "\t 15                        & 8                         & 429                       & 198.0                     & 4341                      & 10.0                      & 70                        & 1                         & ford galaxie 500         \\\\\n",
       "\\end{tabular}\n"
      ],
      "text/markdown": [
       "\n",
       "| V1 | V2 | V3 | V4 | V5 | V6 | V7 | V8 | V9 |\n",
       "|---|---|---|---|---|---|---|---|---|\n",
       "| 18                        | 8                         | 307                       | 130.0                     | 3504                      | 12.0                      | 70                        | 1                         | chevrolet chevelle malibu |\n",
       "| 15                        | 8                         | 350                       | 165.0                     | 3693                      | 11.5                      | 70                        | 1                         | buick skylark 320         |\n",
       "| 18                        | 8                         | 318                       | 150.0                     | 3436                      | 11.0                      | 70                        | 1                         | plymouth satellite        |\n",
       "| 16                        | 8                         | 304                       | 150.0                     | 3433                      | 12.0                      | 70                        | 1                         | amc rebel sst             |\n",
       "| 17                        | 8                         | 302                       | 140.0                     | 3449                      | 10.5                      | 70                        | 1                         | ford torino               |\n",
       "| 15                        | 8                         | 429                       | 198.0                     | 4341                      | 10.0                      | 70                        | 1                         | ford galaxie 500          |\n",
       "\n"
      ],
      "text/plain": [
       "  V1 V2 V3  V4    V5   V6   V7 V8 V9                       \n",
       "1 18 8  307 130.0 3504 12.0 70 1  chevrolet chevelle malibu\n",
       "2 15 8  350 165.0 3693 11.5 70 1  buick skylark 320        \n",
       "3 18 8  318 150.0 3436 11.0 70 1  plymouth satellite       \n",
       "4 16 8  304 150.0 3433 12.0 70 1  amc rebel sst            \n",
       "5 17 8  302 140.0 3449 10.5 70 1  ford torino              \n",
       "6 15 8  429 198.0 4341 10.0 70 1  ford galaxie 500         "
      ]
     },
     "metadata": {},
     "output_type": "display_data"
    }
   ],
   "source": [
    "head(autompg)"
   ]
  },
  {
   "cell_type": "code",
   "execution_count": 50,
   "id": "028ff0f9",
   "metadata": {},
   "outputs": [],
   "source": [
    "colnames(autompg) = c(\"mpg\", \"cyl\", \"disp\", \"hp\", \"wt\", \"acc\", \"year\", \"origin\", \"name\") #nadaje nazwy kolumnom"
   ]
  },
  {
   "cell_type": "code",
   "execution_count": 51,
   "id": "199b196f",
   "metadata": {},
   "outputs": [],
   "source": [
    "autompg = subset(autompg, autompg$hp != \"?\") #kasujemy brakujące dane (tam gdzie jest ?)"
   ]
  },
  {
   "cell_type": "code",
   "execution_count": 52,
   "id": "bafba9ee",
   "metadata": {},
   "outputs": [],
   "source": [
    "autompg = subset(autompg, autompg$name != \"plymouth reliant\") #usuwam \"playmouth reliant\" (z pewnych powodow)"
   ]
  },
  {
   "cell_type": "code",
   "execution_count": 54,
   "id": "a231a000",
   "metadata": {},
   "outputs": [],
   "source": [
    "rownames(autompg) = paste(autompg$cyl, \"cylinder\", autompg$year, autompg$name) #nazywam wiersze"
   ]
  },
  {
   "cell_type": "code",
   "execution_count": 55,
   "id": "a47e49f4",
   "metadata": {},
   "outputs": [
    {
     "data": {
      "text/html": [
       "<table>\n",
       "<thead><tr><th></th><th scope=col>mpg</th><th scope=col>cyl</th><th scope=col>disp</th><th scope=col>hp</th><th scope=col>wt</th><th scope=col>acc</th><th scope=col>year</th><th scope=col>origin</th><th scope=col>name</th></tr></thead>\n",
       "<tbody>\n",
       "\t<tr><th scope=row>8 cylinder 70 chevrolet chevelle malibu</th><td>18                       </td><td>8                        </td><td>307                      </td><td>130.0                    </td><td>3504                     </td><td>12.0                     </td><td>70                       </td><td>1                        </td><td>chevrolet chevelle malibu</td></tr>\n",
       "\t<tr><th scope=row>8 cylinder 70 buick skylark 320</th><td>15                       </td><td>8                        </td><td>350                      </td><td>165.0                    </td><td>3693                     </td><td>11.5                     </td><td>70                       </td><td>1                        </td><td>buick skylark 320        </td></tr>\n",
       "\t<tr><th scope=row>8 cylinder 70 plymouth satellite</th><td>18                       </td><td>8                        </td><td>318                      </td><td>150.0                    </td><td>3436                     </td><td>11.0                     </td><td>70                       </td><td>1                        </td><td>plymouth satellite       </td></tr>\n",
       "\t<tr><th scope=row>8 cylinder 70 amc rebel sst</th><td>16                       </td><td>8                        </td><td>304                      </td><td>150.0                    </td><td>3433                     </td><td>12.0                     </td><td>70                       </td><td>1                        </td><td>amc rebel sst            </td></tr>\n",
       "\t<tr><th scope=row>8 cylinder 70 ford torino</th><td>17                       </td><td>8                        </td><td>302                      </td><td>140.0                    </td><td>3449                     </td><td>10.5                     </td><td>70                       </td><td>1                        </td><td>ford torino              </td></tr>\n",
       "\t<tr><th scope=row>8 cylinder 70 ford galaxie 500</th><td>15                       </td><td>8                        </td><td>429                      </td><td>198.0                    </td><td>4341                     </td><td>10.0                     </td><td>70                       </td><td>1                        </td><td>ford galaxie 500         </td></tr>\n",
       "</tbody>\n",
       "</table>\n"
      ],
      "text/latex": [
       "\\begin{tabular}{r|lllllllll}\n",
       "  & mpg & cyl & disp & hp & wt & acc & year & origin & name\\\\\n",
       "\\hline\n",
       "\t8 cylinder 70 chevrolet chevelle malibu & 18                        & 8                         & 307                       & 130.0                     & 3504                      & 12.0                      & 70                        & 1                         & chevrolet chevelle malibu\\\\\n",
       "\t8 cylinder 70 buick skylark 320 & 15                        & 8                         & 350                       & 165.0                     & 3693                      & 11.5                      & 70                        & 1                         & buick skylark 320        \\\\\n",
       "\t8 cylinder 70 plymouth satellite & 18                        & 8                         & 318                       & 150.0                     & 3436                      & 11.0                      & 70                        & 1                         & plymouth satellite       \\\\\n",
       "\t8 cylinder 70 amc rebel sst & 16                        & 8                         & 304                       & 150.0                     & 3433                      & 12.0                      & 70                        & 1                         & amc rebel sst            \\\\\n",
       "\t8 cylinder 70 ford torino & 17                        & 8                         & 302                       & 140.0                     & 3449                      & 10.5                      & 70                        & 1                         & ford torino              \\\\\n",
       "\t8 cylinder 70 ford galaxie 500 & 15                        & 8                         & 429                       & 198.0                     & 4341                      & 10.0                      & 70                        & 1                         & ford galaxie 500         \\\\\n",
       "\\end{tabular}\n"
      ],
      "text/markdown": [
       "\n",
       "| <!--/--> | mpg | cyl | disp | hp | wt | acc | year | origin | name |\n",
       "|---|---|---|---|---|---|---|---|---|---|\n",
       "| 8 cylinder 70 chevrolet chevelle malibu | 18                        | 8                         | 307                       | 130.0                     | 3504                      | 12.0                      | 70                        | 1                         | chevrolet chevelle malibu |\n",
       "| 8 cylinder 70 buick skylark 320 | 15                        | 8                         | 350                       | 165.0                     | 3693                      | 11.5                      | 70                        | 1                         | buick skylark 320         |\n",
       "| 8 cylinder 70 plymouth satellite | 18                        | 8                         | 318                       | 150.0                     | 3436                      | 11.0                      | 70                        | 1                         | plymouth satellite        |\n",
       "| 8 cylinder 70 amc rebel sst | 16                        | 8                         | 304                       | 150.0                     | 3433                      | 12.0                      | 70                        | 1                         | amc rebel sst             |\n",
       "| 8 cylinder 70 ford torino | 17                        | 8                         | 302                       | 140.0                     | 3449                      | 10.5                      | 70                        | 1                         | ford torino               |\n",
       "| 8 cylinder 70 ford galaxie 500 | 15                        | 8                         | 429                       | 198.0                     | 4341                      | 10.0                      | 70                        | 1                         | ford galaxie 500          |\n",
       "\n"
      ],
      "text/plain": [
       "                                        mpg cyl disp hp    wt   acc  year\n",
       "8 cylinder 70 chevrolet chevelle malibu 18  8   307  130.0 3504 12.0 70  \n",
       "8 cylinder 70 buick skylark 320         15  8   350  165.0 3693 11.5 70  \n",
       "8 cylinder 70 plymouth satellite        18  8   318  150.0 3436 11.0 70  \n",
       "8 cylinder 70 amc rebel sst             16  8   304  150.0 3433 12.0 70  \n",
       "8 cylinder 70 ford torino               17  8   302  140.0 3449 10.5 70  \n",
       "8 cylinder 70 ford galaxie 500          15  8   429  198.0 4341 10.0 70  \n",
       "                                        origin name                     \n",
       "8 cylinder 70 chevrolet chevelle malibu 1      chevrolet chevelle malibu\n",
       "8 cylinder 70 buick skylark 320         1      buick skylark 320        \n",
       "8 cylinder 70 plymouth satellite        1      plymouth satellite       \n",
       "8 cylinder 70 amc rebel sst             1      amc rebel sst            \n",
       "8 cylinder 70 ford torino               1      ford torino              \n",
       "8 cylinder 70 ford galaxie 500          1      ford galaxie 500         "
      ]
     },
     "metadata": {},
     "output_type": "display_data"
    }
   ],
   "source": [
    "head(autompg) #mpg = miles per gallon (zużycie paliwa)"
   ]
  },
  {
   "cell_type": "code",
   "execution_count": 56,
   "id": "4adea4f7",
   "metadata": {},
   "outputs": [
    {
     "data": {
      "text/html": [
       "<table>\n",
       "<thead><tr><th></th><th scope=col>mpg</th><th scope=col>cyl</th><th scope=col>disp</th><th scope=col>hp</th><th scope=col>wt</th><th scope=col>acc</th><th scope=col>year</th></tr></thead>\n",
       "<tbody>\n",
       "\t<tr><th scope=row>8 cylinder 70 chevrolet chevelle malibu</th><td>18   </td><td>8    </td><td>307  </td><td>130.0</td><td>3504 </td><td>12.0 </td><td>70   </td></tr>\n",
       "\t<tr><th scope=row>8 cylinder 70 buick skylark 320</th><td>15   </td><td>8    </td><td>350  </td><td>165.0</td><td>3693 </td><td>11.5 </td><td>70   </td></tr>\n",
       "\t<tr><th scope=row>8 cylinder 70 plymouth satellite</th><td>18   </td><td>8    </td><td>318  </td><td>150.0</td><td>3436 </td><td>11.0 </td><td>70   </td></tr>\n",
       "\t<tr><th scope=row>8 cylinder 70 amc rebel sst</th><td>16   </td><td>8    </td><td>304  </td><td>150.0</td><td>3433 </td><td>12.0 </td><td>70   </td></tr>\n",
       "\t<tr><th scope=row>8 cylinder 70 ford torino</th><td>17   </td><td>8    </td><td>302  </td><td>140.0</td><td>3449 </td><td>10.5 </td><td>70   </td></tr>\n",
       "\t<tr><th scope=row>8 cylinder 70 ford galaxie 500</th><td>15   </td><td>8    </td><td>429  </td><td>198.0</td><td>4341 </td><td>10.0 </td><td>70   </td></tr>\n",
       "</tbody>\n",
       "</table>\n"
      ],
      "text/latex": [
       "\\begin{tabular}{r|lllllll}\n",
       "  & mpg & cyl & disp & hp & wt & acc & year\\\\\n",
       "\\hline\n",
       "\t8 cylinder 70 chevrolet chevelle malibu & 18    & 8     & 307   & 130.0 & 3504  & 12.0  & 70   \\\\\n",
       "\t8 cylinder 70 buick skylark 320 & 15    & 8     & 350   & 165.0 & 3693  & 11.5  & 70   \\\\\n",
       "\t8 cylinder 70 plymouth satellite & 18    & 8     & 318   & 150.0 & 3436  & 11.0  & 70   \\\\\n",
       "\t8 cylinder 70 amc rebel sst & 16    & 8     & 304   & 150.0 & 3433  & 12.0  & 70   \\\\\n",
       "\t8 cylinder 70 ford torino & 17    & 8     & 302   & 140.0 & 3449  & 10.5  & 70   \\\\\n",
       "\t8 cylinder 70 ford galaxie 500 & 15    & 8     & 429   & 198.0 & 4341  & 10.0  & 70   \\\\\n",
       "\\end{tabular}\n"
      ],
      "text/markdown": [
       "\n",
       "| <!--/--> | mpg | cyl | disp | hp | wt | acc | year |\n",
       "|---|---|---|---|---|---|---|---|\n",
       "| 8 cylinder 70 chevrolet chevelle malibu | 18    | 8     | 307   | 130.0 | 3504  | 12.0  | 70    |\n",
       "| 8 cylinder 70 buick skylark 320 | 15    | 8     | 350   | 165.0 | 3693  | 11.5  | 70    |\n",
       "| 8 cylinder 70 plymouth satellite | 18    | 8     | 318   | 150.0 | 3436  | 11.0  | 70    |\n",
       "| 8 cylinder 70 amc rebel sst | 16    | 8     | 304   | 150.0 | 3433  | 12.0  | 70    |\n",
       "| 8 cylinder 70 ford torino | 17    | 8     | 302   | 140.0 | 3449  | 10.5  | 70    |\n",
       "| 8 cylinder 70 ford galaxie 500 | 15    | 8     | 429   | 198.0 | 4341  | 10.0  | 70    |\n",
       "\n"
      ],
      "text/plain": [
       "                                        mpg cyl disp hp    wt   acc  year\n",
       "8 cylinder 70 chevrolet chevelle malibu 18  8   307  130.0 3504 12.0 70  \n",
       "8 cylinder 70 buick skylark 320         15  8   350  165.0 3693 11.5 70  \n",
       "8 cylinder 70 plymouth satellite        18  8   318  150.0 3436 11.0 70  \n",
       "8 cylinder 70 amc rebel sst             16  8   304  150.0 3433 12.0 70  \n",
       "8 cylinder 70 ford torino               17  8   302  140.0 3449 10.5 70  \n",
       "8 cylinder 70 ford galaxie 500          15  8   429  198.0 4341 10.0 70  "
      ]
     },
     "metadata": {},
     "output_type": "display_data"
    }
   ],
   "source": [
    "autompg = subset(autompg, select = c(\"mpg\", \"cyl\", \"disp\", \"hp\", \"wt\", \"acc\", \"year\")) #wybieram te numeryczne kolumny\n",
    "head(autompg) "
   ]
  },
  {
   "cell_type": "code",
   "execution_count": 58,
   "id": "6fda57a8",
   "metadata": {},
   "outputs": [
    {
     "name": "stdout",
     "output_type": "stream",
     "text": [
      "'data.frame':\t390 obs. of  7 variables:\n",
      " $ mpg : num  18 15 18 16 17 15 14 14 14 15 ...\n",
      " $ cyl : int  8 8 8 8 8 8 8 8 8 8 ...\n",
      " $ disp: num  307 350 318 304 302 429 454 440 455 390 ...\n",
      " $ hp  : chr  \"130.0\" \"165.0\" \"150.0\" \"150.0\" ...\n",
      " $ wt  : num  3504 3693 3436 3433 3449 ...\n",
      " $ acc : num  12 11.5 11 12 10.5 10 9 8.5 10 8.5 ...\n",
      " $ year: int  70 70 70 70 70 70 70 70 70 70 ...\n"
     ]
    }
   ],
   "source": [
    "str(autompg)  #struktura danych; hp widzi jako char :/"
   ]
  },
  {
   "cell_type": "code",
   "execution_count": 60,
   "id": "bee80bd0",
   "metadata": {},
   "outputs": [],
   "source": [
    "autompg$hp = as.numeric(autompg$hp) #przerabiam na liczbowe te kolumnę "
   ]
  },
  {
   "cell_type": "code",
   "execution_count": 61,
   "id": "16550de4",
   "metadata": {},
   "outputs": [
    {
     "data": {
      "text/plain": [
       "\n",
       "Call:\n",
       "lm(formula = mpg ~ wt + year, data = autompg)\n",
       "\n",
       "Residuals:\n",
       "   Min     1Q Median     3Q    Max \n",
       "-8.852 -2.292 -0.100  2.039 14.325 \n",
       "\n",
       "Coefficients:\n",
       "              Estimate Std. Error t value Pr(>|t|)    \n",
       "(Intercept) -1.464e+01  4.023e+00  -3.638 0.000312 ***\n",
       "wt          -6.635e-03  2.149e-04 -30.881  < 2e-16 ***\n",
       "year         7.614e-01  4.973e-02  15.312  < 2e-16 ***\n",
       "---\n",
       "Signif. codes:  0 '***' 0.001 '**' 0.01 '*' 0.05 '.' 0.1 ' ' 1\n",
       "\n",
       "Residual standard error: 3.431 on 387 degrees of freedom\n",
       "Multiple R-squared:  0.8082,\tAdjusted R-squared:  0.8072 \n",
       "F-statistic: 815.6 on 2 and 387 DF,  p-value: < 2.2e-16\n"
      ]
     },
     "metadata": {},
     "output_type": "display_data"
    }
   ],
   "source": [
    "mpg_model = lm(mpg ~ wt + year, data = autompg)\n",
    "summary(mpg_model)"
   ]
  },
  {
   "cell_type": "code",
   "execution_count": 69,
   "id": "bce70c4e",
   "metadata": {},
   "outputs": [
    {
     "data": {
      "image/png": "[encoded data removed]",
      "text/plain": [
       "Plot with title \"\""
      ]
     },
     "metadata": {},
     "output_type": "display_data"
    }
   ],
   "source": [
    "options(repr.plot.width=10, repr.plot.height=5)\n",
    "\n",
    "par(mfrow = c(2, 2));\n",
    "plot(mpg_model)"
   ]
  },
  {
   "cell_type": "code",
   "execution_count": 62,
   "id": "d4af432b",
   "metadata": {},
   "outputs": [
    {
     "data": {
      "text/html": [
       "3.43136679934584"
      ],
      "text/latex": [
       "3.43136679934584"
      ],
      "text/markdown": [
       "3.43136679934584"
      ],
      "text/plain": [
       "[1] 3.431367"
      ]
     },
     "metadata": {},
     "output_type": "display_data"
    }
   ],
   "source": [
    "summary(mpg_model)$sigma"
   ]
  },
  {
   "cell_type": "code",
   "execution_count": 63,
   "id": "ff08c346",
   "metadata": {},
   "outputs": [
    {
     "data": {
      "text/html": [
       "<table>\n",
       "<thead><tr><th></th><th scope=col>Estimate</th><th scope=col>Std. Error</th><th scope=col>t value</th><th scope=col>Pr(&gt;|t|)</th></tr></thead>\n",
       "<tbody>\n",
       "\t<tr><th scope=row>(Intercept)</th><td>-14.637641945</td><td>4.0233913563 </td><td> -3.638135   </td><td> 3.118311e-04</td></tr>\n",
       "\t<tr><th scope=row>wt</th><td> -0.006634876</td><td>0.0002148504 </td><td>-30.881372   </td><td>1.850466e-106</td></tr>\n",
       "\t<tr><th scope=row>year</th><td>  0.761401955</td><td>0.0497265950 </td><td> 15.311765   </td><td> 1.036597e-41</td></tr>\n",
       "</tbody>\n",
       "</table>\n"
      ],
      "text/latex": [
       "\\begin{tabular}{r|llll}\n",
       "  & Estimate & Std. Error & t value & Pr(>\\textbar{}t\\textbar{})\\\\\n",
       "\\hline\n",
       "\t(Intercept) & -14.637641945 & 4.0233913563  &  -3.638135    &  3.118311e-04\\\\\n",
       "\twt &  -0.006634876 & 0.0002148504  & -30.881372    & 1.850466e-106\\\\\n",
       "\tyear &   0.761401955 & 0.0497265950  &  15.311765    &  1.036597e-41\\\\\n",
       "\\end{tabular}\n"
      ],
      "text/markdown": [
       "\n",
       "| <!--/--> | Estimate | Std. Error | t value | Pr(>|t|) |\n",
       "|---|---|---|---|---|\n",
       "| (Intercept) | -14.637641945 | 4.0233913563  |  -3.638135    |  3.118311e-04 |\n",
       "| wt |  -0.006634876 | 0.0002148504  | -30.881372    | 1.850466e-106 |\n",
       "| year |   0.761401955 | 0.0497265950  |  15.311765    |  1.036597e-41 |\n",
       "\n"
      ],
      "text/plain": [
       "            Estimate      Std. Error   t value    Pr(>|t|)     \n",
       "(Intercept) -14.637641945 4.0233913563  -3.638135  3.118311e-04\n",
       "wt           -0.006634876 0.0002148504 -30.881372 1.850466e-106\n",
       "year          0.761401955 0.0497265950  15.311765  1.036597e-41"
      ]
     },
     "metadata": {},
     "output_type": "display_data"
    }
   ],
   "source": [
    "summary(mpg_model)$coef"
   ]
  },
  {
   "cell_type": "code",
   "execution_count": 64,
   "id": "5dfe64b5",
   "metadata": {},
   "outputs": [
    {
     "data": {
      "text/html": [
       "<dl class=dl-horizontal>\n",
       "\t<dt>(Intercept)</dt>\n",
       "\t\t<dd>-14.63764194461</dd>\n",
       "\t<dt>wt</dt>\n",
       "\t\t<dd>-0.00663487587212609</dd>\n",
       "\t<dt>year</dt>\n",
       "\t\t<dd>0.761401954960948</dd>\n",
       "</dl>\n"
      ],
      "text/latex": [
       "\\begin{description*}\n",
       "\\item[(Intercept)] -14.63764194461\n",
       "\\item[wt] -0.00663487587212609\n",
       "\\item[year] 0.761401954960948\n",
       "\\end{description*}\n"
      ],
      "text/markdown": [
       "(Intercept)\n",
       ":   -14.63764194461wt\n",
       ":   -0.00663487587212609year\n",
       ":   0.761401954960948\n",
       "\n"
      ],
      "text/plain": [
       "  (Intercept)            wt          year \n",
       "-14.637641945  -0.006634876   0.761401955 "
      ]
     },
     "metadata": {},
     "output_type": "display_data"
    }
   ],
   "source": [
    "coef(mpg_model)"
   ]
  },
  {
   "cell_type": "code",
   "execution_count": 65,
   "id": "6052dfb9",
   "metadata": {},
   "outputs": [
    {
     "data": {
      "text/html": [
       "<table>\n",
       "<thead><tr><th scope=col>wt</th><th scope=col>year</th></tr></thead>\n",
       "<tbody>\n",
       "\t<tr><td>3500</td><td>76  </td></tr>\n",
       "\t<tr><td>5000</td><td>81  </td></tr>\n",
       "</tbody>\n",
       "</table>\n"
      ],
      "text/latex": [
       "\\begin{tabular}{r|ll}\n",
       " wt & year\\\\\n",
       "\\hline\n",
       "\t 3500 & 76  \\\\\n",
       "\t 5000 & 81  \\\\\n",
       "\\end{tabular}\n"
      ],
      "text/markdown": [
       "\n",
       "| wt | year |\n",
       "|---|---|\n",
       "| 3500 | 76   |\n",
       "| 5000 | 81   |\n",
       "\n"
      ],
      "text/plain": [
       "  wt   year\n",
       "1 3500 76  \n",
       "2 5000 81  "
      ]
     },
     "metadata": {},
     "output_type": "display_data"
    }
   ],
   "source": [
    "#nowa obserwacja (waga (pounds) i rok produkcji)\n",
    "new_cars = data.frame(wt = c(3500, 5000), year = c(76, 81))\n",
    "new_cars"
   ]
  },
  {
   "cell_type": "code",
   "execution_count": 66,
   "id": "6e716384",
   "metadata": {},
   "outputs": [
    {
     "data": {
      "text/html": [
       "<table>\n",
       "<thead><tr><th scope=col>fit</th><th scope=col>lwr</th><th scope=col>upr</th></tr></thead>\n",
       "<tbody>\n",
       "\t<tr><td>20.00684</td><td>19.4712 </td><td>20.54248</td></tr>\n",
       "\t<tr><td>13.86154</td><td>12.3341 </td><td>15.38898</td></tr>\n",
       "</tbody>\n",
       "</table>\n"
      ],
      "text/latex": [
       "\\begin{tabular}{r|lll}\n",
       " fit & lwr & upr\\\\\n",
       "\\hline\n",
       "\t 20.00684 & 19.4712  & 20.54248\\\\\n",
       "\t 13.86154 & 12.3341  & 15.38898\\\\\n",
       "\\end{tabular}\n"
      ],
      "text/markdown": [
       "\n",
       "| fit | lwr | upr |\n",
       "|---|---|---|\n",
       "| 20.00684 | 19.4712  | 20.54248 |\n",
       "| 13.86154 | 12.3341  | 15.38898 |\n",
       "\n"
      ],
      "text/plain": [
       "  fit      lwr     upr     \n",
       "1 20.00684 19.4712 20.54248\n",
       "2 13.86154 12.3341 15.38898"
      ]
     },
     "metadata": {},
     "output_type": "display_data"
    }
   ],
   "source": [
    "predict(mpg_model, newdata = new_cars, interval = \"confidence\", level = 0.99) #czy mozemy ufac tym predykcjom?"
   ]
  },
  {
   "cell_type": "code",
   "execution_count": 71,
   "id": "44e8be13",
   "metadata": {},
   "outputs": [
    {
     "data": {
      "text/html": [
       "<ol class=list-inline>\n",
       "\t<li>1613</li>\n",
       "\t<li>5140</li>\n",
       "</ol>\n"
      ],
      "text/latex": [
       "\\begin{enumerate*}\n",
       "\\item 1613\n",
       "\\item 5140\n",
       "\\end{enumerate*}\n"
      ],
      "text/markdown": [
       "1. 1613\n",
       "2. 5140\n",
       "\n",
       "\n"
      ],
      "text/plain": [
       "[1] 1613 5140"
      ]
     },
     "metadata": {},
     "output_type": "display_data"
    },
    {
     "data": {
      "text/html": [
       "<ol class=list-inline>\n",
       "\t<li>70</li>\n",
       "\t<li>82</li>\n",
       "</ol>\n"
      ],
      "text/latex": [
       "\\begin{enumerate*}\n",
       "\\item 70\n",
       "\\item 82\n",
       "\\end{enumerate*}\n"
      ],
      "text/markdown": [
       "1. 70\n",
       "2. 82\n",
       "\n",
       "\n"
      ],
      "text/plain": [
       "[1] 70 82"
      ]
     },
     "metadata": {},
     "output_type": "display_data"
    }
   ],
   "source": [
    "range(autompg$wt); range(autompg$year)"
   ]
  },
  {
   "cell_type": "code",
   "execution_count": 67,
   "id": "cd2f8e00",
   "metadata": {},
   "outputs": [
    {
     "data": {
      "image/png": "[encoded data removed]",
      "text/plain": [
       "plot without title"
      ]
     },
     "metadata": {},
     "output_type": "display_data"
    }
   ],
   "source": [
    "plot(year ~ wt, data = autompg, pch = 20, col = \"dodgerblue\", cex = 1.5) \n",
    "points(new_cars, col = \"darkorange\", cex = 3, pch = \"X\")"
   ]
  },
  {
   "cell_type": "markdown",
   "id": "33b1d61d",
   "metadata": {},
   "source": [
    "Porównywanie modeli"
   ]
  },
  {
   "cell_type": "code",
   "execution_count": 77,
   "id": "ee7cf0d7",
   "metadata": {},
   "outputs": [
    {
     "name": "stdout",
     "output_type": "stream",
     "text": [
      "Analysis of Variance Table\n",
      "\n",
      "Model 1: mpg ~ 1\n",
      "Model 2: mpg ~ wt + year\n",
      "  Res.Df     RSS Df Sum of Sq      F    Pr(>F)    \n",
      "1    389 23761.7                                  \n",
      "2    387  4556.6  2     19205 815.55 < 2.2e-16 ***\n",
      "---\n",
      "Signif. codes:  0 '***' 0.001 '**' 0.01 '*' 0.05 '.' 0.1 ' ' 1\n"
     ]
    }
   ],
   "source": [
    "null_mpg_model = lm(mpg ~ 1, data = autompg) #model bez zmiennych \n",
    "full_mpg_model = lm(mpg ~ wt + year, data = autompg) #model jak poprzednio\n",
    "\n",
    "print(anova(null_mpg_model, full_mpg_model)) #porownuje dwa modele, p_value male więc wt lub year ma znaczacy wplyw na mpg"
   ]
  },
  {
   "cell_type": "markdown",
   "id": "75bd453d",
   "metadata": {},
   "source": [
    "<h4>\n",
    "Zadanie1. Rozważ plik \"dane9.txt\".\n",
    "    \n",
    "- Wyznacz współczynniki korelacji pomiędzy $x1$ a $y$, $x2$ a $y$ oraz $x3$ a $y$. Zinterpretuj ich znak i wartość.\n",
    "- Zbuduj model liniowy, gdzie $y$ zależy od wszystkich pozostałych zmiennych (model1). Które zmienne wydają się istotne?\n",
    "- Zbuduj model liniowy, gdzie $y$ zależy tylko od zmiennych wytypowanych jako istotne w poprzednim punkcie (model2).\n",
    "- Za pomocą F testu (polecenie anova) porównaj model1 i model2. \n",
    "- Skomentuj otrzymane wyniki.\n",
    "\n"
   ]
  },
  {
   "cell_type": "markdown",
   "id": "8c98ecf7",
   "metadata": {},
   "source": [
    "<h4> Kryteria oceny modelu"
   ]
  },
  {
   "cell_type": "markdown",
   "id": "3e68fd56",
   "metadata": {},
   "source": [
    "- kryterium GIC (im mniejsza wartość GIC tym lepszy model); $AIC(stats)$\n",
    "- współczynnik $R^2$ (jeżeli modele nie różnią się liczbą predyktorów, to im większy $R^2$ tym lepiej)\n",
    "- statystyka Cp Mallowsa (im mniejsza wartość tym lepszy model); $cp(locfit)$"
   ]
  },
  {
   "cell_type": "code",
   "execution_count": 32,
   "id": "a0a74325",
   "metadata": {},
   "outputs": [
    {
     "data": {
      "text/html": [
       "<table>\n",
       "<thead><tr><th scope=col>name</th><th scope=col>manuf</th><th scope=col>type</th><th scope=col>calories</th><th scope=col>protein</th><th scope=col>fat</th><th scope=col>sodium</th><th scope=col>fiber</th><th scope=col>carbo</th><th scope=col>sugars</th><th scope=col>potass</th><th scope=col>vitamins</th><th scope=col>shelf</th><th scope=col>weight</th><th scope=col>cups</th><th scope=col>rating</th></tr></thead>\n",
       "<tbody>\n",
       "\t<tr><td>100% Bran                </td><td>N                        </td><td>cold                     </td><td> 70                      </td><td>4                        </td><td>1                        </td><td>130                      </td><td>10.0                     </td><td> 5.0                     </td><td> 6                       </td><td>280                      </td><td>25                       </td><td>3                        </td><td>1                        </td><td>0.33                     </td><td>68.40297                 </td></tr>\n",
       "\t<tr><td>100% Natural Bran        </td><td>Q                        </td><td>cold                     </td><td>120                      </td><td>3                        </td><td>5                        </td><td> 15                      </td><td> 2.0                     </td><td> 8.0                     </td><td> 8                       </td><td>135                      </td><td> 0                       </td><td>3                        </td><td>1                        </td><td>1.00                     </td><td>33.98368                 </td></tr>\n",
       "\t<tr><td>All-Bran                 </td><td>K                        </td><td>cold                     </td><td> 70                      </td><td>4                        </td><td>1                        </td><td>260                      </td><td> 9.0                     </td><td> 7.0                     </td><td> 5                       </td><td>320                      </td><td>25                       </td><td>3                        </td><td>1                        </td><td>0.33                     </td><td>59.42551                 </td></tr>\n",
       "\t<tr><td>All-Bran with Extra Fiber</td><td>K                        </td><td>cold                     </td><td> 50                      </td><td>4                        </td><td>0                        </td><td>140                      </td><td>14.0                     </td><td> 8.0                     </td><td> 0                       </td><td>330                      </td><td>25                       </td><td>3                        </td><td>1                        </td><td>0.50                     </td><td>93.70491                 </td></tr>\n",
       "\t<tr><td>Almond Delight           </td><td>R                        </td><td>cold                     </td><td>110                      </td><td>2                        </td><td>2                        </td><td>200                      </td><td> 1.0                     </td><td>14.0                     </td><td> 8                       </td><td> -1                      </td><td>25                       </td><td>3                        </td><td>1                        </td><td>0.75                     </td><td>34.38484                 </td></tr>\n",
       "\t<tr><td>Apple Cinnamon Cheerios  </td><td>G                        </td><td>cold                     </td><td>110                      </td><td>2                        </td><td>2                        </td><td>180                      </td><td> 1.5                     </td><td>10.5                     </td><td>10                       </td><td> 70                      </td><td>25                       </td><td>1                        </td><td>1                        </td><td>0.75                     </td><td>29.50954                 </td></tr>\n",
       "</tbody>\n",
       "</table>\n"
      ],
      "text/latex": [
       "\\begin{tabular}{r|llllllllllllllll}\n",
       " name & manuf & type & calories & protein & fat & sodium & fiber & carbo & sugars & potass & vitamins & shelf & weight & cups & rating\\\\\n",
       "\\hline\n",
       "\t 100\\% Bran                 & N                           & cold                        &  70                         & 4                           & 1                           & 130                         & 10.0                        &  5.0                        &  6                          & 280                         & 25                          & 3                           & 1                           & 0.33                        & 68.40297                   \\\\\n",
       "\t 100\\% Natural Bran         & Q                           & cold                        & 120                         & 3                           & 5                           &  15                         &  2.0                        &  8.0                        &  8                          & 135                         &  0                          & 3                           & 1                           & 1.00                        & 33.98368                   \\\\\n",
       "\t All-Bran                  & K                         & cold                      &  70                       & 4                         & 1                         & 260                       &  9.0                      &  7.0                      &  5                        & 320                       & 25                        & 3                         & 1                         & 0.33                      & 59.42551                 \\\\\n",
       "\t All-Bran with Extra Fiber & K                         & cold                      &  50                       & 4                         & 0                         & 140                       & 14.0                      &  8.0                      &  0                        & 330                       & 25                        & 3                         & 1                         & 0.50                      & 93.70491                 \\\\\n",
       "\t Almond Delight            & R                         & cold                      & 110                       & 2                         & 2                         & 200                       &  1.0                      & 14.0                      &  8                        &  -1                       & 25                        & 3                         & 1                         & 0.75                      & 34.38484                 \\\\\n",
       "\t Apple Cinnamon Cheerios   & G                         & cold                      & 110                       & 2                         & 2                         & 180                       &  1.5                      & 10.5                      & 10                        &  70                       & 25                        & 1                         & 1                         & 0.75                      & 29.50954                 \\\\\n",
       "\\end{tabular}\n"
      ],
      "text/markdown": [
       "\n",
       "| name | manuf | type | calories | protein | fat | sodium | fiber | carbo | sugars | potass | vitamins | shelf | weight | cups | rating |\n",
       "|---|---|---|---|---|---|---|---|---|---|---|---|---|---|---|---|\n",
       "| 100% Bran                 | N                         | cold                      |  70                       | 4                         | 1                         | 130                       | 10.0                      |  5.0                      |  6                        | 280                       | 25                        | 3                         | 1                         | 0.33                      | 68.40297                  |\n",
       "| 100% Natural Bran         | Q                         | cold                      | 120                       | 3                         | 5                         |  15                       |  2.0                      |  8.0                      |  8                        | 135                       |  0                        | 3                         | 1                         | 1.00                      | 33.98368                  |\n",
       "| All-Bran                  | K                         | cold                      |  70                       | 4                         | 1                         | 260                       |  9.0                      |  7.0                      |  5                        | 320                       | 25                        | 3                         | 1                         | 0.33                      | 59.42551                  |\n",
       "| All-Bran with Extra Fiber | K                         | cold                      |  50                       | 4                         | 0                         | 140                       | 14.0                      |  8.0                      |  0                        | 330                       | 25                        | 3                         | 1                         | 0.50                      | 93.70491                  |\n",
       "| Almond Delight            | R                         | cold                      | 110                       | 2                         | 2                         | 200                       |  1.0                      | 14.0                      |  8                        |  -1                       | 25                        | 3                         | 1                         | 0.75                      | 34.38484                  |\n",
       "| Apple Cinnamon Cheerios   | G                         | cold                      | 110                       | 2                         | 2                         | 180                       |  1.5                      | 10.5                      | 10                        |  70                       | 25                        | 1                         | 1                         | 0.75                      | 29.50954                  |\n",
       "\n"
      ],
      "text/plain": [
       "  name                      manuf type calories protein fat sodium fiber carbo\n",
       "1 100% Bran                 N     cold  70      4       1   130    10.0   5.0 \n",
       "2 100% Natural Bran         Q     cold 120      3       5    15     2.0   8.0 \n",
       "3 All-Bran                  K     cold  70      4       1   260     9.0   7.0 \n",
       "4 All-Bran with Extra Fiber K     cold  50      4       0   140    14.0   8.0 \n",
       "5 Almond Delight            R     cold 110      2       2   200     1.0  14.0 \n",
       "6 Apple Cinnamon Cheerios   G     cold 110      2       2   180     1.5  10.5 \n",
       "  sugars potass vitamins shelf weight cups rating  \n",
       "1  6     280    25       3     1      0.33 68.40297\n",
       "2  8     135     0       3     1      1.00 33.98368\n",
       "3  5     320    25       3     1      0.33 59.42551\n",
       "4  0     330    25       3     1      0.50 93.70491\n",
       "5  8      -1    25       3     1      0.75 34.38484\n",
       "6 10      70    25       1     1      0.75 29.50954"
      ]
     },
     "metadata": {},
     "output_type": "display_data"
    }
   ],
   "source": [
    "library(liver) #tu są moje dane \n",
    "data(cereal) \n",
    "head(cereal)"
   ]
  },
  {
   "cell_type": "code",
   "execution_count": 37,
   "id": "d082b813",
   "metadata": {},
   "outputs": [
    {
     "data": {
      "text/plain": [
       "\n",
       "Call:\n",
       "lm(formula = rating ~ calories + protein + shelf, data = cereal)\n",
       "\n",
       "Residuals:\n",
       "    Min      1Q  Median      3Q     Max \n",
       "-12.225  -5.452  -1.078   3.927  21.063 \n",
       "\n",
       "Coefficients:\n",
       "            Estimate Std. Error t value Pr(>|t|)    \n",
       "(Intercept) 79.94741    5.55832  14.383  < 2e-16 ***\n",
       "calories    -0.50565    0.04564 -11.078  < 2e-16 ***\n",
       "protein      6.16014    0.81584   7.551  9.8e-11 ***\n",
       "shelf        0.49079    1.07776   0.455     0.65    \n",
       "---\n",
       "Signif. codes:  0 '***' 0.001 '**' 0.01 '*' 0.05 '.' 0.1 ' ' 1\n",
       "\n",
       "Residual standard error: 7.716 on 73 degrees of freedom\n",
       "Multiple R-squared:  0.7102,\tAdjusted R-squared:  0.6983 \n",
       "F-statistic: 59.62 on 3 and 73 DF,  p-value: < 2.2e-16\n"
      ]
     },
     "metadata": {},
     "output_type": "display_data"
    }
   ],
   "source": [
    "model1 = lm(rating~calories+protein+shelf, data=cereal)\n",
    "summary(model1)"
   ]
  },
  {
   "cell_type": "code",
   "execution_count": 39,
   "id": "2ea71250",
   "metadata": {},
   "outputs": [
    {
     "data": {
      "text/plain": [
       "\n",
       "Call:\n",
       "lm(formula = rating ~ calories + protein, data = cereal)\n",
       "\n",
       "Residuals:\n",
       "     Min       1Q   Median       3Q      Max \n",
       "-12.8461  -5.5013  -0.9633   3.7361  20.4813 \n",
       "\n",
       "Coefficients:\n",
       "            Estimate Std. Error t value Pr(>|t|)    \n",
       "(Intercept) 80.69321    5.28303   15.27  < 2e-16 ***\n",
       "calories    -0.50367    0.04519  -11.14  < 2e-16 ***\n",
       "protein      6.20943    0.80428    7.72 4.37e-11 ***\n",
       "---\n",
       "Signif. codes:  0 '***' 0.001 '**' 0.01 '*' 0.05 '.' 0.1 ' ' 1\n",
       "\n",
       "Residual standard error: 7.675 on 74 degrees of freedom\n",
       "Multiple R-squared:  0.7094,\tAdjusted R-squared:  0.7015 \n",
       "F-statistic:  90.3 on 2 and 74 DF,  p-value: < 2.2e-16\n"
      ]
     },
     "metadata": {},
     "output_type": "display_data"
    }
   ],
   "source": [
    "model2 = lm(rating~calories+protein, data=cereal)\n",
    "summary(model2)"
   ]
  },
  {
   "cell_type": "code",
   "execution_count": 105,
   "id": "120c78fc",
   "metadata": {},
   "outputs": [
    {
     "data": {
      "text/html": [
       "458.60721453204"
      ],
      "text/latex": [
       "458.60721453204"
      ],
      "text/markdown": [
       "458.60721453204"
      ],
      "text/plain": [
       "[1] 458.6072"
      ]
     },
     "metadata": {},
     "output_type": "display_data"
    },
    {
     "data": {
      "text/html": [
       "455.730727196921"
      ],
      "text/latex": [
       "455.730727196921"
      ],
      "text/markdown": [
       "455.730727196921"
      ],
      "text/plain": [
       "[1] 455.7307"
      ]
     },
     "metadata": {},
     "output_type": "display_data"
    }
   ],
   "source": [
    "AIC(model1); AIC(model2) #nie ma korzysci z uzywania zmiennej shelf"
   ]
  },
  {
   "cell_type": "markdown",
   "id": "6f7feb84",
   "metadata": {},
   "source": [
    "<h4> Zadanie2: Zbuduj model liniowy, opisujący $rating$ poprzez $sugars$ i $fiber$. Następnie:\n",
    "\n",
    "- Wyznacz obserwacje odstające (za pomocą metody outlierTest). Ile ich jest?\n",
    "- Wyznacz obserwacje wpływowe (za pomocą metody influence.measures). Ile ich jest?\n",
    "    \n",
    "Następnie zbuduj model liniowy, opisujący $rating$ tylko od $sugars$. Czy model ten istotnie różni się od poprzedniego (zmienna $fiber$ wnosi istotny wkład do modelu)? Wykorzystaj anova i AIC."
   ]
  },
  {
   "cell_type": "markdown",
   "id": "a8253692",
   "metadata": {},
   "source": [
    "<h4> Współliniowość zmiennych objaśniających"
   ]
  },
  {
   "cell_type": "markdown",
   "id": "a4b1ca12",
   "metadata": {},
   "source": [
    "$VIF_{j} = \\frac{1}{1-R_{j}^2}$, gdzie $R_{j}^{2}$ - współczynnik determinacji j-tej zmiennej przez pozostałe zmienne objaśniające\n",
    "\n",
    "Uwagi:\n",
    "- nie uwzględnia $y$\n",
    "- bada się tylko skorelowanie zmiennych objaśniających\n",
    "- im $R_{j}^{2}$ więkze tym mianownik mniejszy i $VIF_{j}$ większy, co oznacza silną korelacje\n",
    "- w przypadku braku korelacji $VIF_{j} = 1$ ($R_{j}^{2}=0)$\n",
    "\n",
    "Co można zrobić?\n",
    "\n",
    "- usunąć wybrane zmienne (te najbardziej skorelowane) -> efekt: zmniejszenie VIF pozostałych zmiennych\n",
    "- zastosować metodę redukcji zmiennych (np PCA)\n",
    "- wprowadzić ograniczenia na parametry modelu "
   ]
  },
  {
   "cell_type": "code",
   "execution_count": 17,
   "id": "f12b55c7",
   "metadata": {},
   "outputs": [
    {
     "data": {
      "text/html": [
       "<table>\n",
       "<thead><tr><th scope=col>x1</th><th scope=col>x2</th><th scope=col>x3</th><th scope=col>y</th></tr></thead>\n",
       "<tbody>\n",
       "\t<tr><td>0.5582598</td><td>0.4650301</td><td>2.5040964</td><td>0.5775127</td></tr>\n",
       "\t<tr><td>0.7458688</td><td>0.0439027</td><td>1.7963774</td><td>0.2516328</td></tr>\n",
       "\t<tr><td>0.3467764</td><td>0.4162582</td><td>2.5730692</td><td>0.4189995</td></tr>\n",
       "\t<tr><td>0.9618332</td><td>0.8919916</td><td>5.4237271</td><td>0.8431471</td></tr>\n",
       "\t<tr><td>0.6167986</td><td>0.4001564</td><td>2.9084295</td><td>0.7138060</td></tr>\n",
       "\t<tr><td>0.0285002</td><td>0.1332485</td><td>0.1327814</td><td>0.0792332</td></tr>\n",
       "</tbody>\n",
       "</table>\n"
      ],
      "text/latex": [
       "\\begin{tabular}{r|llll}\n",
       " x1 & x2 & x3 & y\\\\\n",
       "\\hline\n",
       "\t 0.5582598 & 0.4650301 & 2.5040964 & 0.5775127\\\\\n",
       "\t 0.7458688 & 0.0439027 & 1.7963774 & 0.2516328\\\\\n",
       "\t 0.3467764 & 0.4162582 & 2.5730692 & 0.4189995\\\\\n",
       "\t 0.9618332 & 0.8919916 & 5.4237271 & 0.8431471\\\\\n",
       "\t 0.6167986 & 0.4001564 & 2.9084295 & 0.7138060\\\\\n",
       "\t 0.0285002 & 0.1332485 & 0.1327814 & 0.0792332\\\\\n",
       "\\end{tabular}\n"
      ],
      "text/markdown": [
       "\n",
       "| x1 | x2 | x3 | y |\n",
       "|---|---|---|---|\n",
       "| 0.5582598 | 0.4650301 | 2.5040964 | 0.5775127 |\n",
       "| 0.7458688 | 0.0439027 | 1.7963774 | 0.2516328 |\n",
       "| 0.3467764 | 0.4162582 | 2.5730692 | 0.4189995 |\n",
       "| 0.9618332 | 0.8919916 | 5.4237271 | 0.8431471 |\n",
       "| 0.6167986 | 0.4001564 | 2.9084295 | 0.7138060 |\n",
       "| 0.0285002 | 0.1332485 | 0.1327814 | 0.0792332 |\n",
       "\n"
      ],
      "text/plain": [
       "  x1        x2        x3        y        \n",
       "1 0.5582598 0.4650301 2.5040964 0.5775127\n",
       "2 0.7458688 0.0439027 1.7963774 0.2516328\n",
       "3 0.3467764 0.4162582 2.5730692 0.4189995\n",
       "4 0.9618332 0.8919916 5.4237271 0.8431471\n",
       "5 0.6167986 0.4001564 2.9084295 0.7138060\n",
       "6 0.0285002 0.1332485 0.1327814 0.0792332"
      ]
     },
     "metadata": {},
     "output_type": "display_data"
    }
   ],
   "source": [
    "x1 = runif(100)\n",
    "x2 = runif(100)\n",
    "x3 = 2*x1+4*x2 + rnorm(100, 0, 0.5) #x3 to kombinacja x1 i x2 z pewnym elementem losowym\n",
    "y = runif(100)\n",
    "\n",
    "d = data.frame(x1=x1, x2=x2, x3=x3, y=y)\n",
    "head(d)"
   ]
  },
  {
   "cell_type": "code",
   "execution_count": 18,
   "id": "402749b7",
   "metadata": {},
   "outputs": [
    {
     "data": {
      "text/html": [
       "<dl class=dl-horizontal>\n",
       "\t<dt>x1</dt>\n",
       "\t\t<dd>2.44214908852403</dd>\n",
       "\t<dt>x2</dt>\n",
       "\t\t<dd>6.34935061820139</dd>\n",
       "\t<dt>x3</dt>\n",
       "\t\t<dd>7.71317921994953</dd>\n",
       "</dl>\n"
      ],
      "text/latex": [
       "\\begin{description*}\n",
       "\\item[x1] 2.44214908852403\n",
       "\\item[x2] 6.34935061820139\n",
       "\\item[x3] 7.71317921994953\n",
       "\\end{description*}\n"
      ],
      "text/markdown": [
       "x1\n",
       ":   2.44214908852403x2\n",
       ":   6.34935061820139x3\n",
       ":   7.71317921994953\n",
       "\n"
      ],
      "text/plain": [
       "      x1       x2       x3 \n",
       "2.442149 6.349351 7.713179 "
      ]
     },
     "metadata": {},
     "output_type": "display_data"
    }
   ],
   "source": [
    "library(car)\n",
    "vif(lm(y~., data = d))"
   ]
  },
  {
   "cell_type": "code",
   "execution_count": 22,
   "id": "ab8a4a20",
   "metadata": {},
   "outputs": [
    {
     "data": {
      "text/html": [
       "<dl class=dl-horizontal>\n",
       "\t<dt>x1</dt>\n",
       "\t\t<dd>1.00019686241318</dd>\n",
       "\t<dt>x2</dt>\n",
       "\t\t<dd>1.00019686241318</dd>\n",
       "</dl>\n"
      ],
      "text/latex": [
       "\\begin{description*}\n",
       "\\item[x1] 1.00019686241318\n",
       "\\item[x2] 1.00019686241318\n",
       "\\end{description*}\n"
      ],
      "text/markdown": [
       "x1\n",
       ":   1.00019686241318x2\n",
       ":   1.00019686241318\n",
       "\n"
      ],
      "text/plain": [
       "      x1       x2 \n",
       "1.000197 1.000197 "
      ]
     },
     "metadata": {},
     "output_type": "display_data"
    }
   ],
   "source": [
    "vif(lm(y~x1+x2, data = d)) #po usunięciu x3"
   ]
  },
  {
   "cell_type": "markdown",
   "id": "b9a280a3",
   "metadata": {},
   "source": [
    "<h4> Co gdy liczba regresorów porównywalna z liczbą obserwacji?"
   ]
  },
  {
   "cell_type": "code",
   "execution_count": 96,
   "id": "59769a66",
   "metadata": {},
   "outputs": [
    {
     "data": {
      "text/plain": [
       "\n",
       "Call:\n",
       "lm(formula = y ~ X)\n",
       "\n",
       "Residuals:\n",
       "         1          2          3          4          5          6          7 \n",
       " 0.0125131 -0.0565654  0.0862467 -0.0941489 -0.0353174  0.0434941 -0.0377037 \n",
       "         8          9         10         11         12         13         14 \n",
       "-0.0114015  0.0347324 -0.0269343  0.0313591 -0.0113142 -0.0410403 -0.0070840 \n",
       "        15         16         17         18         19         20         21 \n",
       " 0.0794227 -0.0357179  0.0222622 -0.0271307 -0.0212251 -0.0163842  0.0090101 \n",
       "        22         23         24         25         26         27         28 \n",
       "-0.0202205  0.0199456  0.0588207 -0.0660202 -0.0814033  0.0380632  0.0327043 \n",
       "        29         30         31         32         33         34         35 \n",
       "-0.0617573 -0.0349054  0.0182319  0.0467204 -0.0301750  0.0555329  0.0371223 \n",
       "        36         37         38         39         40         41         42 \n",
       " 0.0004916  0.0050699  0.0392406  0.0055555 -0.0249152 -0.0268437  0.0284485 \n",
       "        43         44         45         46         47         48         49 \n",
       " 0.0064862 -0.0558135 -0.0609536 -0.0160377  0.0452744 -0.0198305  0.0676452 \n",
       "        50         51         52         53         54         55         56 \n",
       " 0.0737063  0.0304489 -0.0032695 -0.0665467 -0.0046735 -0.0243372  0.0609694 \n",
       "        57         58         59         60         61         62         63 \n",
       "-0.0009773 -0.0504420  0.0178843  0.0046496  0.0156290 -0.0253041  0.0020939 \n",
       "        64         65         66         67         68         69         70 \n",
       "-0.0433301 -0.0498976  0.0064634  0.0259152 -0.0377980 -0.0321951  0.0199007 \n",
       "        71         72         73         74         75         76         77 \n",
       " 0.0066157  0.0333820  0.0051056 -0.0058936 -0.0274948 -0.0596053  0.0442168 \n",
       "        78         79         80         81         82         83         84 \n",
       "-0.0101586 -0.0192566  0.0790025  0.0387187  0.0855517  0.1153034  0.0486619 \n",
       "        85         86         87         88         89         90         91 \n",
       "-0.0051024 -0.0366231  0.0055046 -0.0380786  0.0250537 -0.0083050 -0.0252399 \n",
       "        92         93         94         95         96         97         98 \n",
       "-0.0007416  0.0147821  0.0198919 -0.0288605  0.0307513 -0.0143403  0.0132081 \n",
       "        99        100 \n",
       "-0.0735247 -0.0349644 \n",
       "\n",
       "Coefficients:\n",
       "            Estimate Std. Error t value Pr(>|t|)\n",
       "(Intercept)   5.6795     2.5302   2.245    0.267\n",
       "X1           -6.0935     2.6190  -2.327    0.258\n",
       "X2           -5.9952     2.4227  -2.475    0.244\n",
       "X3           -8.6989     3.8380  -2.267    0.265\n",
       "X4           -1.1247     0.6400  -1.757    0.329\n",
       "X5            3.5008     1.6734   2.092    0.284\n",
       "X6           -3.9721     1.9121  -2.077    0.286\n",
       "X7            1.6905     1.1945   1.415    0.392\n",
       "X8           14.7822     6.6991   2.207    0.271\n",
       "X9           -4.1792     1.7406  -2.401    0.251\n",
       "X10          -9.5766     4.4351  -2.159    0.276\n",
       "X11          -3.7975     1.8422  -2.061    0.288\n",
       "X12           7.0983     3.3818   2.099    0.283\n",
       "X13          -1.7664     0.4966  -3.557    0.174\n",
       "X14           1.8984     0.8408   2.258    0.265\n",
       "X15           8.3637     3.8530   2.171    0.275\n",
       "X16          -9.3888     4.3841  -2.142    0.278\n",
       "X17          -1.0461     0.7109  -1.472    0.380\n",
       "X18           4.9292     2.6950   1.829    0.319\n",
       "X19          -7.6917     3.4750  -2.213    0.270\n",
       "X20         -10.7811     5.1505  -2.093    0.284\n",
       "X21           8.0631     3.8075   2.118    0.281\n",
       "X22           0.7987     0.5209   1.533    0.368\n",
       "X23          -0.4023     0.2918  -1.379    0.399\n",
       "X24           1.2753     0.5303   2.405    0.251\n",
       "X25           9.1131     4.3054   2.117    0.281\n",
       "X26           0.5091     0.3598   1.415    0.392\n",
       "X27           3.7516     1.9284   1.945    0.302\n",
       "X28          12.6306     5.6521   2.235    0.268\n",
       "X29           3.1113     1.4161   2.197    0.272\n",
       "X30           5.9447     2.9345   2.026    0.292\n",
       "X31           5.1851     2.6399   1.964    0.300\n",
       "X32          -9.1756     4.2417  -2.163    0.276\n",
       "X33          -2.2968     1.2601  -1.823    0.319\n",
       "X34           6.0843     3.0310   2.007    0.294\n",
       "X35           0.1057     0.2771   0.382    0.768\n",
       "X36          -2.3547     1.0147  -2.321    0.259\n",
       "X37          -7.7709     3.4366  -2.261    0.265\n",
       "X38          -2.6176     1.3459  -1.945    0.302\n",
       "X39          -5.7195     2.3154  -2.470    0.245\n",
       "X40           2.8093     1.2336   2.277    0.263\n",
       "X41          -2.7879     0.8605  -3.240    0.191\n",
       "X42           1.5844     0.7391   2.144    0.278\n",
       "X43           5.2556     2.3611   2.226    0.269\n",
       "X44           4.4822     2.0617   2.174    0.274\n",
       "X45           4.6475     1.7801   2.611    0.233\n",
       "X46          -3.5506     1.6206  -2.191    0.273\n",
       "X47           8.7355     3.9680   2.201    0.271\n",
       "X48          -1.4911     0.4497  -3.315    0.186\n",
       "X49           4.6130     2.0233   2.280    0.263\n",
       "X50           1.6385     0.8974   1.826    0.319\n",
       "X51          12.2258     5.6225   2.174    0.274\n",
       "X52          -2.2361     1.0773  -2.076    0.286\n",
       "X53          -9.4720     4.4661  -2.121    0.280\n",
       "X54           9.2691     3.9276   2.360    0.255\n",
       "X55           4.0660     1.8369   2.214    0.270\n",
       "X56           2.0142     0.7769   2.593    0.234\n",
       "X57          -6.7786     3.3340  -2.033    0.291\n",
       "X58           4.5283     2.2776   1.988    0.297\n",
       "X59           1.9716     0.7405   2.663    0.229\n",
       "X60          -0.8871     0.4520  -1.962    0.300\n",
       "X61         -13.2171     6.0737  -2.176    0.274\n",
       "X62          -7.8029     3.7582  -2.076    0.286\n",
       "X63          -2.6656     1.2380  -2.153    0.277\n",
       "X64          -0.8955     0.3045  -2.941    0.209\n",
       "X65          -3.8333     1.8212  -2.105    0.282\n",
       "X66          -1.6924     0.6829  -2.478    0.244\n",
       "X67           1.0253     0.3268   3.137    0.196\n",
       "X68          -9.6590     4.1571  -2.323    0.259\n",
       "X69          -7.9825     3.7670  -2.119    0.281\n",
       "X70          -1.7132     0.8286  -2.068    0.287\n",
       "X71         -11.7295     5.5423  -2.116    0.281\n",
       "X72           6.5686     2.6722   2.458    0.246\n",
       "X73           0.1835     0.2916   0.629    0.642\n",
       "X74          -6.8765     3.1408  -2.189    0.273\n",
       "X75           4.3371     2.0375   2.129    0.280\n",
       "X76          -2.2119     0.9872  -2.241    0.267\n",
       "X77          12.6840     5.8699   2.161    0.276\n",
       "X78          -5.4140     2.5618  -2.113    0.281\n",
       "X79         -16.1526     7.5668  -2.135    0.279\n",
       "X80          -3.3196     1.5757  -2.107    0.282\n",
       "X81          -3.1470     1.4924  -2.109    0.282\n",
       "X82          -1.1766     0.5330  -2.207    0.271\n",
       "X83           5.3877     2.3231   2.319    0.259\n",
       "X84         -11.7033     5.4232  -2.158    0.276\n",
       "X85          -2.7317     1.5234  -1.793    0.324\n",
       "X86          -7.6820     3.7786  -2.033    0.291\n",
       "X87           4.1828     1.7716   2.361    0.255\n",
       "X88         -14.0484     6.1032  -2.302    0.261\n",
       "X89           0.5218     0.2276   2.292    0.262\n",
       "X90           4.3996     2.2099   1.991    0.296\n",
       "X91          -0.2849     0.2300  -1.239    0.432\n",
       "X92          -5.6949     2.3810  -2.392    0.252\n",
       "X93           3.7261     1.6076   2.318    0.259\n",
       "X94          -2.6442     1.1679  -2.264    0.265\n",
       "X95          -4.1576     2.0626  -2.016    0.293\n",
       "X96          -5.7323     2.5501  -2.248    0.266\n",
       "X97           8.8346     3.9476   2.238    0.268\n",
       "X98          -7.8219     3.5661  -2.193    0.272\n",
       "\n",
       "Residual standard error: 0.408 on 1 degrees of freedom\n",
       "Multiple R-squared:  0.998,\tAdjusted R-squared:  0.8066 \n",
       "F-statistic: 5.214 on 98 and 1 DF,  p-value: 0.3376\n"
      ]
     },
     "metadata": {},
     "output_type": "display_data"
    }
   ],
   "source": [
    "y = rnorm(100)\n",
    "X = matrix(rnorm(9800), 100, 98)\n",
    "\n",
    "summary(lm(y~X)) #fałszywie duze R^2"
   ]
  },
  {
   "cell_type": "code",
   "execution_count": 97,
   "id": "def5c11b",
   "metadata": {},
   "outputs": [
    {
     "data": {
      "text/html": [
       "0.998046861822486"
      ],
      "text/latex": [
       "0.998046861822486"
      ],
      "text/markdown": [
       "0.998046861822486"
      ],
      "text/plain": [
       "[1] 0.9980469"
      ]
     },
     "metadata": {},
     "output_type": "display_data"
    },
    {
     "data": {
      "text/html": [
       "0.806639320426084"
      ],
      "text/latex": [
       "0.806639320426084"
      ],
      "text/markdown": [
       "0.806639320426084"
      ],
      "text/plain": [
       "[1] 0.8066393"
      ]
     },
     "metadata": {},
     "output_type": "display_data"
    }
   ],
   "source": [
    "summary(lm(y~X))$r.squared; summary(lm(y~X))$adj.r.squared #ekstrakcja samego Multiple R-squared czy Adjusted R-squared"
   ]
  },
  {
   "cell_type": "markdown",
   "id": "4fb35342",
   "metadata": {},
   "source": [
    "<h4> Zadanie3: Rozważ $y$ jak poprzednio. Następnie wygeneruj zmienne $X$, przy czym liczbę cech zmieniaj od 1 do 100. Narysuj wykres zależności: Multiple R-squared od liczby cech. Skomentuj otrzymany wynik."
   ]
  },
  {
   "cell_type": "markdown",
   "id": "e4b01607",
   "metadata": {},
   "source": [
    "<h4> Zmienne kategoryczne"
   ]
  },
  {
   "cell_type": "code",
   "execution_count": 2,
   "id": "9e8c437c",
   "metadata": {},
   "outputs": [],
   "source": [
    "library(MASS)"
   ]
  },
  {
   "cell_type": "code",
   "execution_count": 3,
   "id": "0e67022f",
   "metadata": {},
   "outputs": [
    {
     "data": {
      "text/html": [
       "<table>\n",
       "<thead><tr><th scope=col>Sex</th><th scope=col>Wr.Hnd</th><th scope=col>NW.Hnd</th><th scope=col>W.Hnd</th><th scope=col>Fold</th><th scope=col>Pulse</th><th scope=col>Clap</th><th scope=col>Exer</th><th scope=col>Smoke</th><th scope=col>Height</th><th scope=col>M.I</th><th scope=col>Age</th></tr></thead>\n",
       "<tbody>\n",
       "\t<tr><td>Female  </td><td>18.5    </td><td>18.0    </td><td>Right   </td><td>R on L  </td><td> 92     </td><td>Left    </td><td>Some    </td><td>Never   </td><td>173.00  </td><td>Metric  </td><td>18.250  </td></tr>\n",
       "\t<tr><td>Male    </td><td>19.5    </td><td>20.5    </td><td>Left    </td><td>R on L  </td><td>104     </td><td>Left    </td><td>None    </td><td>Regul   </td><td>177.80  </td><td>Imperial</td><td>17.583  </td></tr>\n",
       "\t<tr><td>Male    </td><td>18.0    </td><td>13.3    </td><td>Right   </td><td>L on R  </td><td> 87     </td><td>Neither </td><td>None    </td><td>Occas   </td><td>    NA  </td><td>NA      </td><td>16.917  </td></tr>\n",
       "\t<tr><td>Male    </td><td>18.8    </td><td>18.9    </td><td>Right   </td><td>R on L  </td><td> NA     </td><td>Neither </td><td>None    </td><td>Never   </td><td>160.00  </td><td>Metric  </td><td>20.333  </td></tr>\n",
       "\t<tr><td>Male    </td><td>20.0    </td><td>20.0    </td><td>Right   </td><td>Neither </td><td> 35     </td><td>Right   </td><td>Some    </td><td>Never   </td><td>165.00  </td><td>Metric  </td><td>23.667  </td></tr>\n",
       "\t<tr><td>Female  </td><td>18.0    </td><td>17.7    </td><td>Right   </td><td>L on R  </td><td> 64     </td><td>Right   </td><td>Some    </td><td>Never   </td><td>172.72  </td><td>Imperial</td><td>21.000  </td></tr>\n",
       "</tbody>\n",
       "</table>\n"
      ],
      "text/latex": [
       "\\begin{tabular}{r|llllllllllll}\n",
       " Sex & Wr.Hnd & NW.Hnd & W.Hnd & Fold & Pulse & Clap & Exer & Smoke & Height & M.I & Age\\\\\n",
       "\\hline\n",
       "\t Female   & 18.5     & 18.0     & Right    & R on L   &  92      & Left     & Some     & Never    & 173.00   & Metric   & 18.250  \\\\\n",
       "\t Male     & 19.5     & 20.5     & Left     & R on L   & 104      & Left     & None     & Regul    & 177.80   & Imperial & 17.583  \\\\\n",
       "\t Male     & 18.0     & 13.3     & Right    & L on R   &  87      & Neither  & None     & Occas    &     NA   & NA       & 16.917  \\\\\n",
       "\t Male     & 18.8     & 18.9     & Right    & R on L   &  NA      & Neither  & None     & Never    & 160.00   & Metric   & 20.333  \\\\\n",
       "\t Male     & 20.0     & 20.0     & Right    & Neither  &  35      & Right    & Some     & Never    & 165.00   & Metric   & 23.667  \\\\\n",
       "\t Female   & 18.0     & 17.7     & Right    & L on R   &  64      & Right    & Some     & Never    & 172.72   & Imperial & 21.000  \\\\\n",
       "\\end{tabular}\n"
      ],
      "text/markdown": [
       "\n",
       "| Sex | Wr.Hnd | NW.Hnd | W.Hnd | Fold | Pulse | Clap | Exer | Smoke | Height | M.I | Age |\n",
       "|---|---|---|---|---|---|---|---|---|---|---|---|\n",
       "| Female   | 18.5     | 18.0     | Right    | R on L   |  92      | Left     | Some     | Never    | 173.00   | Metric   | 18.250   |\n",
       "| Male     | 19.5     | 20.5     | Left     | R on L   | 104      | Left     | None     | Regul    | 177.80   | Imperial | 17.583   |\n",
       "| Male     | 18.0     | 13.3     | Right    | L on R   |  87      | Neither  | None     | Occas    |     NA   | NA       | 16.917   |\n",
       "| Male     | 18.8     | 18.9     | Right    | R on L   |  NA      | Neither  | None     | Never    | 160.00   | Metric   | 20.333   |\n",
       "| Male     | 20.0     | 20.0     | Right    | Neither  |  35      | Right    | Some     | Never    | 165.00   | Metric   | 23.667   |\n",
       "| Female   | 18.0     | 17.7     | Right    | L on R   |  64      | Right    | Some     | Never    | 172.72   | Imperial | 21.000   |\n",
       "\n"
      ],
      "text/plain": [
       "  Sex    Wr.Hnd NW.Hnd W.Hnd Fold    Pulse Clap    Exer Smoke Height M.I     \n",
       "1 Female 18.5   18.0   Right R on L   92   Left    Some Never 173.00 Metric  \n",
       "2 Male   19.5   20.5   Left  R on L  104   Left    None Regul 177.80 Imperial\n",
       "3 Male   18.0   13.3   Right L on R   87   Neither None Occas     NA NA      \n",
       "4 Male   18.8   18.9   Right R on L   NA   Neither None Never 160.00 Metric  \n",
       "5 Male   20.0   20.0   Right Neither  35   Right   Some Never 165.00 Metric  \n",
       "6 Female 18.0   17.7   Right L on R   64   Right   Some Never 172.72 Imperial\n",
       "  Age   \n",
       "1 18.250\n",
       "2 17.583\n",
       "3 16.917\n",
       "4 20.333\n",
       "5 23.667\n",
       "6 21.000"
      ]
     },
     "metadata": {},
     "output_type": "display_data"
    }
   ],
   "source": [
    "head(survey)"
   ]
  },
  {
   "cell_type": "code",
   "execution_count": 5,
   "id": "e0f4b9f9",
   "metadata": {},
   "outputs": [
    {
     "data": {
      "image/png": "[encoded data removed]",
      "text/plain": [
       "plot without title"
      ]
     },
     "metadata": {},
     "output_type": "display_data"
    }
   ],
   "source": [
    "options(repr.plot.width=4, repr.plot.height=3)\n",
    "plot(survey$Height~survey$Sex)"
   ]
  },
  {
   "cell_type": "code",
   "execution_count": 6,
   "id": "95f3dbb6",
   "metadata": {},
   "outputs": [
    {
     "data": {
      "text/html": [
       "<dl class=dl-horizontal>\n",
       "\t<dt>Female</dt>\n",
       "\t\t<dd>165.686666666667</dd>\n",
       "\t<dt>Male</dt>\n",
       "\t\t<dd>178.826037735849</dd>\n",
       "</dl>\n"
      ],
      "text/latex": [
       "\\begin{description*}\n",
       "\\item[Female] 165.686666666667\n",
       "\\item[Male] 178.826037735849\n",
       "\\end{description*}\n"
      ],
      "text/markdown": [
       "Female\n",
       ":   165.686666666667Male\n",
       ":   178.826037735849\n",
       "\n"
      ],
      "text/plain": [
       "  Female     Male \n",
       "165.6867 178.8260 "
      ]
     },
     "metadata": {},
     "output_type": "display_data"
    }
   ],
   "source": [
    "means.sex = tapply(survey$Height,INDEX=survey$Sex,FUN=mean,na.rm=TRUE)\n",
    "means.sex"
   ]
  },
  {
   "cell_type": "code",
   "execution_count": 7,
   "id": "b27cb080",
   "metadata": {},
   "outputs": [
    {
     "data": {
      "text/plain": [
       "\n",
       "Call:\n",
       "lm(formula = Height ~ Sex, data = survey)\n",
       "\n",
       "Residuals:\n",
       "    Min      1Q  Median      3Q     Max \n",
       "-23.886  -5.667   1.174   4.358  21.174 \n",
       "\n",
       "Coefficients:\n",
       "            Estimate Std. Error t value Pr(>|t|)    \n",
       "(Intercept)  165.687      0.730  226.98   <2e-16 ***\n",
       "SexMale       13.139      1.022   12.85   <2e-16 ***\n",
       "---\n",
       "Signif. codes:  0 '***' 0.001 '**' 0.01 '*' 0.05 '.' 0.1 ' ' 1\n",
       "\n",
       "Residual standard error: 7.372 on 206 degrees of freedom\n",
       "  (29 observations deleted due to missingness)\n",
       "Multiple R-squared:  0.4449,\tAdjusted R-squared:  0.4422 \n",
       "F-statistic: 165.1 on 1 and 206 DF,  p-value: < 2.2e-16\n"
      ]
     },
     "metadata": {},
     "output_type": "display_data"
    }
   ],
   "source": [
    "survfit <- lm(Height~Sex,data=survey) #wsp dobre ale R^2 slabe; y =ax+b, gdzie x=0 -> kobieta, x=1 -> mezczyzna\n",
    "summary(survfit)"
   ]
  },
  {
   "cell_type": "code",
   "execution_count": 8,
   "id": "ced7d5a6",
   "metadata": {},
   "outputs": [
    {
     "data": {
      "image/png": "[encoded data removed]",
      "text/plain": [
       "plot without title"
      ]
     },
     "metadata": {},
     "output_type": "display_data"
    }
   ],
   "source": [
    "boxplot(Height~Smoke,data=survey)\n",
    "points(1:4,tapply(survey$Height,survey$Smoke,mean,na.rm=TRUE),pch=4)"
   ]
  },
  {
   "cell_type": "code",
   "execution_count": 9,
   "id": "bc283f46",
   "metadata": {},
   "outputs": [
    {
     "data": {
      "text/html": [
       "<dl class=dl-horizontal>\n",
       "\t<dt>Heavy</dt>\n",
       "\t\t<dd>173.772</dd>\n",
       "\t<dt>Never</dt>\n",
       "\t\t<dd>171.82</dd>\n",
       "\t<dt>Occas</dt>\n",
       "\t\t<dd>173.02875</dd>\n",
       "\t<dt>Regul</dt>\n",
       "\t\t<dd>177.417142857143</dd>\n",
       "</dl>\n"
      ],
      "text/latex": [
       "\\begin{description*}\n",
       "\\item[Heavy] 173.772\n",
       "\\item[Never] 171.82\n",
       "\\item[Occas] 173.02875\n",
       "\\item[Regul] 177.417142857143\n",
       "\\end{description*}\n"
      ],
      "text/markdown": [
       "Heavy\n",
       ":   173.772Never\n",
       ":   171.82Occas\n",
       ":   173.02875Regul\n",
       ":   177.417142857143\n",
       "\n"
      ],
      "text/plain": [
       "   Heavy    Never    Occas    Regul \n",
       "173.7720 171.8200 173.0288 177.4171 "
      ]
     },
     "metadata": {},
     "output_type": "display_data"
    }
   ],
   "source": [
    "tapply(survey$Height,INDEX=survey$Smoke,FUN=mean,na.rm=TRUE)"
   ]
  },
  {
   "cell_type": "code",
   "execution_count": 10,
   "id": "575aa7bd",
   "metadata": {},
   "outputs": [
    {
     "data": {
      "text/plain": [
       "\n",
       "Call:\n",
       "lm(formula = Height ~ Smoke, data = survey)\n",
       "\n",
       "Residuals:\n",
       "   Min     1Q Median     3Q    Max \n",
       "-25.02  -6.82  -1.64   8.18  28.18 \n",
       "\n",
       "Coefficients:\n",
       "            Estimate Std. Error t value Pr(>|t|)    \n",
       "(Intercept) 173.7720     3.1028  56.005   <2e-16 ***\n",
       "SmokeNever   -1.9520     3.1933  -0.611    0.542    \n",
       "SmokeOccas   -0.7433     3.9553  -0.188    0.851    \n",
       "SmokeRegul    3.6451     4.0625   0.897    0.371    \n",
       "---\n",
       "Signif. codes:  0 '***' 0.001 '**' 0.01 '*' 0.05 '.' 0.1 ' ' 1\n",
       "\n",
       "Residual standard error: 9.812 on 205 degrees of freedom\n",
       "  (28 observations deleted due to missingness)\n",
       "Multiple R-squared:  0.02153,\tAdjusted R-squared:  0.007214 \n",
       "F-statistic: 1.504 on 3 and 205 DF,  p-value: 0.2147\n"
      ]
     },
     "metadata": {},
     "output_type": "display_data"
    }
   ],
   "source": [
    "survfit2 <- lm(Height~Smoke,data=survey) #Heavy siedzi w wyrazie wolnym\n",
    "summary(survfit2)"
   ]
  },
  {
   "cell_type": "markdown",
   "id": "56d607c2",
   "metadata": {},
   "source": [
    "<h4> Zadanie4: Wyjaśnij skąd wzięły się wartości współczynników w powyższym modelu."
   ]
  },
  {
   "cell_type": "code",
   "execution_count": 11,
   "id": "4107aa17",
   "metadata": {},
   "outputs": [
    {
     "data": {
      "text/html": [
       "<table>\n",
       "<thead><tr><th></th><th scope=col>mpg</th><th scope=col>cyl</th><th scope=col>disp</th><th scope=col>hp</th><th scope=col>drat</th><th scope=col>wt</th><th scope=col>qsec</th><th scope=col>vs</th><th scope=col>am</th><th scope=col>gear</th><th scope=col>carb</th></tr></thead>\n",
       "<tbody>\n",
       "\t<tr><th scope=row>Mazda RX4</th><td>21.0 </td><td>6    </td><td>160  </td><td>110  </td><td>3.90 </td><td>2.620</td><td>16.46</td><td>0    </td><td>1    </td><td>4    </td><td>4    </td></tr>\n",
       "\t<tr><th scope=row>Mazda RX4 Wag</th><td>21.0 </td><td>6    </td><td>160  </td><td>110  </td><td>3.90 </td><td>2.875</td><td>17.02</td><td>0    </td><td>1    </td><td>4    </td><td>4    </td></tr>\n",
       "\t<tr><th scope=row>Datsun 710</th><td>22.8 </td><td>4    </td><td>108  </td><td> 93  </td><td>3.85 </td><td>2.320</td><td>18.61</td><td>1    </td><td>1    </td><td>4    </td><td>1    </td></tr>\n",
       "\t<tr><th scope=row>Hornet 4 Drive</th><td>21.4 </td><td>6    </td><td>258  </td><td>110  </td><td>3.08 </td><td>3.215</td><td>19.44</td><td>1    </td><td>0    </td><td>3    </td><td>1    </td></tr>\n",
       "\t<tr><th scope=row>Hornet Sportabout</th><td>18.7 </td><td>8    </td><td>360  </td><td>175  </td><td>3.15 </td><td>3.440</td><td>17.02</td><td>0    </td><td>0    </td><td>3    </td><td>2    </td></tr>\n",
       "\t<tr><th scope=row>Valiant</th><td>18.1 </td><td>6    </td><td>225  </td><td>105  </td><td>2.76 </td><td>3.460</td><td>20.22</td><td>1    </td><td>0    </td><td>3    </td><td>1    </td></tr>\n",
       "</tbody>\n",
       "</table>\n"
      ],
      "text/latex": [
       "\\begin{tabular}{r|lllllllllll}\n",
       "  & mpg & cyl & disp & hp & drat & wt & qsec & vs & am & gear & carb\\\\\n",
       "\\hline\n",
       "\tMazda RX4 & 21.0  & 6     & 160   & 110   & 3.90  & 2.620 & 16.46 & 0     & 1     & 4     & 4    \\\\\n",
       "\tMazda RX4 Wag & 21.0  & 6     & 160   & 110   & 3.90  & 2.875 & 17.02 & 0     & 1     & 4     & 4    \\\\\n",
       "\tDatsun 710 & 22.8  & 4     & 108   &  93   & 3.85  & 2.320 & 18.61 & 1     & 1     & 4     & 1    \\\\\n",
       "\tHornet 4 Drive & 21.4  & 6     & 258   & 110   & 3.08  & 3.215 & 19.44 & 1     & 0     & 3     & 1    \\\\\n",
       "\tHornet Sportabout & 18.7  & 8     & 360   & 175   & 3.15  & 3.440 & 17.02 & 0     & 0     & 3     & 2    \\\\\n",
       "\tValiant & 18.1  & 6     & 225   & 105   & 2.76  & 3.460 & 20.22 & 1     & 0     & 3     & 1    \\\\\n",
       "\\end{tabular}\n"
      ],
      "text/markdown": [
       "\n",
       "| <!--/--> | mpg | cyl | disp | hp | drat | wt | qsec | vs | am | gear | carb |\n",
       "|---|---|---|---|---|---|---|---|---|---|---|---|\n",
       "| Mazda RX4 | 21.0  | 6     | 160   | 110   | 3.90  | 2.620 | 16.46 | 0     | 1     | 4     | 4     |\n",
       "| Mazda RX4 Wag | 21.0  | 6     | 160   | 110   | 3.90  | 2.875 | 17.02 | 0     | 1     | 4     | 4     |\n",
       "| Datsun 710 | 22.8  | 4     | 108   |  93   | 3.85  | 2.320 | 18.61 | 1     | 1     | 4     | 1     |\n",
       "| Hornet 4 Drive | 21.4  | 6     | 258   | 110   | 3.08  | 3.215 | 19.44 | 1     | 0     | 3     | 1     |\n",
       "| Hornet Sportabout | 18.7  | 8     | 360   | 175   | 3.15  | 3.440 | 17.02 | 0     | 0     | 3     | 2     |\n",
       "| Valiant | 18.1  | 6     | 225   | 105   | 2.76  | 3.460 | 20.22 | 1     | 0     | 3     | 1     |\n",
       "\n"
      ],
      "text/plain": [
       "                  mpg  cyl disp hp  drat wt    qsec  vs am gear carb\n",
       "Mazda RX4         21.0 6   160  110 3.90 2.620 16.46 0  1  4    4   \n",
       "Mazda RX4 Wag     21.0 6   160  110 3.90 2.875 17.02 0  1  4    4   \n",
       "Datsun 710        22.8 4   108   93 3.85 2.320 18.61 1  1  4    1   \n",
       "Hornet 4 Drive    21.4 6   258  110 3.08 3.215 19.44 1  0  3    1   \n",
       "Hornet Sportabout 18.7 8   360  175 3.15 3.440 17.02 0  0  3    2   \n",
       "Valiant           18.1 6   225  105 2.76 3.460 20.22 1  0  3    1   "
      ]
     },
     "metadata": {},
     "output_type": "display_data"
    }
   ],
   "source": [
    "head(mtcars)"
   ]
  },
  {
   "cell_type": "code",
   "execution_count": 12,
   "id": "4b288caf",
   "metadata": {},
   "outputs": [
    {
     "data": {
      "image/png": "[encoded data removed]",
      "text/plain": [
       "plot without title"
      ]
     },
     "metadata": {},
     "output_type": "display_data"
    }
   ],
   "source": [
    "boxplot(mtcars$mpg~mtcars$cyl, xlab=\"Cylinders\", ylab=\"MPG\") #traktujemy cyl jak zmienną numeryczna"
   ]
  },
  {
   "cell_type": "code",
   "execution_count": 13,
   "id": "f8833b1c",
   "metadata": {},
   "outputs": [
    {
     "data": {
      "text/plain": [
       "\n",
       "Call:\n",
       "lm(formula = mpg ~ cyl, data = mtcars)\n",
       "\n",
       "Residuals:\n",
       "    Min      1Q  Median      3Q     Max \n",
       "-4.9814 -2.1185  0.2217  1.0717  7.5186 \n",
       "\n",
       "Coefficients:\n",
       "            Estimate Std. Error t value Pr(>|t|)    \n",
       "(Intercept)  37.8846     2.0738   18.27  < 2e-16 ***\n",
       "cyl          -2.8758     0.3224   -8.92 6.11e-10 ***\n",
       "---\n",
       "Signif. codes:  0 '***' 0.001 '**' 0.01 '*' 0.05 '.' 0.1 ' ' 1\n",
       "\n",
       "Residual standard error: 3.206 on 30 degrees of freedom\n",
       "Multiple R-squared:  0.7262,\tAdjusted R-squared:  0.7171 \n",
       "F-statistic: 79.56 on 1 and 30 DF,  p-value: 6.113e-10\n"
      ]
     },
     "metadata": {},
     "output_type": "display_data"
    }
   ],
   "source": [
    "carfit <- lm(mpg~cyl,data=mtcars)\n",
    "summary(carfit)"
   ]
  },
  {
   "cell_type": "code",
   "execution_count": 14,
   "id": "688cb4a3",
   "metadata": {},
   "outputs": [
    {
     "data": {
      "image/png": "[encoded data removed]",
      "text/plain": [
       "plot without title"
      ]
     },
     "metadata": {},
     "output_type": "display_data"
    }
   ],
   "source": [
    "plot(mtcars$mpg~mtcars$cyl, xlab=\"Cylinders\", ylab=\"MPG\")\n",
    "abline(carfit,lwd=2)"
   ]
  },
  {
   "cell_type": "code",
   "execution_count": 15,
   "id": "2cf0406b",
   "metadata": {},
   "outputs": [
    {
     "data": {
      "text/plain": [
       "\n",
       "Call:\n",
       "lm(formula = mpg ~ factor(cyl), data = mtcars)\n",
       "\n",
       "Residuals:\n",
       "    Min      1Q  Median      3Q     Max \n",
       "-5.2636 -1.8357  0.0286  1.3893  7.2364 \n",
       "\n",
       "Coefficients:\n",
       "             Estimate Std. Error t value Pr(>|t|)    \n",
       "(Intercept)   26.6636     0.9718  27.437  < 2e-16 ***\n",
       "factor(cyl)6  -6.9208     1.5583  -4.441 0.000119 ***\n",
       "factor(cyl)8 -11.5636     1.2986  -8.905 8.57e-10 ***\n",
       "---\n",
       "Signif. codes:  0 '***' 0.001 '**' 0.01 '*' 0.05 '.' 0.1 ' ' 1\n",
       "\n",
       "Residual standard error: 3.223 on 29 degrees of freedom\n",
       "Multiple R-squared:  0.7325,\tAdjusted R-squared:  0.714 \n",
       "F-statistic:  39.7 on 2 and 29 DF,  p-value: 4.979e-09\n"
      ]
     },
     "metadata": {},
     "output_type": "display_data"
    }
   ],
   "source": [
    "#jezeli chcemy traktowac jako Factor\n",
    "carfit <- lm(mpg~factor(cyl), data=mtcars)\n",
    "summary(carfit)"
   ]
  },
  {
   "cell_type": "code",
   "execution_count": 16,
   "id": "9ac32998",
   "metadata": {},
   "outputs": [
    {
     "name": "stdout",
     "output_type": "stream",
     "text": [
      " [1] 6 6 4 6 8 6 8 4 4 6 6 8 8 8 8 8 8 4 4 4 4 8 8 8 8 4 4 4 8 6 8 4\n",
      "Levels: 4 6 8\n"
     ]
    }
   ],
   "source": [
    "print(factor(mtcars$cyl))"
   ]
  },
  {
   "cell_type": "code",
   "execution_count": 17,
   "id": "4aec7f6e",
   "metadata": {},
   "outputs": [],
   "source": [
    "c1 = c(1,0,0) #6 \n",
    "c2 = c(0,1,0) #4 \n",
    "c3 = c(0,0,1) #8 "
   ]
  },
  {
   "cell_type": "code",
   "execution_count": 19,
   "id": "a7f2d088",
   "metadata": {},
   "outputs": [
    {
     "data": {
      "text/html": [
       "<table>\n",
       "<thead><tr><th></th><th scope=col>mpg</th><th scope=col>cyl</th><th scope=col>disp</th><th scope=col>hp</th><th scope=col>drat</th><th scope=col>wt</th><th scope=col>qsec</th><th scope=col>vs</th><th scope=col>am</th><th scope=col>gear</th><th scope=col>carb</th></tr></thead>\n",
       "<tbody>\n",
       "\t<tr><th scope=row>Mazda RX4</th><td>21.0 </td><td>6    </td><td>160  </td><td>110  </td><td>3.90 </td><td>2.620</td><td>16.46</td><td>0    </td><td>1    </td><td>4    </td><td>4    </td></tr>\n",
       "\t<tr><th scope=row>Mazda RX4 Wag</th><td>21.0 </td><td>6    </td><td>160  </td><td>110  </td><td>3.90 </td><td>2.875</td><td>17.02</td><td>0    </td><td>1    </td><td>4    </td><td>4    </td></tr>\n",
       "\t<tr><th scope=row>Datsun 710</th><td>22.8 </td><td>4    </td><td>108  </td><td> 93  </td><td>3.85 </td><td>2.320</td><td>18.61</td><td>1    </td><td>1    </td><td>4    </td><td>1    </td></tr>\n",
       "\t<tr><th scope=row>Hornet 4 Drive</th><td>21.4 </td><td>6    </td><td>258  </td><td>110  </td><td>3.08 </td><td>3.215</td><td>19.44</td><td>1    </td><td>0    </td><td>3    </td><td>1    </td></tr>\n",
       "\t<tr><th scope=row>Hornet Sportabout</th><td>18.7 </td><td>8    </td><td>360  </td><td>175  </td><td>3.15 </td><td>3.440</td><td>17.02</td><td>0    </td><td>0    </td><td>3    </td><td>2    </td></tr>\n",
       "\t<tr><th scope=row>Valiant</th><td>18.1 </td><td>6    </td><td>225  </td><td>105  </td><td>2.76 </td><td>3.460</td><td>20.22</td><td>1    </td><td>0    </td><td>3    </td><td>1    </td></tr>\n",
       "</tbody>\n",
       "</table>\n"
      ],
      "text/latex": [
       "\\begin{tabular}{r|lllllllllll}\n",
       "  & mpg & cyl & disp & hp & drat & wt & qsec & vs & am & gear & carb\\\\\n",
       "\\hline\n",
       "\tMazda RX4 & 21.0  & 6     & 160   & 110   & 3.90  & 2.620 & 16.46 & 0     & 1     & 4     & 4    \\\\\n",
       "\tMazda RX4 Wag & 21.0  & 6     & 160   & 110   & 3.90  & 2.875 & 17.02 & 0     & 1     & 4     & 4    \\\\\n",
       "\tDatsun 710 & 22.8  & 4     & 108   &  93   & 3.85  & 2.320 & 18.61 & 1     & 1     & 4     & 1    \\\\\n",
       "\tHornet 4 Drive & 21.4  & 6     & 258   & 110   & 3.08  & 3.215 & 19.44 & 1     & 0     & 3     & 1    \\\\\n",
       "\tHornet Sportabout & 18.7  & 8     & 360   & 175   & 3.15  & 3.440 & 17.02 & 0     & 0     & 3     & 2    \\\\\n",
       "\tValiant & 18.1  & 6     & 225   & 105   & 2.76  & 3.460 & 20.22 & 1     & 0     & 3     & 1    \\\\\n",
       "\\end{tabular}\n"
      ],
      "text/markdown": [
       "\n",
       "| <!--/--> | mpg | cyl | disp | hp | drat | wt | qsec | vs | am | gear | carb |\n",
       "|---|---|---|---|---|---|---|---|---|---|---|---|\n",
       "| Mazda RX4 | 21.0  | 6     | 160   | 110   | 3.90  | 2.620 | 16.46 | 0     | 1     | 4     | 4     |\n",
       "| Mazda RX4 Wag | 21.0  | 6     | 160   | 110   | 3.90  | 2.875 | 17.02 | 0     | 1     | 4     | 4     |\n",
       "| Datsun 710 | 22.8  | 4     | 108   |  93   | 3.85  | 2.320 | 18.61 | 1     | 1     | 4     | 1     |\n",
       "| Hornet 4 Drive | 21.4  | 6     | 258   | 110   | 3.08  | 3.215 | 19.44 | 1     | 0     | 3     | 1     |\n",
       "| Hornet Sportabout | 18.7  | 8     | 360   | 175   | 3.15  | 3.440 | 17.02 | 0     | 0     | 3     | 2     |\n",
       "| Valiant | 18.1  | 6     | 225   | 105   | 2.76  | 3.460 | 20.22 | 1     | 0     | 3     | 1     |\n",
       "\n"
      ],
      "text/plain": [
       "                  mpg  cyl disp hp  drat wt    qsec  vs am gear carb\n",
       "Mazda RX4         21.0 6   160  110 3.90 2.620 16.46 0  1  4    4   \n",
       "Mazda RX4 Wag     21.0 6   160  110 3.90 2.875 17.02 0  1  4    4   \n",
       "Datsun 710        22.8 4   108   93 3.85 2.320 18.61 1  1  4    1   \n",
       "Hornet 4 Drive    21.4 6   258  110 3.08 3.215 19.44 1  0  3    1   \n",
       "Hornet Sportabout 18.7 8   360  175 3.15 3.440 17.02 0  0  3    2   \n",
       "Valiant           18.1 6   225  105 2.76 3.460 20.22 1  0  3    1   "
      ]
     },
     "metadata": {},
     "output_type": "display_data"
    }
   ],
   "source": [
    "head(mtcars)"
   ]
  },
  {
   "cell_type": "code",
   "execution_count": 21,
   "id": "8ee0dbc8",
   "metadata": {},
   "outputs": [
    {
     "data": {
      "text/html": [
       "<dl class=dl-horizontal>\n",
       "\t<dt>4</dt>\n",
       "\t\t<dd>26.6636363636364</dd>\n",
       "\t<dt>6</dt>\n",
       "\t\t<dd>19.7428571428571</dd>\n",
       "\t<dt>8</dt>\n",
       "\t\t<dd>15.1</dd>\n",
       "</dl>\n"
      ],
      "text/latex": [
       "\\begin{description*}\n",
       "\\item[4] 26.6636363636364\n",
       "\\item[6] 19.7428571428571\n",
       "\\item[8] 15.1\n",
       "\\end{description*}\n"
      ],
      "text/markdown": [
       "4\n",
       ":   26.66363636363646\n",
       ":   19.74285714285718\n",
       ":   15.1\n",
       "\n"
      ],
      "text/plain": [
       "       4        6        8 \n",
       "26.66364 19.74286 15.10000 "
      ]
     },
     "metadata": {},
     "output_type": "display_data"
    }
   ],
   "source": [
    "tapply(mtcars$mpg,mtcars$cyl, mean)"
   ]
  },
  {
   "cell_type": "code",
   "execution_count": 22,
   "id": "be5bce8c",
   "metadata": {},
   "outputs": [
    {
     "data": {
      "text/html": [
       "26.6636"
      ],
      "text/latex": [
       "26.6636"
      ],
      "text/markdown": [
       "26.6636"
      ],
      "text/plain": [
       "[1] 26.6636"
      ]
     },
     "metadata": {},
     "output_type": "display_data"
    },
    {
     "data": {
      "text/html": [
       "19.7428"
      ],
      "text/latex": [
       "19.7428"
      ],
      "text/markdown": [
       "19.7428"
      ],
      "text/plain": [
       "[1] 19.7428"
      ]
     },
     "metadata": {},
     "output_type": "display_data"
    },
    {
     "data": {
      "text/html": [
       "15.1"
      ],
      "text/latex": [
       "15.1"
      ],
      "text/markdown": [
       "15.1"
      ],
      "text/plain": [
       "[1] 15.1"
      ]
     },
     "metadata": {},
     "output_type": "display_data"
    }
   ],
   "source": [
    "wsp = c(26.6636,-6.9208,-11.5636)\n",
    "\n",
    "dla_6 = sum(wsp*c(1,0,0))\n",
    "dla_4 = sum(wsp*c(1,1,0))\n",
    "dla_8 = sum(wsp*c(1,0,1))\n",
    "dla_6; dla_4; dla_8"
   ]
  },
  {
   "cell_type": "markdown",
   "id": "2384ef71",
   "metadata": {},
   "source": [
    "<h3> Uzupełnienie: Jeszcze raz ANOVA"
   ]
  },
  {
   "cell_type": "markdown",
   "id": "d9d88035",
   "metadata": {},
   "source": [
    "ANOVA jednoczynnikowa a regresja liniowa z jedną zmienną kategoryczną"
   ]
  },
  {
   "cell_type": "code",
   "execution_count": 23,
   "id": "370e3c1d",
   "metadata": {},
   "outputs": [
    {
     "data": {
      "text/html": [
       "<table>\n",
       "<thead><tr><th scope=col>V1</th><th scope=col>V2</th></tr></thead>\n",
       "<tbody>\n",
       "\t<tr><td> 93</td><td>s1 </td></tr>\n",
       "\t<tr><td>120</td><td>s1 </td></tr>\n",
       "\t<tr><td> 65</td><td>s1 </td></tr>\n",
       "\t<tr><td>105</td><td>s1 </td></tr>\n",
       "\t<tr><td>115</td><td>s1 </td></tr>\n",
       "\t<tr><td> 82</td><td>s1 </td></tr>\n",
       "</tbody>\n",
       "</table>\n"
      ],
      "text/latex": [
       "\\begin{tabular}{r|ll}\n",
       " V1 & V2\\\\\n",
       "\\hline\n",
       "\t  93 & s1 \\\\\n",
       "\t 120 & s1 \\\\\n",
       "\t  65 & s1 \\\\\n",
       "\t 105 & s1 \\\\\n",
       "\t 115 & s1 \\\\\n",
       "\t  82 & s1 \\\\\n",
       "\\end{tabular}\n"
      ],
      "text/markdown": [
       "\n",
       "| V1 | V2 |\n",
       "|---|---|\n",
       "|  93 | s1  |\n",
       "| 120 | s1  |\n",
       "|  65 | s1  |\n",
       "| 105 | s1  |\n",
       "| 115 | s1  |\n",
       "|  82 | s1  |\n",
       "\n"
      ],
      "text/plain": [
       "  V1  V2\n",
       "1  93 s1\n",
       "2 120 s1\n",
       "3  65 s1\n",
       "4 105 s1\n",
       "5 115 s1\n",
       "6  82 s1"
      ]
     },
     "metadata": {},
     "output_type": "display_data"
    }
   ],
   "source": [
    "data = read.table(\"dane_a.txt\", header = FALSE)\n",
    "head(data)"
   ]
  },
  {
   "cell_type": "code",
   "execution_count": 24,
   "id": "9474ef6c",
   "metadata": {},
   "outputs": [
    {
     "data": {
      "text/plain": [
       "       V1          V2    \n",
       " Min.   : 28.00   s1:15  \n",
       " 1st Qu.: 55.00   s2:11  \n",
       " Median : 78.00   s3:12  \n",
       " Mean   : 74.04   s4: 9  \n",
       " 3rd Qu.: 93.00          \n",
       " Max.   :120.00          "
      ]
     },
     "metadata": {},
     "output_type": "display_data"
    }
   ],
   "source": [
    "summary(data)"
   ]
  },
  {
   "cell_type": "code",
   "execution_count": 28,
   "id": "94ca1763",
   "metadata": {},
   "outputs": [
    {
     "data": {
      "text/plain": [
       "\n",
       "Call:\n",
       "lm(formula = V1 ~ V2, data = data)\n",
       "\n",
       "Residuals:\n",
       "    Min      1Q  Median      3Q     Max \n",
       "-29.667 -12.061  -1.455  12.111  42.250 \n",
       "\n",
       "Coefficients:\n",
       "            Estimate Std. Error t value Pr(>|t|)    \n",
       "(Intercept)   94.667      4.377  21.630  < 2e-16 ***\n",
       "V2s2         -38.212      6.729  -5.679 1.07e-06 ***\n",
       "V2s3         -36.917      6.565  -5.623 1.29e-06 ***\n",
       "V2s4         -11.778      7.147  -1.648    0.107    \n",
       "---\n",
       "Signif. codes:  0 '***' 0.001 '**' 0.01 '*' 0.05 '.' 0.1 ' ' 1\n",
       "\n",
       "Residual standard error: 16.95 on 43 degrees of freedom\n",
       "Multiple R-squared:  0.5253,\tAdjusted R-squared:  0.4922 \n",
       "F-statistic: 15.86 on 3 and 43 DF,  p-value: 4.342e-07\n"
      ]
     },
     "metadata": {},
     "output_type": "display_data"
    }
   ],
   "source": [
    "model = lm(V1~V2,data=data) \n",
    "summary(model)"
   ]
  },
  {
   "cell_type": "code",
   "execution_count": 29,
   "id": "617d32c9",
   "metadata": {},
   "outputs": [
    {
     "data": {
      "text/plain": [
       "            Df Sum Sq Mean Sq F value   Pr(>F)    \n",
       "V2           3  13673    4558   15.86 4.34e-07 ***\n",
       "Residuals   43  12355     287                     \n",
       "---\n",
       "Signif. codes:  0 '***' 0.001 '**' 0.01 '*' 0.05 '.' 0.1 ' ' 1"
      ]
     },
     "metadata": {},
     "output_type": "display_data"
    }
   ],
   "source": [
    "summary(aov(V1~V2,data=data))"
   ]
  },
  {
   "cell_type": "code",
   "execution_count": 30,
   "id": "6e736811",
   "metadata": {},
   "outputs": [
    {
     "data": {
      "text/html": [
       "16.9410743460974"
      ],
      "text/latex": [
       "16.9410743460974"
      ],
      "text/markdown": [
       "16.9410743460974"
      ],
      "text/plain": [
       "[1] 16.94107"
      ]
     },
     "metadata": {},
     "output_type": "display_data"
    }
   ],
   "source": [
    "sqrt(287)"
   ]
  },
  {
   "cell_type": "markdown",
   "id": "a53d1983",
   "metadata": {},
   "source": [
    "<h4> Skąd to się wzięło?"
   ]
  },
  {
   "cell_type": "code",
   "execution_count": 40,
   "id": "81ad0fea",
   "metadata": {},
   "outputs": [
    {
     "data": {
      "text/html": [
       "47"
      ],
      "text/latex": [
       "47"
      ],
      "text/markdown": [
       "47"
      ],
      "text/plain": [
       "[1] 47"
      ]
     },
     "metadata": {},
     "output_type": "display_data"
    }
   ],
   "source": [
    "N = length(data$V1)\n",
    "N"
   ]
  },
  {
   "cell_type": "code",
   "execution_count": 31,
   "id": "f621a83b",
   "metadata": {},
   "outputs": [
    {
     "data": {
      "text/html": [
       "74.0425531914894"
      ],
      "text/latex": [
       "74.0425531914894"
      ],
      "text/markdown": [
       "74.0425531914894"
      ],
      "text/plain": [
       "[1] 74.04255"
      ]
     },
     "metadata": {},
     "output_type": "display_data"
    }
   ],
   "source": [
    "srednia = mean(data$V1) #srednia ze wszystkich\n",
    "srednia"
   ]
  },
  {
   "cell_type": "code",
   "execution_count": 32,
   "id": "593bdc5b",
   "metadata": {},
   "outputs": [
    {
     "data": {
      "text/html": [
       "<dl class=dl-horizontal>\n",
       "\t<dt>s1</dt>\n",
       "\t\t<dd>94.6666666666667</dd>\n",
       "\t<dt>s2</dt>\n",
       "\t\t<dd>56.4545454545455</dd>\n",
       "\t<dt>s3</dt>\n",
       "\t\t<dd>57.75</dd>\n",
       "\t<dt>s4</dt>\n",
       "\t\t<dd>82.8888888888889</dd>\n",
       "</dl>\n"
      ],
      "text/latex": [
       "\\begin{description*}\n",
       "\\item[s1] 94.6666666666667\n",
       "\\item[s2] 56.4545454545455\n",
       "\\item[s3] 57.75\n",
       "\\item[s4] 82.8888888888889\n",
       "\\end{description*}\n"
      ],
      "text/markdown": [
       "s1\n",
       ":   94.6666666666667s2\n",
       ":   56.4545454545455s3\n",
       ":   57.75s4\n",
       ":   82.8888888888889\n",
       "\n"
      ],
      "text/plain": [
       "      s1       s2       s3       s4 \n",
       "94.66667 56.45455 57.75000 82.88889 "
      ]
     },
     "metadata": {},
     "output_type": "display_data"
    }
   ],
   "source": [
    "srednie_g = tapply(data$V1, data$V2, mean) #srednie w grupach\n",
    "srednie_g"
   ]
  },
  {
   "cell_type": "code",
   "execution_count": 33,
   "id": "96e2f70e",
   "metadata": {},
   "outputs": [],
   "source": [
    "k = 4 #liczba grup"
   ]
  },
  {
   "cell_type": "code",
   "execution_count": 34,
   "id": "f21302ec",
   "metadata": {},
   "outputs": [
    {
     "data": {
      "text/html": [
       "<dl class=dl-horizontal>\n",
       "\t<dt>s1</dt>\n",
       "\t\t<dd>15</dd>\n",
       "\t<dt>s2</dt>\n",
       "\t\t<dd>11</dd>\n",
       "\t<dt>s3</dt>\n",
       "\t\t<dd>12</dd>\n",
       "\t<dt>s4</dt>\n",
       "\t\t<dd>9</dd>\n",
       "</dl>\n"
      ],
      "text/latex": [
       "\\begin{description*}\n",
       "\\item[s1] 15\n",
       "\\item[s2] 11\n",
       "\\item[s3] 12\n",
       "\\item[s4] 9\n",
       "\\end{description*}\n"
      ],
      "text/markdown": [
       "s1\n",
       ":   15s2\n",
       ":   11s3\n",
       ":   12s4\n",
       ":   9\n",
       "\n"
      ],
      "text/plain": [
       "s1 s2 s3 s4 \n",
       "15 11 12  9 "
      ]
     },
     "metadata": {},
     "output_type": "display_data"
    }
   ],
   "source": [
    "ile = tapply(data$V1, data$V2, length)\n",
    "ile"
   ]
  },
  {
   "cell_type": "code",
   "execution_count": 35,
   "id": "756fb13b",
   "metadata": {
    "scrolled": true
   },
   "outputs": [
    {
     "data": {
      "text/html": [
       "13672.7153986675"
      ],
      "text/latex": [
       "13672.7153986675"
      ],
      "text/markdown": [
       "13672.7153986675"
      ],
      "text/plain": [
       "[1] 13672.72"
      ]
     },
     "metadata": {},
     "output_type": "display_data"
    },
    {
     "data": {
      "text/html": [
       "4557.57179955584"
      ],
      "text/latex": [
       "4557.57179955584"
      ],
      "text/markdown": [
       "4557.57179955584"
      ],
      "text/plain": [
       "[1] 4557.572"
      ]
     },
     "metadata": {},
     "output_type": "display_data"
    }
   ],
   "source": [
    "sum_sq = sum(ile*(srednie_g - srednia)**2)\n",
    "MSTR = sum_sq / (k-1)\n",
    "\n",
    "sum_sq; MSTR"
   ]
  },
  {
   "cell_type": "code",
   "execution_count": 36,
   "id": "280cc175",
   "metadata": {},
   "outputs": [],
   "source": [
    "s1 = data[data$V2 == \"s1\",]$V1\n",
    "s2 = data[data$V2 == \"s2\",]$V1\n",
    "s3 = data[data$V2 == \"s3\",]$V1\n",
    "s4 = data[data$V2 == \"s4\",]$V1"
   ]
  },
  {
   "cell_type": "code",
   "execution_count": 41,
   "id": "67c94fac",
   "metadata": {},
   "outputs": [
    {
     "data": {
      "text/html": [
       "12355.1994949495"
      ],
      "text/latex": [
       "12355.1994949495"
      ],
      "text/markdown": [
       "12355.1994949495"
      ],
      "text/plain": [
       "[1] 12355.2"
      ]
     },
     "metadata": {},
     "output_type": "display_data"
    },
    {
     "data": {
      "text/html": [
       "287.330220812779"
      ],
      "text/latex": [
       "287.330220812779"
      ],
      "text/markdown": [
       "287.330220812779"
      ],
      "text/plain": [
       "[1] 287.3302"
      ]
     },
     "metadata": {},
     "output_type": "display_data"
    }
   ],
   "source": [
    "sum_sq2 = sum((s1 - srednie_g[1])**2) + sum((s2 - srednie_g[2])**2) + sum((s3 - srednie_g[3])**2) + sum((s4 - srednie_g[4])**2)\n",
    "MSE = sum_sq2/(N-k)\n",
    "sum_sq2; MSE"
   ]
  },
  {
   "cell_type": "code",
   "execution_count": 42,
   "id": "4aecf461",
   "metadata": {},
   "outputs": [
    {
     "data": {
      "text/html": [
       "15.8617906138231"
      ],
      "text/latex": [
       "15.8617906138231"
      ],
      "text/markdown": [
       "15.8617906138231"
      ],
      "text/plain": [
       "[1] 15.86179"
      ]
     },
     "metadata": {},
     "output_type": "display_data"
    }
   ],
   "source": [
    "F = MSTR/MSE #przy pewnych załozeniach F ma rozkład F–Snedecora z (k−1, n−k) stopniami swobody. Jezeli F duze (dokładniej F >= Fkn) to odrzucamy H0\n",
    "F"
   ]
  },
  {
   "cell_type": "markdown",
   "id": "ee999568",
   "metadata": {},
   "source": [
    "Kiedy F duże? Gdy licznik duży (roznice pomiedzy grupami duze) lub mianownik mały (dane slabo rozrzucone w obrębie grup)"
   ]
  }
 ],
 "metadata": {
  "kernelspec": {
   "display_name": "R",
   "language": "R",
   "name": "ir"
  },
  "language_info": {
   "codemirror_mode": "r",
   "file_extension": ".r",
   "mimetype": "text/x-r-source",
   "name": "R",
   "pygments_lexer": "r",
   "version": "3.6.1"
  }
 },
 "nbformat": 4,
 "nbformat_minor": 5
}
